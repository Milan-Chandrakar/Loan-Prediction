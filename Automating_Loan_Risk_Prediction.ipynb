{
  "nbformat": 4,
  "nbformat_minor": 0,
  "metadata": {
    "colab": {
      "provenance": []
    },
    "kernelspec": {
      "name": "python3",
      "display_name": "Python 3"
    },
    "language_info": {
      "name": "python"
    }
  },
  "cells": [
    {
      "cell_type": "code",
      "execution_count": 4,
      "metadata": {
        "id": "YPmvO7OJdggN"
      },
      "outputs": [],
      "source": [
        "#import Libraries\n",
        "import numpy as np \n",
        "import pandas as pd \n",
        "import seaborn as sns\n",
        "import matplotlib.pyplot as plt\n",
        "%matplotlib inline\n",
        "from sklearn.preprocessing import LabelEncoder\n",
        "from sklearn.preprocessing import OneHotEncoder\n",
        "from statsmodels.stats.outliers_influence import variance_inflation_factor"
      ]
    },
    {
      "cell_type": "markdown",
      "source": [
        "##LOAD DATA"
      ],
      "metadata": {
        "id": "qqz2n_fHhK05"
      }
    },
    {
      "cell_type": "code",
      "source": [
        "#Load Data\n",
        "ds1 = pd.read_csv(\"/content/Training Data.csv\")\n",
        "ds2 = pd.read_csv(\"/content/RBI DATA states_wise_population_Income.csv\")\n",
        "ds3 = pd.read_csv(\"/content/List of states by area.csv\")"
      ],
      "metadata": {
        "id": "6RI-q430euTu"
      },
      "execution_count": 10,
      "outputs": []
    },
    {
      "cell_type": "markdown",
      "source": [
        "##CLEANING DATA"
      ],
      "metadata": {
        "id": "B12oha8EhF6A"
      }
    },
    {
      "cell_type": "code",
      "source": [
        "ds1.head()"
      ],
      "metadata": {
        "colab": {
          "base_uri": "https://localhost:8080/",
          "height": 270
        },
        "id": "hduohHo2g9JL",
        "outputId": "1789c072-cfed-434d-d7bb-96a0b4a392be"
      },
      "execution_count": 11,
      "outputs": [
        {
          "output_type": "execute_result",
          "data": {
            "text/plain": [
              "   Id   Income  Age  ...  CURRENT_JOB_YRS CURRENT_HOUSE_YRS Risk_Flag\n",
              "0   1  1303834   23  ...              3.0              13.0       0.0\n",
              "1   2  7574516   40  ...              9.0              13.0       0.0\n",
              "2   3  3991815   66  ...              4.0              10.0       0.0\n",
              "3   4  6256451   41  ...              2.0              12.0       1.0\n",
              "4   5  5768871   47  ...              3.0              14.0       1.0\n",
              "\n",
              "[5 rows x 13 columns]"
            ],
            "text/html": [
              "\n",
              "  <div id=\"df-39986187-7110-4e09-bce0-d30138da7788\">\n",
              "    <div class=\"colab-df-container\">\n",
              "      <div>\n",
              "<style scoped>\n",
              "    .dataframe tbody tr th:only-of-type {\n",
              "        vertical-align: middle;\n",
              "    }\n",
              "\n",
              "    .dataframe tbody tr th {\n",
              "        vertical-align: top;\n",
              "    }\n",
              "\n",
              "    .dataframe thead th {\n",
              "        text-align: right;\n",
              "    }\n",
              "</style>\n",
              "<table border=\"1\" class=\"dataframe\">\n",
              "  <thead>\n",
              "    <tr style=\"text-align: right;\">\n",
              "      <th></th>\n",
              "      <th>Id</th>\n",
              "      <th>Income</th>\n",
              "      <th>Age</th>\n",
              "      <th>Experience</th>\n",
              "      <th>Married/Single</th>\n",
              "      <th>House_Ownership</th>\n",
              "      <th>Car_Ownership</th>\n",
              "      <th>Profession</th>\n",
              "      <th>CITY</th>\n",
              "      <th>STATE</th>\n",
              "      <th>CURRENT_JOB_YRS</th>\n",
              "      <th>CURRENT_HOUSE_YRS</th>\n",
              "      <th>Risk_Flag</th>\n",
              "    </tr>\n",
              "  </thead>\n",
              "  <tbody>\n",
              "    <tr>\n",
              "      <th>0</th>\n",
              "      <td>1</td>\n",
              "      <td>1303834</td>\n",
              "      <td>23</td>\n",
              "      <td>3.0</td>\n",
              "      <td>single</td>\n",
              "      <td>rented</td>\n",
              "      <td>no</td>\n",
              "      <td>Mechanical_engineer</td>\n",
              "      <td>Rewa</td>\n",
              "      <td>Madhya_Pradesh</td>\n",
              "      <td>3.0</td>\n",
              "      <td>13.0</td>\n",
              "      <td>0.0</td>\n",
              "    </tr>\n",
              "    <tr>\n",
              "      <th>1</th>\n",
              "      <td>2</td>\n",
              "      <td>7574516</td>\n",
              "      <td>40</td>\n",
              "      <td>10.0</td>\n",
              "      <td>single</td>\n",
              "      <td>rented</td>\n",
              "      <td>no</td>\n",
              "      <td>Software_Developer</td>\n",
              "      <td>Parbhani</td>\n",
              "      <td>Maharashtra</td>\n",
              "      <td>9.0</td>\n",
              "      <td>13.0</td>\n",
              "      <td>0.0</td>\n",
              "    </tr>\n",
              "    <tr>\n",
              "      <th>2</th>\n",
              "      <td>3</td>\n",
              "      <td>3991815</td>\n",
              "      <td>66</td>\n",
              "      <td>4.0</td>\n",
              "      <td>married</td>\n",
              "      <td>rented</td>\n",
              "      <td>no</td>\n",
              "      <td>Technical_writer</td>\n",
              "      <td>Alappuzha</td>\n",
              "      <td>Kerala</td>\n",
              "      <td>4.0</td>\n",
              "      <td>10.0</td>\n",
              "      <td>0.0</td>\n",
              "    </tr>\n",
              "    <tr>\n",
              "      <th>3</th>\n",
              "      <td>4</td>\n",
              "      <td>6256451</td>\n",
              "      <td>41</td>\n",
              "      <td>2.0</td>\n",
              "      <td>single</td>\n",
              "      <td>rented</td>\n",
              "      <td>yes</td>\n",
              "      <td>Software_Developer</td>\n",
              "      <td>Bhubaneswar</td>\n",
              "      <td>Odisha</td>\n",
              "      <td>2.0</td>\n",
              "      <td>12.0</td>\n",
              "      <td>1.0</td>\n",
              "    </tr>\n",
              "    <tr>\n",
              "      <th>4</th>\n",
              "      <td>5</td>\n",
              "      <td>5768871</td>\n",
              "      <td>47</td>\n",
              "      <td>11.0</td>\n",
              "      <td>single</td>\n",
              "      <td>rented</td>\n",
              "      <td>no</td>\n",
              "      <td>Civil_servant</td>\n",
              "      <td>Tiruchirappalli[10]</td>\n",
              "      <td>Tamil_Nadu</td>\n",
              "      <td>3.0</td>\n",
              "      <td>14.0</td>\n",
              "      <td>1.0</td>\n",
              "    </tr>\n",
              "  </tbody>\n",
              "</table>\n",
              "</div>\n",
              "      <button class=\"colab-df-convert\" onclick=\"convertToInteractive('df-39986187-7110-4e09-bce0-d30138da7788')\"\n",
              "              title=\"Convert this dataframe to an interactive table.\"\n",
              "              style=\"display:none;\">\n",
              "        \n",
              "  <svg xmlns=\"http://www.w3.org/2000/svg\" height=\"24px\"viewBox=\"0 0 24 24\"\n",
              "       width=\"24px\">\n",
              "    <path d=\"M0 0h24v24H0V0z\" fill=\"none\"/>\n",
              "    <path d=\"M18.56 5.44l.94 2.06.94-2.06 2.06-.94-2.06-.94-.94-2.06-.94 2.06-2.06.94zm-11 1L8.5 8.5l.94-2.06 2.06-.94-2.06-.94L8.5 2.5l-.94 2.06-2.06.94zm10 10l.94 2.06.94-2.06 2.06-.94-2.06-.94-.94-2.06-.94 2.06-2.06.94z\"/><path d=\"M17.41 7.96l-1.37-1.37c-.4-.4-.92-.59-1.43-.59-.52 0-1.04.2-1.43.59L10.3 9.45l-7.72 7.72c-.78.78-.78 2.05 0 2.83L4 21.41c.39.39.9.59 1.41.59.51 0 1.02-.2 1.41-.59l7.78-7.78 2.81-2.81c.8-.78.8-2.07 0-2.86zM5.41 20L4 18.59l7.72-7.72 1.47 1.35L5.41 20z\"/>\n",
              "  </svg>\n",
              "      </button>\n",
              "      \n",
              "  <style>\n",
              "    .colab-df-container {\n",
              "      display:flex;\n",
              "      flex-wrap:wrap;\n",
              "      gap: 12px;\n",
              "    }\n",
              "\n",
              "    .colab-df-convert {\n",
              "      background-color: #E8F0FE;\n",
              "      border: none;\n",
              "      border-radius: 50%;\n",
              "      cursor: pointer;\n",
              "      display: none;\n",
              "      fill: #1967D2;\n",
              "      height: 32px;\n",
              "      padding: 0 0 0 0;\n",
              "      width: 32px;\n",
              "    }\n",
              "\n",
              "    .colab-df-convert:hover {\n",
              "      background-color: #E2EBFA;\n",
              "      box-shadow: 0px 1px 2px rgba(60, 64, 67, 0.3), 0px 1px 3px 1px rgba(60, 64, 67, 0.15);\n",
              "      fill: #174EA6;\n",
              "    }\n",
              "\n",
              "    [theme=dark] .colab-df-convert {\n",
              "      background-color: #3B4455;\n",
              "      fill: #D2E3FC;\n",
              "    }\n",
              "\n",
              "    [theme=dark] .colab-df-convert:hover {\n",
              "      background-color: #434B5C;\n",
              "      box-shadow: 0px 1px 3px 1px rgba(0, 0, 0, 0.15);\n",
              "      filter: drop-shadow(0px 1px 2px rgba(0, 0, 0, 0.3));\n",
              "      fill: #FFFFFF;\n",
              "    }\n",
              "  </style>\n",
              "\n",
              "      <script>\n",
              "        const buttonEl =\n",
              "          document.querySelector('#df-39986187-7110-4e09-bce0-d30138da7788 button.colab-df-convert');\n",
              "        buttonEl.style.display =\n",
              "          google.colab.kernel.accessAllowed ? 'block' : 'none';\n",
              "\n",
              "        async function convertToInteractive(key) {\n",
              "          const element = document.querySelector('#df-39986187-7110-4e09-bce0-d30138da7788');\n",
              "          const dataTable =\n",
              "            await google.colab.kernel.invokeFunction('convertToInteractive',\n",
              "                                                     [key], {});\n",
              "          if (!dataTable) return;\n",
              "\n",
              "          const docLinkHtml = 'Like what you see? Visit the ' +\n",
              "            '<a target=\"_blank\" href=https://colab.research.google.com/notebooks/data_table.ipynb>data table notebook</a>'\n",
              "            + ' to learn more about interactive tables.';\n",
              "          element.innerHTML = '';\n",
              "          dataTable['output_type'] = 'display_data';\n",
              "          await google.colab.output.renderOutput(dataTable, element);\n",
              "          const docLink = document.createElement('div');\n",
              "          docLink.innerHTML = docLinkHtml;\n",
              "          element.appendChild(docLink);\n",
              "        }\n",
              "      </script>\n",
              "    </div>\n",
              "  </div>\n",
              "  "
            ]
          },
          "metadata": {},
          "execution_count": 11
        }
      ]
    },
    {
      "cell_type": "code",
      "source": [
        "ds1.dtypes"
      ],
      "metadata": {
        "colab": {
          "base_uri": "https://localhost:8080/"
        },
        "id": "MjFkHTsGg-mU",
        "outputId": "9e22b260-27f4-472c-92df-c20cd6d395b7"
      },
      "execution_count": 13,
      "outputs": [
        {
          "output_type": "execute_result",
          "data": {
            "text/plain": [
              "Id                     int64\n",
              "Income                 int64\n",
              "Age                    int64\n",
              "Experience           float64\n",
              "Married/Single        object\n",
              "House_Ownership       object\n",
              "Car_Ownership         object\n",
              "Profession            object\n",
              "CITY                  object\n",
              "STATE                 object\n",
              "CURRENT_JOB_YRS      float64\n",
              "CURRENT_HOUSE_YRS    float64\n",
              "Risk_Flag            float64\n",
              "dtype: object"
            ]
          },
          "metadata": {},
          "execution_count": 13
        }
      ]
    },
    {
      "cell_type": "code",
      "source": [
        "ds1.info()"
      ],
      "metadata": {
        "colab": {
          "base_uri": "https://localhost:8080/"
        },
        "id": "ibOlhdAxhTed",
        "outputId": "216013fa-0e2b-4b18-fa8b-60d41728eeae"
      },
      "execution_count": 14,
      "outputs": [
        {
          "output_type": "stream",
          "name": "stdout",
          "text": [
            "<class 'pandas.core.frame.DataFrame'>\n",
            "RangeIndex: 92704 entries, 0 to 92703\n",
            "Data columns (total 13 columns):\n",
            " #   Column             Non-Null Count  Dtype  \n",
            "---  ------             --------------  -----  \n",
            " 0   Id                 92704 non-null  int64  \n",
            " 1   Income             92704 non-null  int64  \n",
            " 2   Age                92704 non-null  int64  \n",
            " 3   Experience         92703 non-null  float64\n",
            " 4   Married/Single     92703 non-null  object \n",
            " 5   House_Ownership    92703 non-null  object \n",
            " 6   Car_Ownership      92703 non-null  object \n",
            " 7   Profession         92703 non-null  object \n",
            " 8   CITY               92703 non-null  object \n",
            " 9   STATE              92703 non-null  object \n",
            " 10  CURRENT_JOB_YRS    92703 non-null  float64\n",
            " 11  CURRENT_HOUSE_YRS  92703 non-null  float64\n",
            " 12  Risk_Flag          92703 non-null  float64\n",
            "dtypes: float64(4), int64(3), object(6)\n",
            "memory usage: 9.2+ MB\n"
          ]
        }
      ]
    },
    {
      "cell_type": "code",
      "source": [
        "ds1['STATE'].nunique()\n",
        "ds1['State']= ds1['STATE'].str.replace('_',' ',regex=True)"
      ],
      "metadata": {
        "id": "Gdxtk264hdn6"
      },
      "execution_count": 28,
      "outputs": []
    },
    {
      "cell_type": "code",
      "source": [
        "ds1['State'] = ds1['State'].str.replace('[','', regex=True)\n",
        "ds1['State'] = ds1['State'].str.replace(']', '', regex=True)"
      ],
      "metadata": {
        "id": "WNnzuEuvhmiK"
      },
      "execution_count": 38,
      "outputs": []
    },
    {
      "cell_type": "code",
      "source": [
        "ds1['State'].unique()"
      ],
      "metadata": {
        "colab": {
          "base_uri": "https://localhost:8080/"
        },
        "id": "rrw25nfMjlER",
        "outputId": "28cb9ceb-7b6a-40e6-8385-8e8fa6e6e1aa"
      },
      "execution_count": 39,
      "outputs": [
        {
          "output_type": "execute_result",
          "data": {
            "text/plain": [
              "array(['Madhya Pradesh', 'Maharashtra', 'Kerala', 'Odisha', 'Tamil Nadu',\n",
              "       'Gujarat', 'Rajasthan', 'Telangana', 'Bihar', 'Andhra Pradesh',\n",
              "       'West Bengal', 'Haryana', 'Puducherry', 'Karnataka',\n",
              "       'Uttar Pradesh', 'Himachal Pradesh', 'Punjab', 'Tripura',\n",
              "       'Uttarakhand', 'Jharkhand', 'Mizoram', 'Assam',\n",
              "       'Jammu and Kashmir', 'Delhi', 'Chhattisgarh', 'Chandigarh',\n",
              "       'Uttar Pradesh5', 'Manipur', 'Sikkim', nan], dtype=object)"
            ]
          },
          "metadata": {},
          "execution_count": 39
        }
      ]
    },
    {
      "cell_type": "code",
      "source": [
        "ds1['State'] = ds1['State'].str.replace('Uttar Pradesh5', 'Uttar Pradesh', regex=True)"
      ],
      "metadata": {
        "id": "5XHsZMJ1jycP"
      },
      "execution_count": 40,
      "outputs": []
    },
    {
      "cell_type": "code",
      "source": [
        "ds1['State'].unique()\n",
        "ds1['State'].nunique()"
      ],
      "metadata": {
        "colab": {
          "base_uri": "https://localhost:8080/"
        },
        "id": "7xLrL1zhlnuI",
        "outputId": "429f1abd-d2e6-4ed5-fb61-aabc8e20f1ce"
      },
      "execution_count": 42,
      "outputs": [
        {
          "output_type": "execute_result",
          "data": {
            "text/plain": [
              "28"
            ]
          },
          "metadata": {},
          "execution_count": 42
        }
      ]
    },
    {
      "cell_type": "code",
      "source": [
        "ds2.head()\n",
        "ds2['States_Union Territories'].nunique()"
      ],
      "metadata": {
        "colab": {
          "base_uri": "https://localhost:8080/"
        },
        "id": "zD6qABYElqB1",
        "outputId": "be137972-3d32-4457-db0f-abe4e199238b"
      },
      "execution_count": 46,
      "outputs": [
        {
          "output_type": "execute_result",
          "data": {
            "text/plain": [
              "33"
            ]
          },
          "metadata": {},
          "execution_count": 46
        }
      ]
    },
    {
      "cell_type": "code",
      "source": [
        "ds3.head()\n",
        "ds3['State (S) / Union Territory (UT)'].nunique()"
      ],
      "metadata": {
        "colab": {
          "base_uri": "https://localhost:8080/"
        },
        "id": "t3fMMT6Rl3kC",
        "outputId": "8b1fb792-ede4-4fe9-a062-d8979400154c"
      },
      "execution_count": 48,
      "outputs": [
        {
          "output_type": "execute_result",
          "data": {
            "text/plain": [
              "36"
            ]
          },
          "metadata": {},
          "execution_count": 48
        }
      ]
    },
    {
      "cell_type": "code",
      "source": [
        "ds2.rename(columns = {'States_Union Territories': 'State'}, inplace = True)\n",
        "ds3.rename(columns = {'State (S) / Union Territory (UT)': 'State'}, inplace = True)"
      ],
      "metadata": {
        "id": "SDo_aj0NmeS7"
      },
      "execution_count": 49,
      "outputs": []
    },
    {
      "cell_type": "code",
      "source": [
        "ds2.head()"
      ],
      "metadata": {
        "colab": {
          "base_uri": "https://localhost:8080/",
          "height": 319
        },
        "id": "uJ5X4Qmfm2ha",
        "outputId": "a8c7f698-6ac9-4209-a66a-d81bf9b8394e"
      },
      "execution_count": 50,
      "outputs": [
        {
          "output_type": "execute_result",
          "data": {
            "text/plain": [
              "                         State  ...  2011-census-Poverty-rate\n",
              "0  Andaman and Nicobar Islands  ...                      1.00\n",
              "1               Andhra Pradesh  ...                      9.20\n",
              "2            Arunachal Pradesh  ...                     34.67\n",
              "3                        Assam  ...                     31.98\n",
              "4                        Bihar  ...                     33.74\n",
              "\n",
              "[5 rows x 6 columns]"
            ],
            "text/html": [
              "\n",
              "  <div id=\"df-2e0be86f-7f2f-47a5-87a1-2c0be1d5d13a\">\n",
              "    <div class=\"colab-df-container\">\n",
              "      <div>\n",
              "<style scoped>\n",
              "    .dataframe tbody tr th:only-of-type {\n",
              "        vertical-align: middle;\n",
              "    }\n",
              "\n",
              "    .dataframe tbody tr th {\n",
              "        vertical-align: top;\n",
              "    }\n",
              "\n",
              "    .dataframe thead th {\n",
              "        text-align: right;\n",
              "    }\n",
              "</style>\n",
              "<table border=\"1\" class=\"dataframe\">\n",
              "  <thead>\n",
              "    <tr style=\"text-align: right;\">\n",
              "      <th></th>\n",
              "      <th>State</th>\n",
              "      <th>2020-21-GSDP</th>\n",
              "      <th>2011-census-LIT-rate</th>\n",
              "      <th>2011-census-POP</th>\n",
              "      <th>2020-21-UNEMP</th>\n",
              "      <th>2011-census-Poverty-rate</th>\n",
              "    </tr>\n",
              "  </thead>\n",
              "  <tbody>\n",
              "    <tr>\n",
              "      <th>0</th>\n",
              "      <td>Andaman and Nicobar Islands</td>\n",
              "      <td>72657400000</td>\n",
              "      <td>86.63</td>\n",
              "      <td>381000</td>\n",
              "      <td>106</td>\n",
              "      <td>1.00</td>\n",
              "    </tr>\n",
              "    <tr>\n",
              "      <th>1</th>\n",
              "      <td>Andhra Pradesh</td>\n",
              "      <td>6703215000000</td>\n",
              "      <td>67.02</td>\n",
              "      <td>49581000</td>\n",
              "      <td>60</td>\n",
              "      <td>9.20</td>\n",
              "    </tr>\n",
              "    <tr>\n",
              "      <th>2</th>\n",
              "      <td>Arunachal Pradesh</td>\n",
              "      <td>188672400000</td>\n",
              "      <td>65.39</td>\n",
              "      <td>1384000</td>\n",
              "      <td>106</td>\n",
              "      <td>34.67</td>\n",
              "    </tr>\n",
              "    <tr>\n",
              "      <th>3</th>\n",
              "      <td>Assam</td>\n",
              "      <td>2284633500000</td>\n",
              "      <td>72.19</td>\n",
              "      <td>31206000</td>\n",
              "      <td>78</td>\n",
              "      <td>31.98</td>\n",
              "    </tr>\n",
              "    <tr>\n",
              "      <th>4</th>\n",
              "      <td>Bihar</td>\n",
              "      <td>3857282042000</td>\n",
              "      <td>61.80</td>\n",
              "      <td>104099000</td>\n",
              "      <td>96</td>\n",
              "      <td>33.74</td>\n",
              "    </tr>\n",
              "  </tbody>\n",
              "</table>\n",
              "</div>\n",
              "      <button class=\"colab-df-convert\" onclick=\"convertToInteractive('df-2e0be86f-7f2f-47a5-87a1-2c0be1d5d13a')\"\n",
              "              title=\"Convert this dataframe to an interactive table.\"\n",
              "              style=\"display:none;\">\n",
              "        \n",
              "  <svg xmlns=\"http://www.w3.org/2000/svg\" height=\"24px\"viewBox=\"0 0 24 24\"\n",
              "       width=\"24px\">\n",
              "    <path d=\"M0 0h24v24H0V0z\" fill=\"none\"/>\n",
              "    <path d=\"M18.56 5.44l.94 2.06.94-2.06 2.06-.94-2.06-.94-.94-2.06-.94 2.06-2.06.94zm-11 1L8.5 8.5l.94-2.06 2.06-.94-2.06-.94L8.5 2.5l-.94 2.06-2.06.94zm10 10l.94 2.06.94-2.06 2.06-.94-2.06-.94-.94-2.06-.94 2.06-2.06.94z\"/><path d=\"M17.41 7.96l-1.37-1.37c-.4-.4-.92-.59-1.43-.59-.52 0-1.04.2-1.43.59L10.3 9.45l-7.72 7.72c-.78.78-.78 2.05 0 2.83L4 21.41c.39.39.9.59 1.41.59.51 0 1.02-.2 1.41-.59l7.78-7.78 2.81-2.81c.8-.78.8-2.07 0-2.86zM5.41 20L4 18.59l7.72-7.72 1.47 1.35L5.41 20z\"/>\n",
              "  </svg>\n",
              "      </button>\n",
              "      \n",
              "  <style>\n",
              "    .colab-df-container {\n",
              "      display:flex;\n",
              "      flex-wrap:wrap;\n",
              "      gap: 12px;\n",
              "    }\n",
              "\n",
              "    .colab-df-convert {\n",
              "      background-color: #E8F0FE;\n",
              "      border: none;\n",
              "      border-radius: 50%;\n",
              "      cursor: pointer;\n",
              "      display: none;\n",
              "      fill: #1967D2;\n",
              "      height: 32px;\n",
              "      padding: 0 0 0 0;\n",
              "      width: 32px;\n",
              "    }\n",
              "\n",
              "    .colab-df-convert:hover {\n",
              "      background-color: #E2EBFA;\n",
              "      box-shadow: 0px 1px 2px rgba(60, 64, 67, 0.3), 0px 1px 3px 1px rgba(60, 64, 67, 0.15);\n",
              "      fill: #174EA6;\n",
              "    }\n",
              "\n",
              "    [theme=dark] .colab-df-convert {\n",
              "      background-color: #3B4455;\n",
              "      fill: #D2E3FC;\n",
              "    }\n",
              "\n",
              "    [theme=dark] .colab-df-convert:hover {\n",
              "      background-color: #434B5C;\n",
              "      box-shadow: 0px 1px 3px 1px rgba(0, 0, 0, 0.15);\n",
              "      filter: drop-shadow(0px 1px 2px rgba(0, 0, 0, 0.3));\n",
              "      fill: #FFFFFF;\n",
              "    }\n",
              "  </style>\n",
              "\n",
              "      <script>\n",
              "        const buttonEl =\n",
              "          document.querySelector('#df-2e0be86f-7f2f-47a5-87a1-2c0be1d5d13a button.colab-df-convert');\n",
              "        buttonEl.style.display =\n",
              "          google.colab.kernel.accessAllowed ? 'block' : 'none';\n",
              "\n",
              "        async function convertToInteractive(key) {\n",
              "          const element = document.querySelector('#df-2e0be86f-7f2f-47a5-87a1-2c0be1d5d13a');\n",
              "          const dataTable =\n",
              "            await google.colab.kernel.invokeFunction('convertToInteractive',\n",
              "                                                     [key], {});\n",
              "          if (!dataTable) return;\n",
              "\n",
              "          const docLinkHtml = 'Like what you see? Visit the ' +\n",
              "            '<a target=\"_blank\" href=https://colab.research.google.com/notebooks/data_table.ipynb>data table notebook</a>'\n",
              "            + ' to learn more about interactive tables.';\n",
              "          element.innerHTML = '';\n",
              "          dataTable['output_type'] = 'display_data';\n",
              "          await google.colab.output.renderOutput(dataTable, element);\n",
              "          const docLink = document.createElement('div');\n",
              "          docLink.innerHTML = docLinkHtml;\n",
              "          element.appendChild(docLink);\n",
              "        }\n",
              "      </script>\n",
              "    </div>\n",
              "  </div>\n",
              "  "
            ]
          },
          "metadata": {},
          "execution_count": 50
        }
      ]
    },
    {
      "cell_type": "code",
      "source": [
        "ds4 = pd.merge(ds2,ds3,how = 'left')"
      ],
      "metadata": {
        "id": "7gGJIuE-m5cW"
      },
      "execution_count": 51,
      "outputs": []
    },
    {
      "cell_type": "code",
      "source": [
        "ds4.head()"
      ],
      "metadata": {
        "colab": {
          "base_uri": "https://localhost:8080/",
          "height": 443
        },
        "id": "DIIxBiQCm_bn",
        "outputId": "1f9f2b4c-caec-430d-a045-726103bc6675"
      },
      "execution_count": 52,
      "outputs": [
        {
          "output_type": "execute_result",
          "data": {
            "text/plain": [
              "                         State  ...  National share (%)\n",
              "0  Andaman and Nicobar Islands  ...               0.251\n",
              "1               Andhra Pradesh  ...               4.960\n",
              "2            Arunachal Pradesh  ...               2.550\n",
              "3                        Assam  ...               2.390\n",
              "4                        Bihar  ...               2.860\n",
              "\n",
              "[5 rows x 10 columns]"
            ],
            "text/html": [
              "\n",
              "  <div id=\"df-24a47d52-e24e-419a-b51b-103dd737ab3b\">\n",
              "    <div class=\"colab-df-container\">\n",
              "      <div>\n",
              "<style scoped>\n",
              "    .dataframe tbody tr th:only-of-type {\n",
              "        vertical-align: middle;\n",
              "    }\n",
              "\n",
              "    .dataframe tbody tr th {\n",
              "        vertical-align: top;\n",
              "    }\n",
              "\n",
              "    .dataframe thead th {\n",
              "        text-align: right;\n",
              "    }\n",
              "</style>\n",
              "<table border=\"1\" class=\"dataframe\">\n",
              "  <thead>\n",
              "    <tr style=\"text-align: right;\">\n",
              "      <th></th>\n",
              "      <th>State</th>\n",
              "      <th>2020-21-GSDP</th>\n",
              "      <th>2011-census-LIT-rate</th>\n",
              "      <th>2011-census-POP</th>\n",
              "      <th>2020-21-UNEMP</th>\n",
              "      <th>2011-census-Poverty-rate</th>\n",
              "      <th>Rank</th>\n",
              "      <th>Area (km2)</th>\n",
              "      <th>Region</th>\n",
              "      <th>National share (%)</th>\n",
              "    </tr>\n",
              "  </thead>\n",
              "  <tbody>\n",
              "    <tr>\n",
              "      <th>0</th>\n",
              "      <td>Andaman and Nicobar Islands</td>\n",
              "      <td>72657400000</td>\n",
              "      <td>86.63</td>\n",
              "      <td>381000</td>\n",
              "      <td>106</td>\n",
              "      <td>1.00</td>\n",
              "      <td>29 (UT3)</td>\n",
              "      <td>8,249</td>\n",
              "      <td>Bay of Bengal</td>\n",
              "      <td>0.251</td>\n",
              "    </tr>\n",
              "    <tr>\n",
              "      <th>1</th>\n",
              "      <td>Andhra Pradesh</td>\n",
              "      <td>6703215000000</td>\n",
              "      <td>67.02</td>\n",
              "      <td>49581000</td>\n",
              "      <td>60</td>\n",
              "      <td>9.20</td>\n",
              "      <td>7 (S7)</td>\n",
              "      <td>1,62,975</td>\n",
              "      <td>Southern</td>\n",
              "      <td>4.960</td>\n",
              "    </tr>\n",
              "    <tr>\n",
              "      <th>2</th>\n",
              "      <td>Arunachal Pradesh</td>\n",
              "      <td>188672400000</td>\n",
              "      <td>65.39</td>\n",
              "      <td>1384000</td>\n",
              "      <td>106</td>\n",
              "      <td>34.67</td>\n",
              "      <td>14 (S14)</td>\n",
              "      <td>83,743</td>\n",
              "      <td>Northeastern</td>\n",
              "      <td>2.550</td>\n",
              "    </tr>\n",
              "    <tr>\n",
              "      <th>3</th>\n",
              "      <td>Assam</td>\n",
              "      <td>2284633500000</td>\n",
              "      <td>72.19</td>\n",
              "      <td>31206000</td>\n",
              "      <td>78</td>\n",
              "      <td>31.98</td>\n",
              "      <td>16 (S16)</td>\n",
              "      <td>78,438</td>\n",
              "      <td>Northeastern</td>\n",
              "      <td>2.390</td>\n",
              "    </tr>\n",
              "    <tr>\n",
              "      <th>4</th>\n",
              "      <td>Bihar</td>\n",
              "      <td>3857282042000</td>\n",
              "      <td>61.80</td>\n",
              "      <td>104099000</td>\n",
              "      <td>96</td>\n",
              "      <td>33.74</td>\n",
              "      <td>12 (S12)</td>\n",
              "      <td>94,163</td>\n",
              "      <td>Eastern</td>\n",
              "      <td>2.860</td>\n",
              "    </tr>\n",
              "  </tbody>\n",
              "</table>\n",
              "</div>\n",
              "      <button class=\"colab-df-convert\" onclick=\"convertToInteractive('df-24a47d52-e24e-419a-b51b-103dd737ab3b')\"\n",
              "              title=\"Convert this dataframe to an interactive table.\"\n",
              "              style=\"display:none;\">\n",
              "        \n",
              "  <svg xmlns=\"http://www.w3.org/2000/svg\" height=\"24px\"viewBox=\"0 0 24 24\"\n",
              "       width=\"24px\">\n",
              "    <path d=\"M0 0h24v24H0V0z\" fill=\"none\"/>\n",
              "    <path d=\"M18.56 5.44l.94 2.06.94-2.06 2.06-.94-2.06-.94-.94-2.06-.94 2.06-2.06.94zm-11 1L8.5 8.5l.94-2.06 2.06-.94-2.06-.94L8.5 2.5l-.94 2.06-2.06.94zm10 10l.94 2.06.94-2.06 2.06-.94-2.06-.94-.94-2.06-.94 2.06-2.06.94z\"/><path d=\"M17.41 7.96l-1.37-1.37c-.4-.4-.92-.59-1.43-.59-.52 0-1.04.2-1.43.59L10.3 9.45l-7.72 7.72c-.78.78-.78 2.05 0 2.83L4 21.41c.39.39.9.59 1.41.59.51 0 1.02-.2 1.41-.59l7.78-7.78 2.81-2.81c.8-.78.8-2.07 0-2.86zM5.41 20L4 18.59l7.72-7.72 1.47 1.35L5.41 20z\"/>\n",
              "  </svg>\n",
              "      </button>\n",
              "      \n",
              "  <style>\n",
              "    .colab-df-container {\n",
              "      display:flex;\n",
              "      flex-wrap:wrap;\n",
              "      gap: 12px;\n",
              "    }\n",
              "\n",
              "    .colab-df-convert {\n",
              "      background-color: #E8F0FE;\n",
              "      border: none;\n",
              "      border-radius: 50%;\n",
              "      cursor: pointer;\n",
              "      display: none;\n",
              "      fill: #1967D2;\n",
              "      height: 32px;\n",
              "      padding: 0 0 0 0;\n",
              "      width: 32px;\n",
              "    }\n",
              "\n",
              "    .colab-df-convert:hover {\n",
              "      background-color: #E2EBFA;\n",
              "      box-shadow: 0px 1px 2px rgba(60, 64, 67, 0.3), 0px 1px 3px 1px rgba(60, 64, 67, 0.15);\n",
              "      fill: #174EA6;\n",
              "    }\n",
              "\n",
              "    [theme=dark] .colab-df-convert {\n",
              "      background-color: #3B4455;\n",
              "      fill: #D2E3FC;\n",
              "    }\n",
              "\n",
              "    [theme=dark] .colab-df-convert:hover {\n",
              "      background-color: #434B5C;\n",
              "      box-shadow: 0px 1px 3px 1px rgba(0, 0, 0, 0.15);\n",
              "      filter: drop-shadow(0px 1px 2px rgba(0, 0, 0, 0.3));\n",
              "      fill: #FFFFFF;\n",
              "    }\n",
              "  </style>\n",
              "\n",
              "      <script>\n",
              "        const buttonEl =\n",
              "          document.querySelector('#df-24a47d52-e24e-419a-b51b-103dd737ab3b button.colab-df-convert');\n",
              "        buttonEl.style.display =\n",
              "          google.colab.kernel.accessAllowed ? 'block' : 'none';\n",
              "\n",
              "        async function convertToInteractive(key) {\n",
              "          const element = document.querySelector('#df-24a47d52-e24e-419a-b51b-103dd737ab3b');\n",
              "          const dataTable =\n",
              "            await google.colab.kernel.invokeFunction('convertToInteractive',\n",
              "                                                     [key], {});\n",
              "          if (!dataTable) return;\n",
              "\n",
              "          const docLinkHtml = 'Like what you see? Visit the ' +\n",
              "            '<a target=\"_blank\" href=https://colab.research.google.com/notebooks/data_table.ipynb>data table notebook</a>'\n",
              "            + ' to learn more about interactive tables.';\n",
              "          element.innerHTML = '';\n",
              "          dataTable['output_type'] = 'display_data';\n",
              "          await google.colab.output.renderOutput(dataTable, element);\n",
              "          const docLink = document.createElement('div');\n",
              "          docLink.innerHTML = docLinkHtml;\n",
              "          element.appendChild(docLink);\n",
              "        }\n",
              "      </script>\n",
              "    </div>\n",
              "  </div>\n",
              "  "
            ]
          },
          "metadata": {},
          "execution_count": 52
        }
      ]
    },
    {
      "cell_type": "code",
      "source": [
        "ds4.drop(['Rank','Area (km2)','National share (%)'],axis=1,inplace=True)"
      ],
      "metadata": {
        "id": "IAqFbnamnCLV"
      },
      "execution_count": 53,
      "outputs": []
    },
    {
      "cell_type": "code",
      "source": [
        "ds4['Region'].unique()"
      ],
      "metadata": {
        "colab": {
          "base_uri": "https://localhost:8080/"
        },
        "id": "n-_0NOz0nPRP",
        "outputId": "401e3570-62b9-46fb-bccb-246eeebd6543"
      },
      "execution_count": 54,
      "outputs": [
        {
          "output_type": "execute_result",
          "data": {
            "text/plain": [
              "array(['Bay of Bengal', 'Southern', 'Northeastern', 'Eastern', 'Northern',\n",
              "       'Central', 'Western'], dtype=object)"
            ]
          },
          "metadata": {},
          "execution_count": 54
        }
      ]
    },
    {
      "cell_type": "code",
      "source": [
        "ds = pd.merge(ds1,ds4,how='left')"
      ],
      "metadata": {
        "id": "2ciDdI0anQ_m"
      },
      "execution_count": 55,
      "outputs": []
    },
    {
      "cell_type": "code",
      "source": [
        "ds.head()"
      ],
      "metadata": {
        "colab": {
          "base_uri": "https://localhost:8080/",
          "height": 339
        },
        "id": "ChO19MlCnVRU",
        "outputId": "3e1afd77-26d7-4ee8-9cf4-4a6516cff518"
      },
      "execution_count": 56,
      "outputs": [
        {
          "output_type": "execute_result",
          "data": {
            "text/plain": [
              "   Id   Income  Age  ...  2020-21-UNEMP 2011-census-Poverty-rate    Region\n",
              "0   1  1303834   23  ...           47.0                    31.65   Central\n",
              "1   2  7574516   40  ...           65.0                    17.35   Western\n",
              "2   3  3991815   66  ...          116.0                     7.05  Southern\n",
              "3   4  6256451   41  ...           78.0                    32.59   Eastern\n",
              "4   5  5768871   47  ...           58.0                    11.28  Southern\n",
              "\n",
              "[5 rows x 23 columns]"
            ],
            "text/html": [
              "\n",
              "  <div id=\"df-2a5ea2dc-09fc-4397-bc4d-d42b8ecd6be1\">\n",
              "    <div class=\"colab-df-container\">\n",
              "      <div>\n",
              "<style scoped>\n",
              "    .dataframe tbody tr th:only-of-type {\n",
              "        vertical-align: middle;\n",
              "    }\n",
              "\n",
              "    .dataframe tbody tr th {\n",
              "        vertical-align: top;\n",
              "    }\n",
              "\n",
              "    .dataframe thead th {\n",
              "        text-align: right;\n",
              "    }\n",
              "</style>\n",
              "<table border=\"1\" class=\"dataframe\">\n",
              "  <thead>\n",
              "    <tr style=\"text-align: right;\">\n",
              "      <th></th>\n",
              "      <th>Id</th>\n",
              "      <th>Income</th>\n",
              "      <th>Age</th>\n",
              "      <th>Experience</th>\n",
              "      <th>Married/Single</th>\n",
              "      <th>House_Ownership</th>\n",
              "      <th>Car_Ownership</th>\n",
              "      <th>Profession</th>\n",
              "      <th>CITY</th>\n",
              "      <th>STATE</th>\n",
              "      <th>CURRENT_JOB_YRS</th>\n",
              "      <th>CURRENT_HOUSE_YRS</th>\n",
              "      <th>Risk_Flag</th>\n",
              "      <th>Rev_State</th>\n",
              "      <th>Re_State</th>\n",
              "      <th>R_State</th>\n",
              "      <th>State</th>\n",
              "      <th>2020-21-GSDP</th>\n",
              "      <th>2011-census-LIT-rate</th>\n",
              "      <th>2011-census-POP</th>\n",
              "      <th>2020-21-UNEMP</th>\n",
              "      <th>2011-census-Poverty-rate</th>\n",
              "      <th>Region</th>\n",
              "    </tr>\n",
              "  </thead>\n",
              "  <tbody>\n",
              "    <tr>\n",
              "      <th>0</th>\n",
              "      <td>1</td>\n",
              "      <td>1303834</td>\n",
              "      <td>23</td>\n",
              "      <td>3.0</td>\n",
              "      <td>single</td>\n",
              "      <td>rented</td>\n",
              "      <td>no</td>\n",
              "      <td>Mechanical_engineer</td>\n",
              "      <td>Rewa</td>\n",
              "      <td>Madhya_Pradesh</td>\n",
              "      <td>3.0</td>\n",
              "      <td>13.0</td>\n",
              "      <td>0.0</td>\n",
              "      <td>Madhya Pradesh</td>\n",
              "      <td>Madhya Pradesh</td>\n",
              "      <td>Madhya Pradesh</td>\n",
              "      <td>Madhya Pradesh</td>\n",
              "      <td>5.645144e+12</td>\n",
              "      <td>75.37</td>\n",
              "      <td>72627000.0</td>\n",
              "      <td>47.0</td>\n",
              "      <td>31.65</td>\n",
              "      <td>Central</td>\n",
              "    </tr>\n",
              "    <tr>\n",
              "      <th>1</th>\n",
              "      <td>2</td>\n",
              "      <td>7574516</td>\n",
              "      <td>40</td>\n",
              "      <td>10.0</td>\n",
              "      <td>single</td>\n",
              "      <td>rented</td>\n",
              "      <td>no</td>\n",
              "      <td>Software_Developer</td>\n",
              "      <td>Parbhani</td>\n",
              "      <td>Maharashtra</td>\n",
              "      <td>9.0</td>\n",
              "      <td>13.0</td>\n",
              "      <td>0.0</td>\n",
              "      <td>Maharashtra</td>\n",
              "      <td>Maharashtra</td>\n",
              "      <td>Maharashtra</td>\n",
              "      <td>Maharashtra</td>\n",
              "      <td>1.889307e+13</td>\n",
              "      <td>94.00</td>\n",
              "      <td>112374000.0</td>\n",
              "      <td>65.0</td>\n",
              "      <td>17.35</td>\n",
              "      <td>Western</td>\n",
              "    </tr>\n",
              "    <tr>\n",
              "      <th>2</th>\n",
              "      <td>3</td>\n",
              "      <td>3991815</td>\n",
              "      <td>66</td>\n",
              "      <td>4.0</td>\n",
              "      <td>married</td>\n",
              "      <td>rented</td>\n",
              "      <td>no</td>\n",
              "      <td>Technical_writer</td>\n",
              "      <td>Alappuzha</td>\n",
              "      <td>Kerala</td>\n",
              "      <td>4.0</td>\n",
              "      <td>10.0</td>\n",
              "      <td>0.0</td>\n",
              "      <td>Kerala</td>\n",
              "      <td>Kerala</td>\n",
              "      <td>Kerala</td>\n",
              "      <td>Kerala</td>\n",
              "      <td>5.144000e+12</td>\n",
              "      <td>66.41</td>\n",
              "      <td>33406000.0</td>\n",
              "      <td>116.0</td>\n",
              "      <td>7.05</td>\n",
              "      <td>Southern</td>\n",
              "    </tr>\n",
              "    <tr>\n",
              "      <th>3</th>\n",
              "      <td>4</td>\n",
              "      <td>6256451</td>\n",
              "      <td>41</td>\n",
              "      <td>2.0</td>\n",
              "      <td>single</td>\n",
              "      <td>rented</td>\n",
              "      <td>yes</td>\n",
              "      <td>Software_Developer</td>\n",
              "      <td>Bhubaneswar</td>\n",
              "      <td>Odisha</td>\n",
              "      <td>2.0</td>\n",
              "      <td>12.0</td>\n",
              "      <td>1.0</td>\n",
              "      <td>Odisha</td>\n",
              "      <td>Odisha</td>\n",
              "      <td>Odisha</td>\n",
              "      <td>Odisha</td>\n",
              "      <td>3.814703e+12</td>\n",
              "      <td>74.43</td>\n",
              "      <td>41974000.0</td>\n",
              "      <td>78.0</td>\n",
              "      <td>32.59</td>\n",
              "      <td>Eastern</td>\n",
              "    </tr>\n",
              "    <tr>\n",
              "      <th>4</th>\n",
              "      <td>5</td>\n",
              "      <td>5768871</td>\n",
              "      <td>47</td>\n",
              "      <td>11.0</td>\n",
              "      <td>single</td>\n",
              "      <td>rented</td>\n",
              "      <td>no</td>\n",
              "      <td>Civil_servant</td>\n",
              "      <td>Tiruchirappalli[10]</td>\n",
              "      <td>Tamil_Nadu</td>\n",
              "      <td>3.0</td>\n",
              "      <td>14.0</td>\n",
              "      <td>1.0</td>\n",
              "      <td>Tamil Nadu</td>\n",
              "      <td>Tamil Nadu</td>\n",
              "      <td>Tamil Nadu</td>\n",
              "      <td>Tamil Nadu</td>\n",
              "      <td>1.245595e+13</td>\n",
              "      <td>75.84</td>\n",
              "      <td>72147000.0</td>\n",
              "      <td>58.0</td>\n",
              "      <td>11.28</td>\n",
              "      <td>Southern</td>\n",
              "    </tr>\n",
              "  </tbody>\n",
              "</table>\n",
              "</div>\n",
              "      <button class=\"colab-df-convert\" onclick=\"convertToInteractive('df-2a5ea2dc-09fc-4397-bc4d-d42b8ecd6be1')\"\n",
              "              title=\"Convert this dataframe to an interactive table.\"\n",
              "              style=\"display:none;\">\n",
              "        \n",
              "  <svg xmlns=\"http://www.w3.org/2000/svg\" height=\"24px\"viewBox=\"0 0 24 24\"\n",
              "       width=\"24px\">\n",
              "    <path d=\"M0 0h24v24H0V0z\" fill=\"none\"/>\n",
              "    <path d=\"M18.56 5.44l.94 2.06.94-2.06 2.06-.94-2.06-.94-.94-2.06-.94 2.06-2.06.94zm-11 1L8.5 8.5l.94-2.06 2.06-.94-2.06-.94L8.5 2.5l-.94 2.06-2.06.94zm10 10l.94 2.06.94-2.06 2.06-.94-2.06-.94-.94-2.06-.94 2.06-2.06.94z\"/><path d=\"M17.41 7.96l-1.37-1.37c-.4-.4-.92-.59-1.43-.59-.52 0-1.04.2-1.43.59L10.3 9.45l-7.72 7.72c-.78.78-.78 2.05 0 2.83L4 21.41c.39.39.9.59 1.41.59.51 0 1.02-.2 1.41-.59l7.78-7.78 2.81-2.81c.8-.78.8-2.07 0-2.86zM5.41 20L4 18.59l7.72-7.72 1.47 1.35L5.41 20z\"/>\n",
              "  </svg>\n",
              "      </button>\n",
              "      \n",
              "  <style>\n",
              "    .colab-df-container {\n",
              "      display:flex;\n",
              "      flex-wrap:wrap;\n",
              "      gap: 12px;\n",
              "    }\n",
              "\n",
              "    .colab-df-convert {\n",
              "      background-color: #E8F0FE;\n",
              "      border: none;\n",
              "      border-radius: 50%;\n",
              "      cursor: pointer;\n",
              "      display: none;\n",
              "      fill: #1967D2;\n",
              "      height: 32px;\n",
              "      padding: 0 0 0 0;\n",
              "      width: 32px;\n",
              "    }\n",
              "\n",
              "    .colab-df-convert:hover {\n",
              "      background-color: #E2EBFA;\n",
              "      box-shadow: 0px 1px 2px rgba(60, 64, 67, 0.3), 0px 1px 3px 1px rgba(60, 64, 67, 0.15);\n",
              "      fill: #174EA6;\n",
              "    }\n",
              "\n",
              "    [theme=dark] .colab-df-convert {\n",
              "      background-color: #3B4455;\n",
              "      fill: #D2E3FC;\n",
              "    }\n",
              "\n",
              "    [theme=dark] .colab-df-convert:hover {\n",
              "      background-color: #434B5C;\n",
              "      box-shadow: 0px 1px 3px 1px rgba(0, 0, 0, 0.15);\n",
              "      filter: drop-shadow(0px 1px 2px rgba(0, 0, 0, 0.3));\n",
              "      fill: #FFFFFF;\n",
              "    }\n",
              "  </style>\n",
              "\n",
              "      <script>\n",
              "        const buttonEl =\n",
              "          document.querySelector('#df-2a5ea2dc-09fc-4397-bc4d-d42b8ecd6be1 button.colab-df-convert');\n",
              "        buttonEl.style.display =\n",
              "          google.colab.kernel.accessAllowed ? 'block' : 'none';\n",
              "\n",
              "        async function convertToInteractive(key) {\n",
              "          const element = document.querySelector('#df-2a5ea2dc-09fc-4397-bc4d-d42b8ecd6be1');\n",
              "          const dataTable =\n",
              "            await google.colab.kernel.invokeFunction('convertToInteractive',\n",
              "                                                     [key], {});\n",
              "          if (!dataTable) return;\n",
              "\n",
              "          const docLinkHtml = 'Like what you see? Visit the ' +\n",
              "            '<a target=\"_blank\" href=https://colab.research.google.com/notebooks/data_table.ipynb>data table notebook</a>'\n",
              "            + ' to learn more about interactive tables.';\n",
              "          element.innerHTML = '';\n",
              "          dataTable['output_type'] = 'display_data';\n",
              "          await google.colab.output.renderOutput(dataTable, element);\n",
              "          const docLink = document.createElement('div');\n",
              "          docLink.innerHTML = docLinkHtml;\n",
              "          element.appendChild(docLink);\n",
              "        }\n",
              "      </script>\n",
              "    </div>\n",
              "  </div>\n",
              "  "
            ]
          },
          "metadata": {},
          "execution_count": 56
        }
      ]
    },
    {
      "cell_type": "code",
      "source": [
        "ds.info()"
      ],
      "metadata": {
        "colab": {
          "base_uri": "https://localhost:8080/"
        },
        "id": "LA-yezvunWkh",
        "outputId": "3bf34cb4-1028-441f-bc78-6ba7803bbb3d"
      },
      "execution_count": 57,
      "outputs": [
        {
          "output_type": "stream",
          "name": "stdout",
          "text": [
            "<class 'pandas.core.frame.DataFrame'>\n",
            "Int64Index: 92704 entries, 0 to 92703\n",
            "Data columns (total 23 columns):\n",
            " #   Column                    Non-Null Count  Dtype  \n",
            "---  ------                    --------------  -----  \n",
            " 0   Id                        92704 non-null  int64  \n",
            " 1   Income                    92704 non-null  int64  \n",
            " 2   Age                       92704 non-null  int64  \n",
            " 3   Experience                92703 non-null  float64\n",
            " 4   Married/Single            92703 non-null  object \n",
            " 5   House_Ownership           92703 non-null  object \n",
            " 6   Car_Ownership             92703 non-null  object \n",
            " 7   Profession                92703 non-null  object \n",
            " 8   CITY                      92703 non-null  object \n",
            " 9   STATE                     92703 non-null  object \n",
            " 10  CURRENT_JOB_YRS           92703 non-null  float64\n",
            " 11  CURRENT_HOUSE_YRS         92703 non-null  float64\n",
            " 12  Risk_Flag                 92703 non-null  float64\n",
            " 13  Rev_State                 92703 non-null  object \n",
            " 14  Re_State                  92703 non-null  object \n",
            " 15  R_State                   92703 non-null  object \n",
            " 16  State                     92703 non-null  object \n",
            " 17  2020-21-GSDP              92703 non-null  float64\n",
            " 18  2011-census-LIT-rate      92703 non-null  float64\n",
            " 19  2011-census-POP           92703 non-null  float64\n",
            " 20  2020-21-UNEMP             92703 non-null  float64\n",
            " 21  2011-census-Poverty-rate  92703 non-null  float64\n",
            " 22  Region                    92703 non-null  object \n",
            "dtypes: float64(9), int64(3), object(11)\n",
            "memory usage: 17.0+ MB\n"
          ]
        }
      ]
    },
    {
      "cell_type": "markdown",
      "source": [
        "##CREATING CSV OF CLEANED AND MERGED DATA"
      ],
      "metadata": {
        "id": "fWhbMtgTqQoU"
      }
    },
    {
      "cell_type": "code",
      "source": [
        "ds.to_csv('Loan_prediction_data.csv',index=False)"
      ],
      "metadata": {
        "id": "zMAH8YLFniex"
      },
      "execution_count": 58,
      "outputs": []
    },
    {
      "cell_type": "code",
      "source": [
        "loan_df = pd.read_csv('Loan_prediction_data.csv')"
      ],
      "metadata": {
        "id": "muyynK94qqoD"
      },
      "execution_count": 59,
      "outputs": []
    },
    {
      "cell_type": "code",
      "source": [
        "loan_df.head()"
      ],
      "metadata": {
        "colab": {
          "base_uri": "https://localhost:8080/",
          "height": 339
        },
        "id": "FKvFxzMqqwiW",
        "outputId": "7511b5aa-46d3-494f-acba-bdc165aca848"
      },
      "execution_count": 60,
      "outputs": [
        {
          "output_type": "execute_result",
          "data": {
            "text/plain": [
              "   Id   Income  Age  ...  2020-21-UNEMP 2011-census-Poverty-rate    Region\n",
              "0   1  1303834   23  ...           47.0                    31.65   Central\n",
              "1   2  7574516   40  ...           65.0                    17.35   Western\n",
              "2   3  3991815   66  ...          116.0                     7.05  Southern\n",
              "3   4  6256451   41  ...           78.0                    32.59   Eastern\n",
              "4   5  5768871   47  ...           58.0                    11.28  Southern\n",
              "\n",
              "[5 rows x 23 columns]"
            ],
            "text/html": [
              "\n",
              "  <div id=\"df-af2c04e9-5d4f-4f30-b84d-80575192b4c4\">\n",
              "    <div class=\"colab-df-container\">\n",
              "      <div>\n",
              "<style scoped>\n",
              "    .dataframe tbody tr th:only-of-type {\n",
              "        vertical-align: middle;\n",
              "    }\n",
              "\n",
              "    .dataframe tbody tr th {\n",
              "        vertical-align: top;\n",
              "    }\n",
              "\n",
              "    .dataframe thead th {\n",
              "        text-align: right;\n",
              "    }\n",
              "</style>\n",
              "<table border=\"1\" class=\"dataframe\">\n",
              "  <thead>\n",
              "    <tr style=\"text-align: right;\">\n",
              "      <th></th>\n",
              "      <th>Id</th>\n",
              "      <th>Income</th>\n",
              "      <th>Age</th>\n",
              "      <th>Experience</th>\n",
              "      <th>Married/Single</th>\n",
              "      <th>House_Ownership</th>\n",
              "      <th>Car_Ownership</th>\n",
              "      <th>Profession</th>\n",
              "      <th>CITY</th>\n",
              "      <th>STATE</th>\n",
              "      <th>CURRENT_JOB_YRS</th>\n",
              "      <th>CURRENT_HOUSE_YRS</th>\n",
              "      <th>Risk_Flag</th>\n",
              "      <th>Rev_State</th>\n",
              "      <th>Re_State</th>\n",
              "      <th>R_State</th>\n",
              "      <th>State</th>\n",
              "      <th>2020-21-GSDP</th>\n",
              "      <th>2011-census-LIT-rate</th>\n",
              "      <th>2011-census-POP</th>\n",
              "      <th>2020-21-UNEMP</th>\n",
              "      <th>2011-census-Poverty-rate</th>\n",
              "      <th>Region</th>\n",
              "    </tr>\n",
              "  </thead>\n",
              "  <tbody>\n",
              "    <tr>\n",
              "      <th>0</th>\n",
              "      <td>1</td>\n",
              "      <td>1303834</td>\n",
              "      <td>23</td>\n",
              "      <td>3.0</td>\n",
              "      <td>single</td>\n",
              "      <td>rented</td>\n",
              "      <td>no</td>\n",
              "      <td>Mechanical_engineer</td>\n",
              "      <td>Rewa</td>\n",
              "      <td>Madhya_Pradesh</td>\n",
              "      <td>3.0</td>\n",
              "      <td>13.0</td>\n",
              "      <td>0.0</td>\n",
              "      <td>Madhya Pradesh</td>\n",
              "      <td>Madhya Pradesh</td>\n",
              "      <td>Madhya Pradesh</td>\n",
              "      <td>Madhya Pradesh</td>\n",
              "      <td>5.645144e+12</td>\n",
              "      <td>75.37</td>\n",
              "      <td>72627000.0</td>\n",
              "      <td>47.0</td>\n",
              "      <td>31.65</td>\n",
              "      <td>Central</td>\n",
              "    </tr>\n",
              "    <tr>\n",
              "      <th>1</th>\n",
              "      <td>2</td>\n",
              "      <td>7574516</td>\n",
              "      <td>40</td>\n",
              "      <td>10.0</td>\n",
              "      <td>single</td>\n",
              "      <td>rented</td>\n",
              "      <td>no</td>\n",
              "      <td>Software_Developer</td>\n",
              "      <td>Parbhani</td>\n",
              "      <td>Maharashtra</td>\n",
              "      <td>9.0</td>\n",
              "      <td>13.0</td>\n",
              "      <td>0.0</td>\n",
              "      <td>Maharashtra</td>\n",
              "      <td>Maharashtra</td>\n",
              "      <td>Maharashtra</td>\n",
              "      <td>Maharashtra</td>\n",
              "      <td>1.889307e+13</td>\n",
              "      <td>94.00</td>\n",
              "      <td>112374000.0</td>\n",
              "      <td>65.0</td>\n",
              "      <td>17.35</td>\n",
              "      <td>Western</td>\n",
              "    </tr>\n",
              "    <tr>\n",
              "      <th>2</th>\n",
              "      <td>3</td>\n",
              "      <td>3991815</td>\n",
              "      <td>66</td>\n",
              "      <td>4.0</td>\n",
              "      <td>married</td>\n",
              "      <td>rented</td>\n",
              "      <td>no</td>\n",
              "      <td>Technical_writer</td>\n",
              "      <td>Alappuzha</td>\n",
              "      <td>Kerala</td>\n",
              "      <td>4.0</td>\n",
              "      <td>10.0</td>\n",
              "      <td>0.0</td>\n",
              "      <td>Kerala</td>\n",
              "      <td>Kerala</td>\n",
              "      <td>Kerala</td>\n",
              "      <td>Kerala</td>\n",
              "      <td>5.144000e+12</td>\n",
              "      <td>66.41</td>\n",
              "      <td>33406000.0</td>\n",
              "      <td>116.0</td>\n",
              "      <td>7.05</td>\n",
              "      <td>Southern</td>\n",
              "    </tr>\n",
              "    <tr>\n",
              "      <th>3</th>\n",
              "      <td>4</td>\n",
              "      <td>6256451</td>\n",
              "      <td>41</td>\n",
              "      <td>2.0</td>\n",
              "      <td>single</td>\n",
              "      <td>rented</td>\n",
              "      <td>yes</td>\n",
              "      <td>Software_Developer</td>\n",
              "      <td>Bhubaneswar</td>\n",
              "      <td>Odisha</td>\n",
              "      <td>2.0</td>\n",
              "      <td>12.0</td>\n",
              "      <td>1.0</td>\n",
              "      <td>Odisha</td>\n",
              "      <td>Odisha</td>\n",
              "      <td>Odisha</td>\n",
              "      <td>Odisha</td>\n",
              "      <td>3.814703e+12</td>\n",
              "      <td>74.43</td>\n",
              "      <td>41974000.0</td>\n",
              "      <td>78.0</td>\n",
              "      <td>32.59</td>\n",
              "      <td>Eastern</td>\n",
              "    </tr>\n",
              "    <tr>\n",
              "      <th>4</th>\n",
              "      <td>5</td>\n",
              "      <td>5768871</td>\n",
              "      <td>47</td>\n",
              "      <td>11.0</td>\n",
              "      <td>single</td>\n",
              "      <td>rented</td>\n",
              "      <td>no</td>\n",
              "      <td>Civil_servant</td>\n",
              "      <td>Tiruchirappalli[10]</td>\n",
              "      <td>Tamil_Nadu</td>\n",
              "      <td>3.0</td>\n",
              "      <td>14.0</td>\n",
              "      <td>1.0</td>\n",
              "      <td>Tamil Nadu</td>\n",
              "      <td>Tamil Nadu</td>\n",
              "      <td>Tamil Nadu</td>\n",
              "      <td>Tamil Nadu</td>\n",
              "      <td>1.245595e+13</td>\n",
              "      <td>75.84</td>\n",
              "      <td>72147000.0</td>\n",
              "      <td>58.0</td>\n",
              "      <td>11.28</td>\n",
              "      <td>Southern</td>\n",
              "    </tr>\n",
              "  </tbody>\n",
              "</table>\n",
              "</div>\n",
              "      <button class=\"colab-df-convert\" onclick=\"convertToInteractive('df-af2c04e9-5d4f-4f30-b84d-80575192b4c4')\"\n",
              "              title=\"Convert this dataframe to an interactive table.\"\n",
              "              style=\"display:none;\">\n",
              "        \n",
              "  <svg xmlns=\"http://www.w3.org/2000/svg\" height=\"24px\"viewBox=\"0 0 24 24\"\n",
              "       width=\"24px\">\n",
              "    <path d=\"M0 0h24v24H0V0z\" fill=\"none\"/>\n",
              "    <path d=\"M18.56 5.44l.94 2.06.94-2.06 2.06-.94-2.06-.94-.94-2.06-.94 2.06-2.06.94zm-11 1L8.5 8.5l.94-2.06 2.06-.94-2.06-.94L8.5 2.5l-.94 2.06-2.06.94zm10 10l.94 2.06.94-2.06 2.06-.94-2.06-.94-.94-2.06-.94 2.06-2.06.94z\"/><path d=\"M17.41 7.96l-1.37-1.37c-.4-.4-.92-.59-1.43-.59-.52 0-1.04.2-1.43.59L10.3 9.45l-7.72 7.72c-.78.78-.78 2.05 0 2.83L4 21.41c.39.39.9.59 1.41.59.51 0 1.02-.2 1.41-.59l7.78-7.78 2.81-2.81c.8-.78.8-2.07 0-2.86zM5.41 20L4 18.59l7.72-7.72 1.47 1.35L5.41 20z\"/>\n",
              "  </svg>\n",
              "      </button>\n",
              "      \n",
              "  <style>\n",
              "    .colab-df-container {\n",
              "      display:flex;\n",
              "      flex-wrap:wrap;\n",
              "      gap: 12px;\n",
              "    }\n",
              "\n",
              "    .colab-df-convert {\n",
              "      background-color: #E8F0FE;\n",
              "      border: none;\n",
              "      border-radius: 50%;\n",
              "      cursor: pointer;\n",
              "      display: none;\n",
              "      fill: #1967D2;\n",
              "      height: 32px;\n",
              "      padding: 0 0 0 0;\n",
              "      width: 32px;\n",
              "    }\n",
              "\n",
              "    .colab-df-convert:hover {\n",
              "      background-color: #E2EBFA;\n",
              "      box-shadow: 0px 1px 2px rgba(60, 64, 67, 0.3), 0px 1px 3px 1px rgba(60, 64, 67, 0.15);\n",
              "      fill: #174EA6;\n",
              "    }\n",
              "\n",
              "    [theme=dark] .colab-df-convert {\n",
              "      background-color: #3B4455;\n",
              "      fill: #D2E3FC;\n",
              "    }\n",
              "\n",
              "    [theme=dark] .colab-df-convert:hover {\n",
              "      background-color: #434B5C;\n",
              "      box-shadow: 0px 1px 3px 1px rgba(0, 0, 0, 0.15);\n",
              "      filter: drop-shadow(0px 1px 2px rgba(0, 0, 0, 0.3));\n",
              "      fill: #FFFFFF;\n",
              "    }\n",
              "  </style>\n",
              "\n",
              "      <script>\n",
              "        const buttonEl =\n",
              "          document.querySelector('#df-af2c04e9-5d4f-4f30-b84d-80575192b4c4 button.colab-df-convert');\n",
              "        buttonEl.style.display =\n",
              "          google.colab.kernel.accessAllowed ? 'block' : 'none';\n",
              "\n",
              "        async function convertToInteractive(key) {\n",
              "          const element = document.querySelector('#df-af2c04e9-5d4f-4f30-b84d-80575192b4c4');\n",
              "          const dataTable =\n",
              "            await google.colab.kernel.invokeFunction('convertToInteractive',\n",
              "                                                     [key], {});\n",
              "          if (!dataTable) return;\n",
              "\n",
              "          const docLinkHtml = 'Like what you see? Visit the ' +\n",
              "            '<a target=\"_blank\" href=https://colab.research.google.com/notebooks/data_table.ipynb>data table notebook</a>'\n",
              "            + ' to learn more about interactive tables.';\n",
              "          element.innerHTML = '';\n",
              "          dataTable['output_type'] = 'display_data';\n",
              "          await google.colab.output.renderOutput(dataTable, element);\n",
              "          const docLink = document.createElement('div');\n",
              "          docLink.innerHTML = docLinkHtml;\n",
              "          element.appendChild(docLink);\n",
              "        }\n",
              "      </script>\n",
              "    </div>\n",
              "  </div>\n",
              "  "
            ]
          },
          "metadata": {},
          "execution_count": 60
        }
      ]
    },
    {
      "cell_type": "code",
      "source": [
        "loan_df.drop(['STATE'],axis=1,inplace=True)\n",
        "loan_df.drop(['R_State'],axis=1,inplace=True)\n",
        "loan_df.drop(['Re_State'],axis=1,inplace=True)"
      ],
      "metadata": {
        "id": "qvb3NecmqzLS"
      },
      "execution_count": 64,
      "outputs": []
    },
    {
      "cell_type": "code",
      "source": [
        "loan_df.rename({'Married/Single':'Marital_Status','2020-21-GSDP':'State_GDP','2011-census-LIT-rate':'Literacy_Rate','2011-census-POP':'Population','2020-21-UNEMP':'Unemployment','2011-census-Poverty-rate':'Poverty_Rate'},axis=1,inplace=True)"
      ],
      "metadata": {
        "id": "sZN40_J6rGZr"
      },
      "execution_count": 65,
      "outputs": []
    },
    {
      "cell_type": "code",
      "source": [
        "loan_df.info()"
      ],
      "metadata": {
        "colab": {
          "base_uri": "https://localhost:8080/"
        },
        "id": "4A3TfCQvrkOK",
        "outputId": "380d2bae-e8fa-4a3b-ec57-065547ee5473"
      },
      "execution_count": 66,
      "outputs": [
        {
          "output_type": "stream",
          "name": "stdout",
          "text": [
            "<class 'pandas.core.frame.DataFrame'>\n",
            "RangeIndex: 92704 entries, 0 to 92703\n",
            "Data columns (total 20 columns):\n",
            " #   Column             Non-Null Count  Dtype  \n",
            "---  ------             --------------  -----  \n",
            " 0   Id                 92704 non-null  int64  \n",
            " 1   Income             92704 non-null  int64  \n",
            " 2   Age                92704 non-null  int64  \n",
            " 3   Experience         92703 non-null  float64\n",
            " 4   Marital_Status     92703 non-null  object \n",
            " 5   House_Ownership    92703 non-null  object \n",
            " 6   Car_Ownership      92703 non-null  object \n",
            " 7   Profession         92703 non-null  object \n",
            " 8   CITY               92703 non-null  object \n",
            " 9   CURRENT_JOB_YRS    92703 non-null  float64\n",
            " 10  CURRENT_HOUSE_YRS  92703 non-null  float64\n",
            " 11  Risk_Flag          92703 non-null  float64\n",
            " 12  Rev_State          92703 non-null  object \n",
            " 13  State              92703 non-null  object \n",
            " 14  State_GDP          92703 non-null  float64\n",
            " 15  Literacy_Rate      92703 non-null  float64\n",
            " 16  Population         92703 non-null  float64\n",
            " 17  Unemployment       92703 non-null  float64\n",
            " 18  Poverty_Rate       92703 non-null  float64\n",
            " 19  Region             92703 non-null  object \n",
            "dtypes: float64(9), int64(3), object(8)\n",
            "memory usage: 14.1+ MB\n"
          ]
        }
      ]
    },
    {
      "cell_type": "markdown",
      "source": [
        "##Exploratory Data Analysis & Feature Engineering"
      ],
      "metadata": {
        "id": "ihTw5jeirwRU"
      }
    },
    {
      "cell_type": "code",
      "source": [
        "loan_df.describe()"
      ],
      "metadata": {
        "colab": {
          "base_uri": "https://localhost:8080/",
          "height": 364
        },
        "id": "uska0TG0rnNf",
        "outputId": "eb09cbc7-e7fc-43c0-aefd-757c45b0ea51"
      },
      "execution_count": 67,
      "outputs": [
        {
          "output_type": "execute_result",
          "data": {
            "text/plain": [
              "                 Id        Income  ...  Unemployment  Poverty_Rate\n",
              "count  92704.000000  9.270400e+04  ...  92703.000000  92703.000000\n",
              "mean   46352.500000  5.003292e+06  ...     68.701833     20.660758\n",
              "std    26761.484015  2.876086e+06  ...     20.416139      9.516352\n",
              "min        1.000000  1.031000e+04  ...     30.000000      7.050000\n",
              "25%    23176.750000  2.509059e+06  ...     47.000000     11.280000\n",
              "50%    46352.500000  5.010356e+06  ...     65.000000     17.350000\n",
              "75%    69528.250000  7.477764e+06  ...     80.000000     29.430000\n",
              "max    92704.000000  9.999180e+06  ...    133.000000     39.930000\n",
              "\n",
              "[8 rows x 12 columns]"
            ],
            "text/html": [
              "\n",
              "  <div id=\"df-8a1236ed-9bdc-496e-a246-5bd911b80ca4\">\n",
              "    <div class=\"colab-df-container\">\n",
              "      <div>\n",
              "<style scoped>\n",
              "    .dataframe tbody tr th:only-of-type {\n",
              "        vertical-align: middle;\n",
              "    }\n",
              "\n",
              "    .dataframe tbody tr th {\n",
              "        vertical-align: top;\n",
              "    }\n",
              "\n",
              "    .dataframe thead th {\n",
              "        text-align: right;\n",
              "    }\n",
              "</style>\n",
              "<table border=\"1\" class=\"dataframe\">\n",
              "  <thead>\n",
              "    <tr style=\"text-align: right;\">\n",
              "      <th></th>\n",
              "      <th>Id</th>\n",
              "      <th>Income</th>\n",
              "      <th>Age</th>\n",
              "      <th>Experience</th>\n",
              "      <th>CURRENT_JOB_YRS</th>\n",
              "      <th>CURRENT_HOUSE_YRS</th>\n",
              "      <th>Risk_Flag</th>\n",
              "      <th>State_GDP</th>\n",
              "      <th>Literacy_Rate</th>\n",
              "      <th>Population</th>\n",
              "      <th>Unemployment</th>\n",
              "      <th>Poverty_Rate</th>\n",
              "    </tr>\n",
              "  </thead>\n",
              "  <tbody>\n",
              "    <tr>\n",
              "      <th>count</th>\n",
              "      <td>92704.000000</td>\n",
              "      <td>9.270400e+04</td>\n",
              "      <td>92704.000000</td>\n",
              "      <td>92703.000000</td>\n",
              "      <td>92703.000000</td>\n",
              "      <td>92703.000000</td>\n",
              "      <td>92703.000000</td>\n",
              "      <td>9.270300e+04</td>\n",
              "      <td>92703.000000</td>\n",
              "      <td>9.270300e+04</td>\n",
              "      <td>92703.000000</td>\n",
              "      <td>92703.000000</td>\n",
              "    </tr>\n",
              "    <tr>\n",
              "      <th>mean</th>\n",
              "      <td>46352.500000</td>\n",
              "      <td>5.003292e+06</td>\n",
              "      <td>49.994369</td>\n",
              "      <td>10.112618</td>\n",
              "      <td>6.342211</td>\n",
              "      <td>11.996516</td>\n",
              "      <td>0.137870</td>\n",
              "      <td>8.304888e+12</td>\n",
              "      <td>75.698967</td>\n",
              "      <td>8.002677e+07</td>\n",
              "      <td>68.701833</td>\n",
              "      <td>20.660758</td>\n",
              "    </tr>\n",
              "    <tr>\n",
              "      <th>std</th>\n",
              "      <td>26761.484015</td>\n",
              "      <td>2.876086e+06</td>\n",
              "      <td>17.054120</td>\n",
              "      <td>5.995696</td>\n",
              "      <td>3.644468</td>\n",
              "      <td>1.396976</td>\n",
              "      <td>0.344766</td>\n",
              "      <td>4.836554e+12</td>\n",
              "      <td>9.507251</td>\n",
              "      <td>5.226832e+07</td>\n",
              "      <td>20.416139</td>\n",
              "      <td>9.516352</td>\n",
              "    </tr>\n",
              "    <tr>\n",
              "      <th>min</th>\n",
              "      <td>1.000000</td>\n",
              "      <td>1.031000e+04</td>\n",
              "      <td>21.000000</td>\n",
              "      <td>0.000000</td>\n",
              "      <td>0.000000</td>\n",
              "      <td>10.000000</td>\n",
              "      <td>0.000000</td>\n",
              "      <td>1.441739e+11</td>\n",
              "      <td>61.800000</td>\n",
              "      <td>6.110000e+05</td>\n",
              "      <td>30.000000</td>\n",
              "      <td>7.050000</td>\n",
              "    </tr>\n",
              "    <tr>\n",
              "      <th>25%</th>\n",
              "      <td>23176.750000</td>\n",
              "      <td>2.509059e+06</td>\n",
              "      <td>35.000000</td>\n",
              "      <td>5.000000</td>\n",
              "      <td>4.000000</td>\n",
              "      <td>11.000000</td>\n",
              "      <td>0.000000</td>\n",
              "      <td>5.144000e+12</td>\n",
              "      <td>67.160000</td>\n",
              "      <td>4.197400e+07</td>\n",
              "      <td>47.000000</td>\n",
              "      <td>11.280000</td>\n",
              "    </tr>\n",
              "    <tr>\n",
              "      <th>50%</th>\n",
              "      <td>46352.500000</td>\n",
              "      <td>5.010356e+06</td>\n",
              "      <td>50.000000</td>\n",
              "      <td>10.000000</td>\n",
              "      <td>6.000000</td>\n",
              "      <td>12.000000</td>\n",
              "      <td>0.000000</td>\n",
              "      <td>6.703215e+12</td>\n",
              "      <td>75.370000</td>\n",
              "      <td>7.214700e+07</td>\n",
              "      <td>65.000000</td>\n",
              "      <td>17.350000</td>\n",
              "    </tr>\n",
              "    <tr>\n",
              "      <th>75%</th>\n",
              "      <td>69528.250000</td>\n",
              "      <td>7.477764e+06</td>\n",
              "      <td>65.000000</td>\n",
              "      <td>15.000000</td>\n",
              "      <td>9.000000</td>\n",
              "      <td>13.000000</td>\n",
              "      <td>0.000000</td>\n",
              "      <td>1.143873e+13</td>\n",
              "      <td>80.090000</td>\n",
              "      <td>1.040990e+08</td>\n",
              "      <td>80.000000</td>\n",
              "      <td>29.430000</td>\n",
              "    </tr>\n",
              "    <tr>\n",
              "      <th>max</th>\n",
              "      <td>92704.000000</td>\n",
              "      <td>9.999180e+06</td>\n",
              "      <td>79.000000</td>\n",
              "      <td>20.000000</td>\n",
              "      <td>14.000000</td>\n",
              "      <td>14.000000</td>\n",
              "      <td>1.000000</td>\n",
              "      <td>1.889307e+13</td>\n",
              "      <td>94.000000</td>\n",
              "      <td>1.998120e+08</td>\n",
              "      <td>133.000000</td>\n",
              "      <td>39.930000</td>\n",
              "    </tr>\n",
              "  </tbody>\n",
              "</table>\n",
              "</div>\n",
              "      <button class=\"colab-df-convert\" onclick=\"convertToInteractive('df-8a1236ed-9bdc-496e-a246-5bd911b80ca4')\"\n",
              "              title=\"Convert this dataframe to an interactive table.\"\n",
              "              style=\"display:none;\">\n",
              "        \n",
              "  <svg xmlns=\"http://www.w3.org/2000/svg\" height=\"24px\"viewBox=\"0 0 24 24\"\n",
              "       width=\"24px\">\n",
              "    <path d=\"M0 0h24v24H0V0z\" fill=\"none\"/>\n",
              "    <path d=\"M18.56 5.44l.94 2.06.94-2.06 2.06-.94-2.06-.94-.94-2.06-.94 2.06-2.06.94zm-11 1L8.5 8.5l.94-2.06 2.06-.94-2.06-.94L8.5 2.5l-.94 2.06-2.06.94zm10 10l.94 2.06.94-2.06 2.06-.94-2.06-.94-.94-2.06-.94 2.06-2.06.94z\"/><path d=\"M17.41 7.96l-1.37-1.37c-.4-.4-.92-.59-1.43-.59-.52 0-1.04.2-1.43.59L10.3 9.45l-7.72 7.72c-.78.78-.78 2.05 0 2.83L4 21.41c.39.39.9.59 1.41.59.51 0 1.02-.2 1.41-.59l7.78-7.78 2.81-2.81c.8-.78.8-2.07 0-2.86zM5.41 20L4 18.59l7.72-7.72 1.47 1.35L5.41 20z\"/>\n",
              "  </svg>\n",
              "      </button>\n",
              "      \n",
              "  <style>\n",
              "    .colab-df-container {\n",
              "      display:flex;\n",
              "      flex-wrap:wrap;\n",
              "      gap: 12px;\n",
              "    }\n",
              "\n",
              "    .colab-df-convert {\n",
              "      background-color: #E8F0FE;\n",
              "      border: none;\n",
              "      border-radius: 50%;\n",
              "      cursor: pointer;\n",
              "      display: none;\n",
              "      fill: #1967D2;\n",
              "      height: 32px;\n",
              "      padding: 0 0 0 0;\n",
              "      width: 32px;\n",
              "    }\n",
              "\n",
              "    .colab-df-convert:hover {\n",
              "      background-color: #E2EBFA;\n",
              "      box-shadow: 0px 1px 2px rgba(60, 64, 67, 0.3), 0px 1px 3px 1px rgba(60, 64, 67, 0.15);\n",
              "      fill: #174EA6;\n",
              "    }\n",
              "\n",
              "    [theme=dark] .colab-df-convert {\n",
              "      background-color: #3B4455;\n",
              "      fill: #D2E3FC;\n",
              "    }\n",
              "\n",
              "    [theme=dark] .colab-df-convert:hover {\n",
              "      background-color: #434B5C;\n",
              "      box-shadow: 0px 1px 3px 1px rgba(0, 0, 0, 0.15);\n",
              "      filter: drop-shadow(0px 1px 2px rgba(0, 0, 0, 0.3));\n",
              "      fill: #FFFFFF;\n",
              "    }\n",
              "  </style>\n",
              "\n",
              "      <script>\n",
              "        const buttonEl =\n",
              "          document.querySelector('#df-8a1236ed-9bdc-496e-a246-5bd911b80ca4 button.colab-df-convert');\n",
              "        buttonEl.style.display =\n",
              "          google.colab.kernel.accessAllowed ? 'block' : 'none';\n",
              "\n",
              "        async function convertToInteractive(key) {\n",
              "          const element = document.querySelector('#df-8a1236ed-9bdc-496e-a246-5bd911b80ca4');\n",
              "          const dataTable =\n",
              "            await google.colab.kernel.invokeFunction('convertToInteractive',\n",
              "                                                     [key], {});\n",
              "          if (!dataTable) return;\n",
              "\n",
              "          const docLinkHtml = 'Like what you see? Visit the ' +\n",
              "            '<a target=\"_blank\" href=https://colab.research.google.com/notebooks/data_table.ipynb>data table notebook</a>'\n",
              "            + ' to learn more about interactive tables.';\n",
              "          element.innerHTML = '';\n",
              "          dataTable['output_type'] = 'display_data';\n",
              "          await google.colab.output.renderOutput(dataTable, element);\n",
              "          const docLink = document.createElement('div');\n",
              "          docLink.innerHTML = docLinkHtml;\n",
              "          element.appendChild(docLink);\n",
              "        }\n",
              "      </script>\n",
              "    </div>\n",
              "  </div>\n",
              "  "
            ]
          },
          "metadata": {},
          "execution_count": 67
        }
      ]
    },
    {
      "cell_type": "code",
      "source": [
        "loan_df['Per_Capita_Income'] = loan_df['State_GDP']/loan_df['Population']"
      ],
      "metadata": {
        "id": "Qxpe_bDTr06w"
      },
      "execution_count": 68,
      "outputs": []
    },
    {
      "cell_type": "code",
      "source": [
        "pd.qcut(loan_df['Income'],q=3).value_counts()"
      ],
      "metadata": {
        "colab": {
          "base_uri": "https://localhost:8080/"
        },
        "id": "w8CmO8-GsK4c",
        "outputId": "ea5b2420-f50a-4f43-e7cd-4b0c26115d3d"
      },
      "execution_count": 69,
      "outputs": [
        {
          "output_type": "execute_result",
          "data": {
            "text/plain": [
              "(10309.999, 3331423.0]    30912\n",
              "(6649334.0, 9999180.0]    30898\n",
              "(3331423.0, 6649334.0]    30894\n",
              "Name: Income, dtype: int64"
            ]
          },
          "metadata": {},
          "execution_count": 69
        }
      ]
    },
    {
      "cell_type": "code",
      "source": [
        "bin_labels = ['Low','Medium','High']\n",
        "loan_df['Income_Category'] = pd.qcut(loan_df['Income'],q=3,labels=bin_labels)"
      ],
      "metadata": {
        "id": "9ZWkXQuUslHN"
      },
      "execution_count": 70,
      "outputs": []
    },
    {
      "cell_type": "code",
      "source": [
        "loan_df.head()"
      ],
      "metadata": {
        "colab": {
          "base_uri": "https://localhost:8080/",
          "height": 287
        },
        "id": "cB_mRxwDszAy",
        "outputId": "57206be1-f6f2-45ed-8293-6084054d5c72"
      },
      "execution_count": 71,
      "outputs": [
        {
          "output_type": "execute_result",
          "data": {
            "text/plain": [
              "   Id   Income  Age  ...    Region Per_Capita_Income Income_Category\n",
              "0   1  1303834   23  ...   Central      77727.893208             Low\n",
              "1   2  7574516   40  ...   Western     168126.671650            High\n",
              "2   3  3991815   66  ...  Southern     153984.311202          Medium\n",
              "3   4  6256451   41  ...   Eastern      90882.529661          Medium\n",
              "4   5  5768871   47  ...  Southern     172646.839092          Medium\n",
              "\n",
              "[5 rows x 22 columns]"
            ],
            "text/html": [
              "\n",
              "  <div id=\"df-8ac43fac-fbf0-4ee7-b738-f520185aee6b\">\n",
              "    <div class=\"colab-df-container\">\n",
              "      <div>\n",
              "<style scoped>\n",
              "    .dataframe tbody tr th:only-of-type {\n",
              "        vertical-align: middle;\n",
              "    }\n",
              "\n",
              "    .dataframe tbody tr th {\n",
              "        vertical-align: top;\n",
              "    }\n",
              "\n",
              "    .dataframe thead th {\n",
              "        text-align: right;\n",
              "    }\n",
              "</style>\n",
              "<table border=\"1\" class=\"dataframe\">\n",
              "  <thead>\n",
              "    <tr style=\"text-align: right;\">\n",
              "      <th></th>\n",
              "      <th>Id</th>\n",
              "      <th>Income</th>\n",
              "      <th>Age</th>\n",
              "      <th>Experience</th>\n",
              "      <th>Marital_Status</th>\n",
              "      <th>House_Ownership</th>\n",
              "      <th>Car_Ownership</th>\n",
              "      <th>Profession</th>\n",
              "      <th>CITY</th>\n",
              "      <th>CURRENT_JOB_YRS</th>\n",
              "      <th>CURRENT_HOUSE_YRS</th>\n",
              "      <th>Risk_Flag</th>\n",
              "      <th>Rev_State</th>\n",
              "      <th>State</th>\n",
              "      <th>State_GDP</th>\n",
              "      <th>Literacy_Rate</th>\n",
              "      <th>Population</th>\n",
              "      <th>Unemployment</th>\n",
              "      <th>Poverty_Rate</th>\n",
              "      <th>Region</th>\n",
              "      <th>Per_Capita_Income</th>\n",
              "      <th>Income_Category</th>\n",
              "    </tr>\n",
              "  </thead>\n",
              "  <tbody>\n",
              "    <tr>\n",
              "      <th>0</th>\n",
              "      <td>1</td>\n",
              "      <td>1303834</td>\n",
              "      <td>23</td>\n",
              "      <td>3.0</td>\n",
              "      <td>single</td>\n",
              "      <td>rented</td>\n",
              "      <td>no</td>\n",
              "      <td>Mechanical_engineer</td>\n",
              "      <td>Rewa</td>\n",
              "      <td>3.0</td>\n",
              "      <td>13.0</td>\n",
              "      <td>0.0</td>\n",
              "      <td>Madhya Pradesh</td>\n",
              "      <td>Madhya Pradesh</td>\n",
              "      <td>5.645144e+12</td>\n",
              "      <td>75.37</td>\n",
              "      <td>72627000.0</td>\n",
              "      <td>47.0</td>\n",
              "      <td>31.65</td>\n",
              "      <td>Central</td>\n",
              "      <td>77727.893208</td>\n",
              "      <td>Low</td>\n",
              "    </tr>\n",
              "    <tr>\n",
              "      <th>1</th>\n",
              "      <td>2</td>\n",
              "      <td>7574516</td>\n",
              "      <td>40</td>\n",
              "      <td>10.0</td>\n",
              "      <td>single</td>\n",
              "      <td>rented</td>\n",
              "      <td>no</td>\n",
              "      <td>Software_Developer</td>\n",
              "      <td>Parbhani</td>\n",
              "      <td>9.0</td>\n",
              "      <td>13.0</td>\n",
              "      <td>0.0</td>\n",
              "      <td>Maharashtra</td>\n",
              "      <td>Maharashtra</td>\n",
              "      <td>1.889307e+13</td>\n",
              "      <td>94.00</td>\n",
              "      <td>112374000.0</td>\n",
              "      <td>65.0</td>\n",
              "      <td>17.35</td>\n",
              "      <td>Western</td>\n",
              "      <td>168126.671650</td>\n",
              "      <td>High</td>\n",
              "    </tr>\n",
              "    <tr>\n",
              "      <th>2</th>\n",
              "      <td>3</td>\n",
              "      <td>3991815</td>\n",
              "      <td>66</td>\n",
              "      <td>4.0</td>\n",
              "      <td>married</td>\n",
              "      <td>rented</td>\n",
              "      <td>no</td>\n",
              "      <td>Technical_writer</td>\n",
              "      <td>Alappuzha</td>\n",
              "      <td>4.0</td>\n",
              "      <td>10.0</td>\n",
              "      <td>0.0</td>\n",
              "      <td>Kerala</td>\n",
              "      <td>Kerala</td>\n",
              "      <td>5.144000e+12</td>\n",
              "      <td>66.41</td>\n",
              "      <td>33406000.0</td>\n",
              "      <td>116.0</td>\n",
              "      <td>7.05</td>\n",
              "      <td>Southern</td>\n",
              "      <td>153984.311202</td>\n",
              "      <td>Medium</td>\n",
              "    </tr>\n",
              "    <tr>\n",
              "      <th>3</th>\n",
              "      <td>4</td>\n",
              "      <td>6256451</td>\n",
              "      <td>41</td>\n",
              "      <td>2.0</td>\n",
              "      <td>single</td>\n",
              "      <td>rented</td>\n",
              "      <td>yes</td>\n",
              "      <td>Software_Developer</td>\n",
              "      <td>Bhubaneswar</td>\n",
              "      <td>2.0</td>\n",
              "      <td>12.0</td>\n",
              "      <td>1.0</td>\n",
              "      <td>Odisha</td>\n",
              "      <td>Odisha</td>\n",
              "      <td>3.814703e+12</td>\n",
              "      <td>74.43</td>\n",
              "      <td>41974000.0</td>\n",
              "      <td>78.0</td>\n",
              "      <td>32.59</td>\n",
              "      <td>Eastern</td>\n",
              "      <td>90882.529661</td>\n",
              "      <td>Medium</td>\n",
              "    </tr>\n",
              "    <tr>\n",
              "      <th>4</th>\n",
              "      <td>5</td>\n",
              "      <td>5768871</td>\n",
              "      <td>47</td>\n",
              "      <td>11.0</td>\n",
              "      <td>single</td>\n",
              "      <td>rented</td>\n",
              "      <td>no</td>\n",
              "      <td>Civil_servant</td>\n",
              "      <td>Tiruchirappalli[10]</td>\n",
              "      <td>3.0</td>\n",
              "      <td>14.0</td>\n",
              "      <td>1.0</td>\n",
              "      <td>Tamil Nadu</td>\n",
              "      <td>Tamil Nadu</td>\n",
              "      <td>1.245595e+13</td>\n",
              "      <td>75.84</td>\n",
              "      <td>72147000.0</td>\n",
              "      <td>58.0</td>\n",
              "      <td>11.28</td>\n",
              "      <td>Southern</td>\n",
              "      <td>172646.839092</td>\n",
              "      <td>Medium</td>\n",
              "    </tr>\n",
              "  </tbody>\n",
              "</table>\n",
              "</div>\n",
              "      <button class=\"colab-df-convert\" onclick=\"convertToInteractive('df-8ac43fac-fbf0-4ee7-b738-f520185aee6b')\"\n",
              "              title=\"Convert this dataframe to an interactive table.\"\n",
              "              style=\"display:none;\">\n",
              "        \n",
              "  <svg xmlns=\"http://www.w3.org/2000/svg\" height=\"24px\"viewBox=\"0 0 24 24\"\n",
              "       width=\"24px\">\n",
              "    <path d=\"M0 0h24v24H0V0z\" fill=\"none\"/>\n",
              "    <path d=\"M18.56 5.44l.94 2.06.94-2.06 2.06-.94-2.06-.94-.94-2.06-.94 2.06-2.06.94zm-11 1L8.5 8.5l.94-2.06 2.06-.94-2.06-.94L8.5 2.5l-.94 2.06-2.06.94zm10 10l.94 2.06.94-2.06 2.06-.94-2.06-.94-.94-2.06-.94 2.06-2.06.94z\"/><path d=\"M17.41 7.96l-1.37-1.37c-.4-.4-.92-.59-1.43-.59-.52 0-1.04.2-1.43.59L10.3 9.45l-7.72 7.72c-.78.78-.78 2.05 0 2.83L4 21.41c.39.39.9.59 1.41.59.51 0 1.02-.2 1.41-.59l7.78-7.78 2.81-2.81c.8-.78.8-2.07 0-2.86zM5.41 20L4 18.59l7.72-7.72 1.47 1.35L5.41 20z\"/>\n",
              "  </svg>\n",
              "      </button>\n",
              "      \n",
              "  <style>\n",
              "    .colab-df-container {\n",
              "      display:flex;\n",
              "      flex-wrap:wrap;\n",
              "      gap: 12px;\n",
              "    }\n",
              "\n",
              "    .colab-df-convert {\n",
              "      background-color: #E8F0FE;\n",
              "      border: none;\n",
              "      border-radius: 50%;\n",
              "      cursor: pointer;\n",
              "      display: none;\n",
              "      fill: #1967D2;\n",
              "      height: 32px;\n",
              "      padding: 0 0 0 0;\n",
              "      width: 32px;\n",
              "    }\n",
              "\n",
              "    .colab-df-convert:hover {\n",
              "      background-color: #E2EBFA;\n",
              "      box-shadow: 0px 1px 2px rgba(60, 64, 67, 0.3), 0px 1px 3px 1px rgba(60, 64, 67, 0.15);\n",
              "      fill: #174EA6;\n",
              "    }\n",
              "\n",
              "    [theme=dark] .colab-df-convert {\n",
              "      background-color: #3B4455;\n",
              "      fill: #D2E3FC;\n",
              "    }\n",
              "\n",
              "    [theme=dark] .colab-df-convert:hover {\n",
              "      background-color: #434B5C;\n",
              "      box-shadow: 0px 1px 3px 1px rgba(0, 0, 0, 0.15);\n",
              "      filter: drop-shadow(0px 1px 2px rgba(0, 0, 0, 0.3));\n",
              "      fill: #FFFFFF;\n",
              "    }\n",
              "  </style>\n",
              "\n",
              "      <script>\n",
              "        const buttonEl =\n",
              "          document.querySelector('#df-8ac43fac-fbf0-4ee7-b738-f520185aee6b button.colab-df-convert');\n",
              "        buttonEl.style.display =\n",
              "          google.colab.kernel.accessAllowed ? 'block' : 'none';\n",
              "\n",
              "        async function convertToInteractive(key) {\n",
              "          const element = document.querySelector('#df-8ac43fac-fbf0-4ee7-b738-f520185aee6b');\n",
              "          const dataTable =\n",
              "            await google.colab.kernel.invokeFunction('convertToInteractive',\n",
              "                                                     [key], {});\n",
              "          if (!dataTable) return;\n",
              "\n",
              "          const docLinkHtml = 'Like what you see? Visit the ' +\n",
              "            '<a target=\"_blank\" href=https://colab.research.google.com/notebooks/data_table.ipynb>data table notebook</a>'\n",
              "            + ' to learn more about interactive tables.';\n",
              "          element.innerHTML = '';\n",
              "          dataTable['output_type'] = 'display_data';\n",
              "          await google.colab.output.renderOutput(dataTable, element);\n",
              "          const docLink = document.createElement('div');\n",
              "          docLink.innerHTML = docLinkHtml;\n",
              "          element.appendChild(docLink);\n",
              "        }\n",
              "      </script>\n",
              "    </div>\n",
              "  </div>\n",
              "  "
            ]
          },
          "metadata": {},
          "execution_count": 71
        }
      ]
    },
    {
      "cell_type": "code",
      "source": [
        "pd.qcut(loan_df['Age'],q=3).value_counts()"
      ],
      "metadata": {
        "colab": {
          "base_uri": "https://localhost:8080/"
        },
        "id": "8y0ITbeLs1T4",
        "outputId": "1fab9b34-0aea-4e66-e69f-dfdfa1563a04"
      },
      "execution_count": 72,
      "outputs": [
        {
          "output_type": "execute_result",
          "data": {
            "text/plain": [
              "(40.0, 60.0]      31695\n",
              "(20.999, 40.0]    31205\n",
              "(60.0, 79.0]      29804\n",
              "Name: Age, dtype: int64"
            ]
          },
          "metadata": {},
          "execution_count": 72
        }
      ]
    },
    {
      "cell_type": "code",
      "source": [
        "bin_labels1 = ['Young','Middle-Age','Senior']\n",
        "loan_df['Age_Group'] = pd.qcut(loan_df['Age'],q=3,labels=bin_labels1)"
      ],
      "metadata": {
        "id": "h62GMOV2s7P6"
      },
      "execution_count": 73,
      "outputs": []
    },
    {
      "cell_type": "code",
      "source": [
        "pd.qcut(loan_df['CURRENT_JOB_YRS'],q=3).value_counts()"
      ],
      "metadata": {
        "colab": {
          "base_uri": "https://localhost:8080/"
        },
        "id": "9qdNaCIvs9PB",
        "outputId": "5e4287be-0df4-44f0-f908-61d31d5ba545"
      },
      "execution_count": 74,
      "outputs": [
        {
          "output_type": "execute_result",
          "data": {
            "text/plain": [
              "(-0.001, 4.0]    33655\n",
              "(4.0, 8.0]       32041\n",
              "(8.0, 14.0]      27007\n",
              "Name: CURRENT_JOB_YRS, dtype: int64"
            ]
          },
          "metadata": {},
          "execution_count": 74
        }
      ]
    },
    {
      "cell_type": "code",
      "source": [
        "bin_labels2 = ['0-4','5-8','9-14']\n",
        "loan_df['Job_yrs'] = pd.qcut(loan_df['CURRENT_JOB_YRS'],q=3,labels=bin_labels2)"
      ],
      "metadata": {
        "id": "Q0Jdn84JtCNu"
      },
      "execution_count": 75,
      "outputs": []
    },
    {
      "cell_type": "code",
      "source": [
        "pd.qcut(loan_df['CURRENT_HOUSE_YRS'],q=2).value_counts()"
      ],
      "metadata": {
        "colab": {
          "base_uri": "https://localhost:8080/"
        },
        "id": "3dnL_LZStEKD",
        "outputId": "8e2d15a6-5379-4140-9f48-81e0bbecad82"
      },
      "execution_count": 76,
      "outputs": [
        {
          "output_type": "execute_result",
          "data": {
            "text/plain": [
              "(9.999, 12.0]    56134\n",
              "(12.0, 14.0]     36569\n",
              "Name: CURRENT_HOUSE_YRS, dtype: int64"
            ]
          },
          "metadata": {},
          "execution_count": 76
        }
      ]
    },
    {
      "cell_type": "code",
      "source": [
        "loan_df.head()"
      ],
      "metadata": {
        "colab": {
          "base_uri": "https://localhost:8080/",
          "height": 322
        },
        "id": "_Ykg0HcJtZTF",
        "outputId": "20bf563a-4602-4354-a301-2f46327c186d"
      },
      "execution_count": 77,
      "outputs": [
        {
          "output_type": "execute_result",
          "data": {
            "text/plain": [
              "   Id   Income  Age  ...  Income_Category   Age_Group Job_yrs\n",
              "0   1  1303834   23  ...              Low       Young     0-4\n",
              "1   2  7574516   40  ...             High       Young    9-14\n",
              "2   3  3991815   66  ...           Medium      Senior     0-4\n",
              "3   4  6256451   41  ...           Medium  Middle-Age     0-4\n",
              "4   5  5768871   47  ...           Medium  Middle-Age     0-4\n",
              "\n",
              "[5 rows x 24 columns]"
            ],
            "text/html": [
              "\n",
              "  <div id=\"df-441cceae-0f6a-450d-9d35-a82cdc78e4a0\">\n",
              "    <div class=\"colab-df-container\">\n",
              "      <div>\n",
              "<style scoped>\n",
              "    .dataframe tbody tr th:only-of-type {\n",
              "        vertical-align: middle;\n",
              "    }\n",
              "\n",
              "    .dataframe tbody tr th {\n",
              "        vertical-align: top;\n",
              "    }\n",
              "\n",
              "    .dataframe thead th {\n",
              "        text-align: right;\n",
              "    }\n",
              "</style>\n",
              "<table border=\"1\" class=\"dataframe\">\n",
              "  <thead>\n",
              "    <tr style=\"text-align: right;\">\n",
              "      <th></th>\n",
              "      <th>Id</th>\n",
              "      <th>Income</th>\n",
              "      <th>Age</th>\n",
              "      <th>Experience</th>\n",
              "      <th>Marital_Status</th>\n",
              "      <th>House_Ownership</th>\n",
              "      <th>Car_Ownership</th>\n",
              "      <th>Profession</th>\n",
              "      <th>CITY</th>\n",
              "      <th>CURRENT_JOB_YRS</th>\n",
              "      <th>CURRENT_HOUSE_YRS</th>\n",
              "      <th>Risk_Flag</th>\n",
              "      <th>Rev_State</th>\n",
              "      <th>State</th>\n",
              "      <th>State_GDP</th>\n",
              "      <th>Literacy_Rate</th>\n",
              "      <th>Population</th>\n",
              "      <th>Unemployment</th>\n",
              "      <th>Poverty_Rate</th>\n",
              "      <th>Region</th>\n",
              "      <th>Per_Capita_Income</th>\n",
              "      <th>Income_Category</th>\n",
              "      <th>Age_Group</th>\n",
              "      <th>Job_yrs</th>\n",
              "    </tr>\n",
              "  </thead>\n",
              "  <tbody>\n",
              "    <tr>\n",
              "      <th>0</th>\n",
              "      <td>1</td>\n",
              "      <td>1303834</td>\n",
              "      <td>23</td>\n",
              "      <td>3.0</td>\n",
              "      <td>single</td>\n",
              "      <td>rented</td>\n",
              "      <td>no</td>\n",
              "      <td>Mechanical_engineer</td>\n",
              "      <td>Rewa</td>\n",
              "      <td>3.0</td>\n",
              "      <td>13.0</td>\n",
              "      <td>0.0</td>\n",
              "      <td>Madhya Pradesh</td>\n",
              "      <td>Madhya Pradesh</td>\n",
              "      <td>5.645144e+12</td>\n",
              "      <td>75.37</td>\n",
              "      <td>72627000.0</td>\n",
              "      <td>47.0</td>\n",
              "      <td>31.65</td>\n",
              "      <td>Central</td>\n",
              "      <td>77727.893208</td>\n",
              "      <td>Low</td>\n",
              "      <td>Young</td>\n",
              "      <td>0-4</td>\n",
              "    </tr>\n",
              "    <tr>\n",
              "      <th>1</th>\n",
              "      <td>2</td>\n",
              "      <td>7574516</td>\n",
              "      <td>40</td>\n",
              "      <td>10.0</td>\n",
              "      <td>single</td>\n",
              "      <td>rented</td>\n",
              "      <td>no</td>\n",
              "      <td>Software_Developer</td>\n",
              "      <td>Parbhani</td>\n",
              "      <td>9.0</td>\n",
              "      <td>13.0</td>\n",
              "      <td>0.0</td>\n",
              "      <td>Maharashtra</td>\n",
              "      <td>Maharashtra</td>\n",
              "      <td>1.889307e+13</td>\n",
              "      <td>94.00</td>\n",
              "      <td>112374000.0</td>\n",
              "      <td>65.0</td>\n",
              "      <td>17.35</td>\n",
              "      <td>Western</td>\n",
              "      <td>168126.671650</td>\n",
              "      <td>High</td>\n",
              "      <td>Young</td>\n",
              "      <td>9-14</td>\n",
              "    </tr>\n",
              "    <tr>\n",
              "      <th>2</th>\n",
              "      <td>3</td>\n",
              "      <td>3991815</td>\n",
              "      <td>66</td>\n",
              "      <td>4.0</td>\n",
              "      <td>married</td>\n",
              "      <td>rented</td>\n",
              "      <td>no</td>\n",
              "      <td>Technical_writer</td>\n",
              "      <td>Alappuzha</td>\n",
              "      <td>4.0</td>\n",
              "      <td>10.0</td>\n",
              "      <td>0.0</td>\n",
              "      <td>Kerala</td>\n",
              "      <td>Kerala</td>\n",
              "      <td>5.144000e+12</td>\n",
              "      <td>66.41</td>\n",
              "      <td>33406000.0</td>\n",
              "      <td>116.0</td>\n",
              "      <td>7.05</td>\n",
              "      <td>Southern</td>\n",
              "      <td>153984.311202</td>\n",
              "      <td>Medium</td>\n",
              "      <td>Senior</td>\n",
              "      <td>0-4</td>\n",
              "    </tr>\n",
              "    <tr>\n",
              "      <th>3</th>\n",
              "      <td>4</td>\n",
              "      <td>6256451</td>\n",
              "      <td>41</td>\n",
              "      <td>2.0</td>\n",
              "      <td>single</td>\n",
              "      <td>rented</td>\n",
              "      <td>yes</td>\n",
              "      <td>Software_Developer</td>\n",
              "      <td>Bhubaneswar</td>\n",
              "      <td>2.0</td>\n",
              "      <td>12.0</td>\n",
              "      <td>1.0</td>\n",
              "      <td>Odisha</td>\n",
              "      <td>Odisha</td>\n",
              "      <td>3.814703e+12</td>\n",
              "      <td>74.43</td>\n",
              "      <td>41974000.0</td>\n",
              "      <td>78.0</td>\n",
              "      <td>32.59</td>\n",
              "      <td>Eastern</td>\n",
              "      <td>90882.529661</td>\n",
              "      <td>Medium</td>\n",
              "      <td>Middle-Age</td>\n",
              "      <td>0-4</td>\n",
              "    </tr>\n",
              "    <tr>\n",
              "      <th>4</th>\n",
              "      <td>5</td>\n",
              "      <td>5768871</td>\n",
              "      <td>47</td>\n",
              "      <td>11.0</td>\n",
              "      <td>single</td>\n",
              "      <td>rented</td>\n",
              "      <td>no</td>\n",
              "      <td>Civil_servant</td>\n",
              "      <td>Tiruchirappalli[10]</td>\n",
              "      <td>3.0</td>\n",
              "      <td>14.0</td>\n",
              "      <td>1.0</td>\n",
              "      <td>Tamil Nadu</td>\n",
              "      <td>Tamil Nadu</td>\n",
              "      <td>1.245595e+13</td>\n",
              "      <td>75.84</td>\n",
              "      <td>72147000.0</td>\n",
              "      <td>58.0</td>\n",
              "      <td>11.28</td>\n",
              "      <td>Southern</td>\n",
              "      <td>172646.839092</td>\n",
              "      <td>Medium</td>\n",
              "      <td>Middle-Age</td>\n",
              "      <td>0-4</td>\n",
              "    </tr>\n",
              "  </tbody>\n",
              "</table>\n",
              "</div>\n",
              "      <button class=\"colab-df-convert\" onclick=\"convertToInteractive('df-441cceae-0f6a-450d-9d35-a82cdc78e4a0')\"\n",
              "              title=\"Convert this dataframe to an interactive table.\"\n",
              "              style=\"display:none;\">\n",
              "        \n",
              "  <svg xmlns=\"http://www.w3.org/2000/svg\" height=\"24px\"viewBox=\"0 0 24 24\"\n",
              "       width=\"24px\">\n",
              "    <path d=\"M0 0h24v24H0V0z\" fill=\"none\"/>\n",
              "    <path d=\"M18.56 5.44l.94 2.06.94-2.06 2.06-.94-2.06-.94-.94-2.06-.94 2.06-2.06.94zm-11 1L8.5 8.5l.94-2.06 2.06-.94-2.06-.94L8.5 2.5l-.94 2.06-2.06.94zm10 10l.94 2.06.94-2.06 2.06-.94-2.06-.94-.94-2.06-.94 2.06-2.06.94z\"/><path d=\"M17.41 7.96l-1.37-1.37c-.4-.4-.92-.59-1.43-.59-.52 0-1.04.2-1.43.59L10.3 9.45l-7.72 7.72c-.78.78-.78 2.05 0 2.83L4 21.41c.39.39.9.59 1.41.59.51 0 1.02-.2 1.41-.59l7.78-7.78 2.81-2.81c.8-.78.8-2.07 0-2.86zM5.41 20L4 18.59l7.72-7.72 1.47 1.35L5.41 20z\"/>\n",
              "  </svg>\n",
              "      </button>\n",
              "      \n",
              "  <style>\n",
              "    .colab-df-container {\n",
              "      display:flex;\n",
              "      flex-wrap:wrap;\n",
              "      gap: 12px;\n",
              "    }\n",
              "\n",
              "    .colab-df-convert {\n",
              "      background-color: #E8F0FE;\n",
              "      border: none;\n",
              "      border-radius: 50%;\n",
              "      cursor: pointer;\n",
              "      display: none;\n",
              "      fill: #1967D2;\n",
              "      height: 32px;\n",
              "      padding: 0 0 0 0;\n",
              "      width: 32px;\n",
              "    }\n",
              "\n",
              "    .colab-df-convert:hover {\n",
              "      background-color: #E2EBFA;\n",
              "      box-shadow: 0px 1px 2px rgba(60, 64, 67, 0.3), 0px 1px 3px 1px rgba(60, 64, 67, 0.15);\n",
              "      fill: #174EA6;\n",
              "    }\n",
              "\n",
              "    [theme=dark] .colab-df-convert {\n",
              "      background-color: #3B4455;\n",
              "      fill: #D2E3FC;\n",
              "    }\n",
              "\n",
              "    [theme=dark] .colab-df-convert:hover {\n",
              "      background-color: #434B5C;\n",
              "      box-shadow: 0px 1px 3px 1px rgba(0, 0, 0, 0.15);\n",
              "      filter: drop-shadow(0px 1px 2px rgba(0, 0, 0, 0.3));\n",
              "      fill: #FFFFFF;\n",
              "    }\n",
              "  </style>\n",
              "\n",
              "      <script>\n",
              "        const buttonEl =\n",
              "          document.querySelector('#df-441cceae-0f6a-450d-9d35-a82cdc78e4a0 button.colab-df-convert');\n",
              "        buttonEl.style.display =\n",
              "          google.colab.kernel.accessAllowed ? 'block' : 'none';\n",
              "\n",
              "        async function convertToInteractive(key) {\n",
              "          const element = document.querySelector('#df-441cceae-0f6a-450d-9d35-a82cdc78e4a0');\n",
              "          const dataTable =\n",
              "            await google.colab.kernel.invokeFunction('convertToInteractive',\n",
              "                                                     [key], {});\n",
              "          if (!dataTable) return;\n",
              "\n",
              "          const docLinkHtml = 'Like what you see? Visit the ' +\n",
              "            '<a target=\"_blank\" href=https://colab.research.google.com/notebooks/data_table.ipynb>data table notebook</a>'\n",
              "            + ' to learn more about interactive tables.';\n",
              "          element.innerHTML = '';\n",
              "          dataTable['output_type'] = 'display_data';\n",
              "          await google.colab.output.renderOutput(dataTable, element);\n",
              "          const docLink = document.createElement('div');\n",
              "          docLink.innerHTML = docLinkHtml;\n",
              "          element.appendChild(docLink);\n",
              "        }\n",
              "      </script>\n",
              "    </div>\n",
              "  </div>\n",
              "  "
            ]
          },
          "metadata": {},
          "execution_count": 77
        }
      ]
    },
    {
      "cell_type": "code",
      "source": [
        "loan_df.to_csv('Loan_prediction_data.csv', index = False)"
      ],
      "metadata": {
        "id": "YnmwYjrPtbYx"
      },
      "execution_count": 79,
      "outputs": []
    },
    {
      "cell_type": "code",
      "source": [
        "loan_df[\"Risk_Flag\"].value_counts().plot(kind='barh',title='Loan Risk Distribution', \n",
        "                                 figsize=(15,3))"
      ],
      "metadata": {
        "colab": {
          "base_uri": "https://localhost:8080/",
          "height": 189
        },
        "id": "SGHHJkwwt3WX",
        "outputId": "c1a25378-1cc6-43a7-de4e-ba1805f68675"
      },
      "execution_count": 80,
      "outputs": [
        {
          "output_type": "execute_result",
          "data": {
            "text/plain": [
              "<matplotlib.axes._subplots.AxesSubplot at 0x7f4b99b994c0>"
            ]
          },
          "metadata": {},
          "execution_count": 80
        },
        {
          "output_type": "display_data",
          "data": {
            "text/plain": [
              "<Figure size 1080x216 with 1 Axes>"
            ],
            "image/png": "[encoded data removed]"
          },
          "metadata": {
            "needs_background": "light"
          }
        }
      ]
    },
    {
      "cell_type": "code",
      "source": [
        "loan_df[\"Risk_Flag\"].value_counts()"
      ],
      "metadata": {
        "colab": {
          "base_uri": "https://localhost:8080/"
        },
        "id": "112Hun8quQpp",
        "outputId": "076b0175-242a-4ac3-ca69-431911486646"
      },
      "execution_count": 81,
      "outputs": [
        {
          "output_type": "execute_result",
          "data": {
            "text/plain": [
              "0.0    79922\n",
              "1.0    12781\n",
              "Name: Risk_Flag, dtype: int64"
            ]
          },
          "metadata": {},
          "execution_count": 81
        }
      ]
    },
    {
      "cell_type": "markdown",
      "source": [
        "**Risk flag of no_default(0) is very low compared to is_default(1)**\n",
        "\n"
      ],
      "metadata": {
        "id": "S4ILz6b1v30f"
      }
    },
    {
      "cell_type": "code",
      "source": [
        "loan_df.groupby(\"Age_Group\").agg({\"Age\":[min,max]})"
      ],
      "metadata": {
        "colab": {
          "base_uri": "https://localhost:8080/",
          "height": 206
        },
        "id": "-srpimeJu_n_",
        "outputId": "a2c585b2-f5e0-4ca5-b284-91f11984db39"
      },
      "execution_count": 84,
      "outputs": [
        {
          "output_type": "execute_result",
          "data": {
            "text/plain": [
              "           Age    \n",
              "           min max\n",
              "Age_Group         \n",
              "Young       21  40\n",
              "Middle-Age  41  60\n",
              "Senior      61  79"
            ],
            "text/html": [
              "\n",
              "  <div id=\"df-4447dfa1-e6fc-4532-9e76-df20f24f601b\">\n",
              "    <div class=\"colab-df-container\">\n",
              "      <div>\n",
              "<style scoped>\n",
              "    .dataframe tbody tr th:only-of-type {\n",
              "        vertical-align: middle;\n",
              "    }\n",
              "\n",
              "    .dataframe tbody tr th {\n",
              "        vertical-align: top;\n",
              "    }\n",
              "\n",
              "    .dataframe thead tr th {\n",
              "        text-align: left;\n",
              "    }\n",
              "\n",
              "    .dataframe thead tr:last-of-type th {\n",
              "        text-align: right;\n",
              "    }\n",
              "</style>\n",
              "<table border=\"1\" class=\"dataframe\">\n",
              "  <thead>\n",
              "    <tr>\n",
              "      <th></th>\n",
              "      <th colspan=\"2\" halign=\"left\">Age</th>\n",
              "    </tr>\n",
              "    <tr>\n",
              "      <th></th>\n",
              "      <th>min</th>\n",
              "      <th>max</th>\n",
              "    </tr>\n",
              "    <tr>\n",
              "      <th>Age_Group</th>\n",
              "      <th></th>\n",
              "      <th></th>\n",
              "    </tr>\n",
              "  </thead>\n",
              "  <tbody>\n",
              "    <tr>\n",
              "      <th>Young</th>\n",
              "      <td>21</td>\n",
              "      <td>40</td>\n",
              "    </tr>\n",
              "    <tr>\n",
              "      <th>Middle-Age</th>\n",
              "      <td>41</td>\n",
              "      <td>60</td>\n",
              "    </tr>\n",
              "    <tr>\n",
              "      <th>Senior</th>\n",
              "      <td>61</td>\n",
              "      <td>79</td>\n",
              "    </tr>\n",
              "  </tbody>\n",
              "</table>\n",
              "</div>\n",
              "      <button class=\"colab-df-convert\" onclick=\"convertToInteractive('df-4447dfa1-e6fc-4532-9e76-df20f24f601b')\"\n",
              "              title=\"Convert this dataframe to an interactive table.\"\n",
              "              style=\"display:none;\">\n",
              "        \n",
              "  <svg xmlns=\"http://www.w3.org/2000/svg\" height=\"24px\"viewBox=\"0 0 24 24\"\n",
              "       width=\"24px\">\n",
              "    <path d=\"M0 0h24v24H0V0z\" fill=\"none\"/>\n",
              "    <path d=\"M18.56 5.44l.94 2.06.94-2.06 2.06-.94-2.06-.94-.94-2.06-.94 2.06-2.06.94zm-11 1L8.5 8.5l.94-2.06 2.06-.94-2.06-.94L8.5 2.5l-.94 2.06-2.06.94zm10 10l.94 2.06.94-2.06 2.06-.94-2.06-.94-.94-2.06-.94 2.06-2.06.94z\"/><path d=\"M17.41 7.96l-1.37-1.37c-.4-.4-.92-.59-1.43-.59-.52 0-1.04.2-1.43.59L10.3 9.45l-7.72 7.72c-.78.78-.78 2.05 0 2.83L4 21.41c.39.39.9.59 1.41.59.51 0 1.02-.2 1.41-.59l7.78-7.78 2.81-2.81c.8-.78.8-2.07 0-2.86zM5.41 20L4 18.59l7.72-7.72 1.47 1.35L5.41 20z\"/>\n",
              "  </svg>\n",
              "      </button>\n",
              "      \n",
              "  <style>\n",
              "    .colab-df-container {\n",
              "      display:flex;\n",
              "      flex-wrap:wrap;\n",
              "      gap: 12px;\n",
              "    }\n",
              "\n",
              "    .colab-df-convert {\n",
              "      background-color: #E8F0FE;\n",
              "      border: none;\n",
              "      border-radius: 50%;\n",
              "      cursor: pointer;\n",
              "      display: none;\n",
              "      fill: #1967D2;\n",
              "      height: 32px;\n",
              "      padding: 0 0 0 0;\n",
              "      width: 32px;\n",
              "    }\n",
              "\n",
              "    .colab-df-convert:hover {\n",
              "      background-color: #E2EBFA;\n",
              "      box-shadow: 0px 1px 2px rgba(60, 64, 67, 0.3), 0px 1px 3px 1px rgba(60, 64, 67, 0.15);\n",
              "      fill: #174EA6;\n",
              "    }\n",
              "\n",
              "    [theme=dark] .colab-df-convert {\n",
              "      background-color: #3B4455;\n",
              "      fill: #D2E3FC;\n",
              "    }\n",
              "\n",
              "    [theme=dark] .colab-df-convert:hover {\n",
              "      background-color: #434B5C;\n",
              "      box-shadow: 0px 1px 3px 1px rgba(0, 0, 0, 0.15);\n",
              "      filter: drop-shadow(0px 1px 2px rgba(0, 0, 0, 0.3));\n",
              "      fill: #FFFFFF;\n",
              "    }\n",
              "  </style>\n",
              "\n",
              "      <script>\n",
              "        const buttonEl =\n",
              "          document.querySelector('#df-4447dfa1-e6fc-4532-9e76-df20f24f601b button.colab-df-convert');\n",
              "        buttonEl.style.display =\n",
              "          google.colab.kernel.accessAllowed ? 'block' : 'none';\n",
              "\n",
              "        async function convertToInteractive(key) {\n",
              "          const element = document.querySelector('#df-4447dfa1-e6fc-4532-9e76-df20f24f601b');\n",
              "          const dataTable =\n",
              "            await google.colab.kernel.invokeFunction('convertToInteractive',\n",
              "                                                     [key], {});\n",
              "          if (!dataTable) return;\n",
              "\n",
              "          const docLinkHtml = 'Like what you see? Visit the ' +\n",
              "            '<a target=\"_blank\" href=https://colab.research.google.com/notebooks/data_table.ipynb>data table notebook</a>'\n",
              "            + ' to learn more about interactive tables.';\n",
              "          element.innerHTML = '';\n",
              "          dataTable['output_type'] = 'display_data';\n",
              "          await google.colab.output.renderOutput(dataTable, element);\n",
              "          const docLink = document.createElement('div');\n",
              "          docLink.innerHTML = docLinkHtml;\n",
              "          element.appendChild(docLink);\n",
              "        }\n",
              "      </script>\n",
              "    </div>\n",
              "  </div>\n",
              "  "
            ]
          },
          "metadata": {},
          "execution_count": 84
        }
      ]
    },
    {
      "cell_type": "code",
      "source": [
        "loan_df.groupby(\"Income_Category\").agg({\"Income\":[min,max]})"
      ],
      "metadata": {
        "colab": {
          "base_uri": "https://localhost:8080/",
          "height": 206
        },
        "id": "YkNuXzujwPpW",
        "outputId": "efd4a3a1-c10d-4196-fdf5-b263a97be8f5"
      },
      "execution_count": 86,
      "outputs": [
        {
          "output_type": "execute_result",
          "data": {
            "text/plain": [
              "                  Income         \n",
              "                     min      max\n",
              "Income_Category                  \n",
              "Low                10310  3331423\n",
              "Medium           3331559  6649334\n",
              "High             6650638  9999180"
            ],
            "text/html": [
              "\n",
              "  <div id=\"df-16d44eca-5eed-416c-9c5a-a33ecd9296b0\">\n",
              "    <div class=\"colab-df-container\">\n",
              "      <div>\n",
              "<style scoped>\n",
              "    .dataframe tbody tr th:only-of-type {\n",
              "        vertical-align: middle;\n",
              "    }\n",
              "\n",
              "    .dataframe tbody tr th {\n",
              "        vertical-align: top;\n",
              "    }\n",
              "\n",
              "    .dataframe thead tr th {\n",
              "        text-align: left;\n",
              "    }\n",
              "\n",
              "    .dataframe thead tr:last-of-type th {\n",
              "        text-align: right;\n",
              "    }\n",
              "</style>\n",
              "<table border=\"1\" class=\"dataframe\">\n",
              "  <thead>\n",
              "    <tr>\n",
              "      <th></th>\n",
              "      <th colspan=\"2\" halign=\"left\">Income</th>\n",
              "    </tr>\n",
              "    <tr>\n",
              "      <th></th>\n",
              "      <th>min</th>\n",
              "      <th>max</th>\n",
              "    </tr>\n",
              "    <tr>\n",
              "      <th>Income_Category</th>\n",
              "      <th></th>\n",
              "      <th></th>\n",
              "    </tr>\n",
              "  </thead>\n",
              "  <tbody>\n",
              "    <tr>\n",
              "      <th>Low</th>\n",
              "      <td>10310</td>\n",
              "      <td>3331423</td>\n",
              "    </tr>\n",
              "    <tr>\n",
              "      <th>Medium</th>\n",
              "      <td>3331559</td>\n",
              "      <td>6649334</td>\n",
              "    </tr>\n",
              "    <tr>\n",
              "      <th>High</th>\n",
              "      <td>6650638</td>\n",
              "      <td>9999180</td>\n",
              "    </tr>\n",
              "  </tbody>\n",
              "</table>\n",
              "</div>\n",
              "      <button class=\"colab-df-convert\" onclick=\"convertToInteractive('df-16d44eca-5eed-416c-9c5a-a33ecd9296b0')\"\n",
              "              title=\"Convert this dataframe to an interactive table.\"\n",
              "              style=\"display:none;\">\n",
              "        \n",
              "  <svg xmlns=\"http://www.w3.org/2000/svg\" height=\"24px\"viewBox=\"0 0 24 24\"\n",
              "       width=\"24px\">\n",
              "    <path d=\"M0 0h24v24H0V0z\" fill=\"none\"/>\n",
              "    <path d=\"M18.56 5.44l.94 2.06.94-2.06 2.06-.94-2.06-.94-.94-2.06-.94 2.06-2.06.94zm-11 1L8.5 8.5l.94-2.06 2.06-.94-2.06-.94L8.5 2.5l-.94 2.06-2.06.94zm10 10l.94 2.06.94-2.06 2.06-.94-2.06-.94-.94-2.06-.94 2.06-2.06.94z\"/><path d=\"M17.41 7.96l-1.37-1.37c-.4-.4-.92-.59-1.43-.59-.52 0-1.04.2-1.43.59L10.3 9.45l-7.72 7.72c-.78.78-.78 2.05 0 2.83L4 21.41c.39.39.9.59 1.41.59.51 0 1.02-.2 1.41-.59l7.78-7.78 2.81-2.81c.8-.78.8-2.07 0-2.86zM5.41 20L4 18.59l7.72-7.72 1.47 1.35L5.41 20z\"/>\n",
              "  </svg>\n",
              "      </button>\n",
              "      \n",
              "  <style>\n",
              "    .colab-df-container {\n",
              "      display:flex;\n",
              "      flex-wrap:wrap;\n",
              "      gap: 12px;\n",
              "    }\n",
              "\n",
              "    .colab-df-convert {\n",
              "      background-color: #E8F0FE;\n",
              "      border: none;\n",
              "      border-radius: 50%;\n",
              "      cursor: pointer;\n",
              "      display: none;\n",
              "      fill: #1967D2;\n",
              "      height: 32px;\n",
              "      padding: 0 0 0 0;\n",
              "      width: 32px;\n",
              "    }\n",
              "\n",
              "    .colab-df-convert:hover {\n",
              "      background-color: #E2EBFA;\n",
              "      box-shadow: 0px 1px 2px rgba(60, 64, 67, 0.3), 0px 1px 3px 1px rgba(60, 64, 67, 0.15);\n",
              "      fill: #174EA6;\n",
              "    }\n",
              "\n",
              "    [theme=dark] .colab-df-convert {\n",
              "      background-color: #3B4455;\n",
              "      fill: #D2E3FC;\n",
              "    }\n",
              "\n",
              "    [theme=dark] .colab-df-convert:hover {\n",
              "      background-color: #434B5C;\n",
              "      box-shadow: 0px 1px 3px 1px rgba(0, 0, 0, 0.15);\n",
              "      filter: drop-shadow(0px 1px 2px rgba(0, 0, 0, 0.3));\n",
              "      fill: #FFFFFF;\n",
              "    }\n",
              "  </style>\n",
              "\n",
              "      <script>\n",
              "        const buttonEl =\n",
              "          document.querySelector('#df-16d44eca-5eed-416c-9c5a-a33ecd9296b0 button.colab-df-convert');\n",
              "        buttonEl.style.display =\n",
              "          google.colab.kernel.accessAllowed ? 'block' : 'none';\n",
              "\n",
              "        async function convertToInteractive(key) {\n",
              "          const element = document.querySelector('#df-16d44eca-5eed-416c-9c5a-a33ecd9296b0');\n",
              "          const dataTable =\n",
              "            await google.colab.kernel.invokeFunction('convertToInteractive',\n",
              "                                                     [key], {});\n",
              "          if (!dataTable) return;\n",
              "\n",
              "          const docLinkHtml = 'Like what you see? Visit the ' +\n",
              "            '<a target=\"_blank\" href=https://colab.research.google.com/notebooks/data_table.ipynb>data table notebook</a>'\n",
              "            + ' to learn more about interactive tables.';\n",
              "          element.innerHTML = '';\n",
              "          dataTable['output_type'] = 'display_data';\n",
              "          await google.colab.output.renderOutput(dataTable, element);\n",
              "          const docLink = document.createElement('div');\n",
              "          docLink.innerHTML = docLinkHtml;\n",
              "          element.appendChild(docLink);\n",
              "        }\n",
              "      </script>\n",
              "    </div>\n",
              "  </div>\n",
              "  "
            ]
          },
          "metadata": {},
          "execution_count": 86
        }
      ]
    },
    {
      "cell_type": "code",
      "source": [
        "loan_df.groupby('Job_yrs').agg({\"CURRENT_JOB_YRS\":[min,max]})"
      ],
      "metadata": {
        "colab": {
          "base_uri": "https://localhost:8080/",
          "height": 206
        },
        "id": "7W3y7BUewQB-",
        "outputId": "60b51c62-e016-4a10-9a4c-534c2c67c506"
      },
      "execution_count": 87,
      "outputs": [
        {
          "output_type": "execute_result",
          "data": {
            "text/plain": [
              "        CURRENT_JOB_YRS      \n",
              "                    min   max\n",
              "Job_yrs                      \n",
              "0-4                 0.0   4.0\n",
              "5-8                 5.0   8.0\n",
              "9-14                9.0  14.0"
            ],
            "text/html": [
              "\n",
              "  <div id=\"df-22ff7436-49f6-488f-a167-1a1aaaf69037\">\n",
              "    <div class=\"colab-df-container\">\n",
              "      <div>\n",
              "<style scoped>\n",
              "    .dataframe tbody tr th:only-of-type {\n",
              "        vertical-align: middle;\n",
              "    }\n",
              "\n",
              "    .dataframe tbody tr th {\n",
              "        vertical-align: top;\n",
              "    }\n",
              "\n",
              "    .dataframe thead tr th {\n",
              "        text-align: left;\n",
              "    }\n",
              "\n",
              "    .dataframe thead tr:last-of-type th {\n",
              "        text-align: right;\n",
              "    }\n",
              "</style>\n",
              "<table border=\"1\" class=\"dataframe\">\n",
              "  <thead>\n",
              "    <tr>\n",
              "      <th></th>\n",
              "      <th colspan=\"2\" halign=\"left\">CURRENT_JOB_YRS</th>\n",
              "    </tr>\n",
              "    <tr>\n",
              "      <th></th>\n",
              "      <th>min</th>\n",
              "      <th>max</th>\n",
              "    </tr>\n",
              "    <tr>\n",
              "      <th>Job_yrs</th>\n",
              "      <th></th>\n",
              "      <th></th>\n",
              "    </tr>\n",
              "  </thead>\n",
              "  <tbody>\n",
              "    <tr>\n",
              "      <th>0-4</th>\n",
              "      <td>0.0</td>\n",
              "      <td>4.0</td>\n",
              "    </tr>\n",
              "    <tr>\n",
              "      <th>5-8</th>\n",
              "      <td>5.0</td>\n",
              "      <td>8.0</td>\n",
              "    </tr>\n",
              "    <tr>\n",
              "      <th>9-14</th>\n",
              "      <td>9.0</td>\n",
              "      <td>14.0</td>\n",
              "    </tr>\n",
              "  </tbody>\n",
              "</table>\n",
              "</div>\n",
              "      <button class=\"colab-df-convert\" onclick=\"convertToInteractive('df-22ff7436-49f6-488f-a167-1a1aaaf69037')\"\n",
              "              title=\"Convert this dataframe to an interactive table.\"\n",
              "              style=\"display:none;\">\n",
              "        \n",
              "  <svg xmlns=\"http://www.w3.org/2000/svg\" height=\"24px\"viewBox=\"0 0 24 24\"\n",
              "       width=\"24px\">\n",
              "    <path d=\"M0 0h24v24H0V0z\" fill=\"none\"/>\n",
              "    <path d=\"M18.56 5.44l.94 2.06.94-2.06 2.06-.94-2.06-.94-.94-2.06-.94 2.06-2.06.94zm-11 1L8.5 8.5l.94-2.06 2.06-.94-2.06-.94L8.5 2.5l-.94 2.06-2.06.94zm10 10l.94 2.06.94-2.06 2.06-.94-2.06-.94-.94-2.06-.94 2.06-2.06.94z\"/><path d=\"M17.41 7.96l-1.37-1.37c-.4-.4-.92-.59-1.43-.59-.52 0-1.04.2-1.43.59L10.3 9.45l-7.72 7.72c-.78.78-.78 2.05 0 2.83L4 21.41c.39.39.9.59 1.41.59.51 0 1.02-.2 1.41-.59l7.78-7.78 2.81-2.81c.8-.78.8-2.07 0-2.86zM5.41 20L4 18.59l7.72-7.72 1.47 1.35L5.41 20z\"/>\n",
              "  </svg>\n",
              "      </button>\n",
              "      \n",
              "  <style>\n",
              "    .colab-df-container {\n",
              "      display:flex;\n",
              "      flex-wrap:wrap;\n",
              "      gap: 12px;\n",
              "    }\n",
              "\n",
              "    .colab-df-convert {\n",
              "      background-color: #E8F0FE;\n",
              "      border: none;\n",
              "      border-radius: 50%;\n",
              "      cursor: pointer;\n",
              "      display: none;\n",
              "      fill: #1967D2;\n",
              "      height: 32px;\n",
              "      padding: 0 0 0 0;\n",
              "      width: 32px;\n",
              "    }\n",
              "\n",
              "    .colab-df-convert:hover {\n",
              "      background-color: #E2EBFA;\n",
              "      box-shadow: 0px 1px 2px rgba(60, 64, 67, 0.3), 0px 1px 3px 1px rgba(60, 64, 67, 0.15);\n",
              "      fill: #174EA6;\n",
              "    }\n",
              "\n",
              "    [theme=dark] .colab-df-convert {\n",
              "      background-color: #3B4455;\n",
              "      fill: #D2E3FC;\n",
              "    }\n",
              "\n",
              "    [theme=dark] .colab-df-convert:hover {\n",
              "      background-color: #434B5C;\n",
              "      box-shadow: 0px 1px 3px 1px rgba(0, 0, 0, 0.15);\n",
              "      filter: drop-shadow(0px 1px 2px rgba(0, 0, 0, 0.3));\n",
              "      fill: #FFFFFF;\n",
              "    }\n",
              "  </style>\n",
              "\n",
              "      <script>\n",
              "        const buttonEl =\n",
              "          document.querySelector('#df-22ff7436-49f6-488f-a167-1a1aaaf69037 button.colab-df-convert');\n",
              "        buttonEl.style.display =\n",
              "          google.colab.kernel.accessAllowed ? 'block' : 'none';\n",
              "\n",
              "        async function convertToInteractive(key) {\n",
              "          const element = document.querySelector('#df-22ff7436-49f6-488f-a167-1a1aaaf69037');\n",
              "          const dataTable =\n",
              "            await google.colab.kernel.invokeFunction('convertToInteractive',\n",
              "                                                     [key], {});\n",
              "          if (!dataTable) return;\n",
              "\n",
              "          const docLinkHtml = 'Like what you see? Visit the ' +\n",
              "            '<a target=\"_blank\" href=https://colab.research.google.com/notebooks/data_table.ipynb>data table notebook</a>'\n",
              "            + ' to learn more about interactive tables.';\n",
              "          element.innerHTML = '';\n",
              "          dataTable['output_type'] = 'display_data';\n",
              "          await google.colab.output.renderOutput(dataTable, element);\n",
              "          const docLink = document.createElement('div');\n",
              "          docLink.innerHTML = docLinkHtml;\n",
              "          element.appendChild(docLink);\n",
              "        }\n",
              "      </script>\n",
              "    </div>\n",
              "  </div>\n",
              "  "
            ]
          },
          "metadata": {},
          "execution_count": 87
        }
      ]
    },
    {
      "cell_type": "code",
      "source": [
        "loan_df.groupby(['Risk_Flag','Income_Category','Age_Group']).agg({'Risk_Flag':'count'})"
      ],
      "metadata": {
        "colab": {
          "base_uri": "https://localhost:8080/",
          "height": 645
        },
        "id": "XjnC2N8kwRiY",
        "outputId": "d872e3cc-60f0-4138-ae1d-e3f0771ecde7"
      },
      "execution_count": 90,
      "outputs": [
        {
          "output_type": "execute_result",
          "data": {
            "text/plain": [
              "                                      Risk_Flag\n",
              "Risk_Flag Income_Category Age_Group            \n",
              "0.0       Low             Young            8961\n",
              "                          Middle-Age       8911\n",
              "                          Senior           8781\n",
              "          Medium          Young            8976\n",
              "                          Middle-Age       9278\n",
              "                          Senior           8524\n",
              "          High            Young            8709\n",
              "                          Middle-Age       9170\n",
              "                          Senior           8612\n",
              "1.0       Low             Young            1610\n",
              "                          Middle-Age       1428\n",
              "                          Senior           1221\n",
              "          Medium          Young            1364\n",
              "                          Middle-Age       1516\n",
              "                          Senior           1236\n",
              "          High            Young            1585\n",
              "                          Middle-Age       1391\n",
              "                          Senior           1430"
            ],
            "text/html": [
              "\n",
              "  <div id=\"df-805e211b-78bd-4b26-80ae-08ae7eebbcf8\">\n",
              "    <div class=\"colab-df-container\">\n",
              "      <div>\n",
              "<style scoped>\n",
              "    .dataframe tbody tr th:only-of-type {\n",
              "        vertical-align: middle;\n",
              "    }\n",
              "\n",
              "    .dataframe tbody tr th {\n",
              "        vertical-align: top;\n",
              "    }\n",
              "\n",
              "    .dataframe thead th {\n",
              "        text-align: right;\n",
              "    }\n",
              "</style>\n",
              "<table border=\"1\" class=\"dataframe\">\n",
              "  <thead>\n",
              "    <tr style=\"text-align: right;\">\n",
              "      <th></th>\n",
              "      <th></th>\n",
              "      <th></th>\n",
              "      <th>Risk_Flag</th>\n",
              "    </tr>\n",
              "    <tr>\n",
              "      <th>Risk_Flag</th>\n",
              "      <th>Income_Category</th>\n",
              "      <th>Age_Group</th>\n",
              "      <th></th>\n",
              "    </tr>\n",
              "  </thead>\n",
              "  <tbody>\n",
              "    <tr>\n",
              "      <th rowspan=\"9\" valign=\"top\">0.0</th>\n",
              "      <th rowspan=\"3\" valign=\"top\">Low</th>\n",
              "      <th>Young</th>\n",
              "      <td>8961</td>\n",
              "    </tr>\n",
              "    <tr>\n",
              "      <th>Middle-Age</th>\n",
              "      <td>8911</td>\n",
              "    </tr>\n",
              "    <tr>\n",
              "      <th>Senior</th>\n",
              "      <td>8781</td>\n",
              "    </tr>\n",
              "    <tr>\n",
              "      <th rowspan=\"3\" valign=\"top\">Medium</th>\n",
              "      <th>Young</th>\n",
              "      <td>8976</td>\n",
              "    </tr>\n",
              "    <tr>\n",
              "      <th>Middle-Age</th>\n",
              "      <td>9278</td>\n",
              "    </tr>\n",
              "    <tr>\n",
              "      <th>Senior</th>\n",
              "      <td>8524</td>\n",
              "    </tr>\n",
              "    <tr>\n",
              "      <th rowspan=\"3\" valign=\"top\">High</th>\n",
              "      <th>Young</th>\n",
              "      <td>8709</td>\n",
              "    </tr>\n",
              "    <tr>\n",
              "      <th>Middle-Age</th>\n",
              "      <td>9170</td>\n",
              "    </tr>\n",
              "    <tr>\n",
              "      <th>Senior</th>\n",
              "      <td>8612</td>\n",
              "    </tr>\n",
              "    <tr>\n",
              "      <th rowspan=\"9\" valign=\"top\">1.0</th>\n",
              "      <th rowspan=\"3\" valign=\"top\">Low</th>\n",
              "      <th>Young</th>\n",
              "      <td>1610</td>\n",
              "    </tr>\n",
              "    <tr>\n",
              "      <th>Middle-Age</th>\n",
              "      <td>1428</td>\n",
              "    </tr>\n",
              "    <tr>\n",
              "      <th>Senior</th>\n",
              "      <td>1221</td>\n",
              "    </tr>\n",
              "    <tr>\n",
              "      <th rowspan=\"3\" valign=\"top\">Medium</th>\n",
              "      <th>Young</th>\n",
              "      <td>1364</td>\n",
              "    </tr>\n",
              "    <tr>\n",
              "      <th>Middle-Age</th>\n",
              "      <td>1516</td>\n",
              "    </tr>\n",
              "    <tr>\n",
              "      <th>Senior</th>\n",
              "      <td>1236</td>\n",
              "    </tr>\n",
              "    <tr>\n",
              "      <th rowspan=\"3\" valign=\"top\">High</th>\n",
              "      <th>Young</th>\n",
              "      <td>1585</td>\n",
              "    </tr>\n",
              "    <tr>\n",
              "      <th>Middle-Age</th>\n",
              "      <td>1391</td>\n",
              "    </tr>\n",
              "    <tr>\n",
              "      <th>Senior</th>\n",
              "      <td>1430</td>\n",
              "    </tr>\n",
              "  </tbody>\n",
              "</table>\n",
              "</div>\n",
              "      <button class=\"colab-df-convert\" onclick=\"convertToInteractive('df-805e211b-78bd-4b26-80ae-08ae7eebbcf8')\"\n",
              "              title=\"Convert this dataframe to an interactive table.\"\n",
              "              style=\"display:none;\">\n",
              "        \n",
              "  <svg xmlns=\"http://www.w3.org/2000/svg\" height=\"24px\"viewBox=\"0 0 24 24\"\n",
              "       width=\"24px\">\n",
              "    <path d=\"M0 0h24v24H0V0z\" fill=\"none\"/>\n",
              "    <path d=\"M18.56 5.44l.94 2.06.94-2.06 2.06-.94-2.06-.94-.94-2.06-.94 2.06-2.06.94zm-11 1L8.5 8.5l.94-2.06 2.06-.94-2.06-.94L8.5 2.5l-.94 2.06-2.06.94zm10 10l.94 2.06.94-2.06 2.06-.94-2.06-.94-.94-2.06-.94 2.06-2.06.94z\"/><path d=\"M17.41 7.96l-1.37-1.37c-.4-.4-.92-.59-1.43-.59-.52 0-1.04.2-1.43.59L10.3 9.45l-7.72 7.72c-.78.78-.78 2.05 0 2.83L4 21.41c.39.39.9.59 1.41.59.51 0 1.02-.2 1.41-.59l7.78-7.78 2.81-2.81c.8-.78.8-2.07 0-2.86zM5.41 20L4 18.59l7.72-7.72 1.47 1.35L5.41 20z\"/>\n",
              "  </svg>\n",
              "      </button>\n",
              "      \n",
              "  <style>\n",
              "    .colab-df-container {\n",
              "      display:flex;\n",
              "      flex-wrap:wrap;\n",
              "      gap: 12px;\n",
              "    }\n",
              "\n",
              "    .colab-df-convert {\n",
              "      background-color: #E8F0FE;\n",
              "      border: none;\n",
              "      border-radius: 50%;\n",
              "      cursor: pointer;\n",
              "      display: none;\n",
              "      fill: #1967D2;\n",
              "      height: 32px;\n",
              "      padding: 0 0 0 0;\n",
              "      width: 32px;\n",
              "    }\n",
              "\n",
              "    .colab-df-convert:hover {\n",
              "      background-color: #E2EBFA;\n",
              "      box-shadow: 0px 1px 2px rgba(60, 64, 67, 0.3), 0px 1px 3px 1px rgba(60, 64, 67, 0.15);\n",
              "      fill: #174EA6;\n",
              "    }\n",
              "\n",
              "    [theme=dark] .colab-df-convert {\n",
              "      background-color: #3B4455;\n",
              "      fill: #D2E3FC;\n",
              "    }\n",
              "\n",
              "    [theme=dark] .colab-df-convert:hover {\n",
              "      background-color: #434B5C;\n",
              "      box-shadow: 0px 1px 3px 1px rgba(0, 0, 0, 0.15);\n",
              "      filter: drop-shadow(0px 1px 2px rgba(0, 0, 0, 0.3));\n",
              "      fill: #FFFFFF;\n",
              "    }\n",
              "  </style>\n",
              "\n",
              "      <script>\n",
              "        const buttonEl =\n",
              "          document.querySelector('#df-805e211b-78bd-4b26-80ae-08ae7eebbcf8 button.colab-df-convert');\n",
              "        buttonEl.style.display =\n",
              "          google.colab.kernel.accessAllowed ? 'block' : 'none';\n",
              "\n",
              "        async function convertToInteractive(key) {\n",
              "          const element = document.querySelector('#df-805e211b-78bd-4b26-80ae-08ae7eebbcf8');\n",
              "          const dataTable =\n",
              "            await google.colab.kernel.invokeFunction('convertToInteractive',\n",
              "                                                     [key], {});\n",
              "          if (!dataTable) return;\n",
              "\n",
              "          const docLinkHtml = 'Like what you see? Visit the ' +\n",
              "            '<a target=\"_blank\" href=https://colab.research.google.com/notebooks/data_table.ipynb>data table notebook</a>'\n",
              "            + ' to learn more about interactive tables.';\n",
              "          element.innerHTML = '';\n",
              "          dataTable['output_type'] = 'display_data';\n",
              "          await google.colab.output.renderOutput(dataTable, element);\n",
              "          const docLink = document.createElement('div');\n",
              "          docLink.innerHTML = docLinkHtml;\n",
              "          element.appendChild(docLink);\n",
              "        }\n",
              "      </script>\n",
              "    </div>\n",
              "  </div>\n",
              "  "
            ]
          },
          "metadata": {},
          "execution_count": 90
        }
      ]
    },
    {
      "cell_type": "markdown",
      "source": [
        "##Income wise share of Risk"
      ],
      "metadata": {
        "id": "wb37OVXhxEgx"
      }
    },
    {
      "cell_type": "code",
      "source": [
        "df2 = loan_df.groupby(['Income_Category','Risk_Flag']).agg({'Risk_Flag':'count'})\n",
        "df3 = df2.groupby(level=0).apply(lambda x : 100 * x / float(x.sum()))\n",
        "print(round(df3))"
      ],
      "metadata": {
        "colab": {
          "base_uri": "https://localhost:8080/"
        },
        "id": "ExZ_jKZUwa0u",
        "outputId": "e48f05bc-9c9c-4f9d-e125-e7cc65299e82"
      },
      "execution_count": 98,
      "outputs": [
        {
          "output_type": "stream",
          "name": "stdout",
          "text": [
            "                           Risk_Flag\n",
            "Income_Category Risk_Flag           \n",
            "Low             0.0             86.0\n",
            "                1.0             14.0\n",
            "Medium          0.0             87.0\n",
            "                1.0             13.0\n",
            "High            0.0             86.0\n",
            "                1.0             14.0\n"
          ]
        }
      ]
    },
    {
      "cell_type": "markdown",
      "source": [
        "Analyzing w.r.t variables will not serve purpose as dataset is highly imbalanced towards Risk Flag 0 : non-defaulters"
      ],
      "metadata": {
        "id": "Gz9DRecEzVYX"
      }
    },
    {
      "cell_type": "markdown",
      "source": [
        "##Distribution of risk(%) by income cat."
      ],
      "metadata": {
        "id": "62RwonTG0EfH"
      }
    },
    {
      "cell_type": "code",
      "source": [
        "df2 = loan_df.groupby(['Risk_Flag','Income_Category']).agg({'Risk_Flag':'count'})\n",
        "df3 = df2.groupby(level=0).apply(lambda x : 100 * x / float(x.sum()))\n",
        "print(round(df3))"
      ],
      "metadata": {
        "colab": {
          "base_uri": "https://localhost:8080/"
        },
        "id": "_HgdDD7HxP7A",
        "outputId": "ed4bbbb8-f432-4345-c82e-f162f86326cb"
      },
      "execution_count": 100,
      "outputs": [
        {
          "output_type": "stream",
          "name": "stdout",
          "text": [
            "                           Risk_Flag\n",
            "Risk_Flag Income_Category           \n",
            "0.0       Low                   33.0\n",
            "          Medium                34.0\n",
            "          High                  33.0\n",
            "1.0       Low                   33.0\n",
            "          Medium                32.0\n",
            "          High                  34.0\n"
          ]
        }
      ]
    },
    {
      "cell_type": "markdown",
      "source": [
        "It seems loan default % is slightly higher in low and high income group"
      ],
      "metadata": {
        "id": "0F0ucTPzzwIt"
      }
    },
    {
      "cell_type": "code",
      "source": [
        "df3['Risk_Flag'].plot(kind='bar')"
      ],
      "metadata": {
        "colab": {
          "base_uri": "https://localhost:8080/",
          "height": 357
        },
        "id": "ODJHWZfYztyz",
        "outputId": "76b5fd12-25f0-4d77-8232-eaef3b62123e"
      },
      "execution_count": 101,
      "outputs": [
        {
          "output_type": "execute_result",
          "data": {
            "text/plain": [
              "<matplotlib.axes._subplots.AxesSubplot at 0x7f4b9899dcd0>"
            ]
          },
          "metadata": {},
          "execution_count": 101
        },
        {
          "output_type": "display_data",
          "data": {
            "text/plain": [
              "<Figure size 432x288 with 1 Axes>"
            ],
            "image/png": "[encoded data removed]"
          },
          "metadata": {
            "needs_background": "light"
          }
        }
      ]
    },
    {
      "cell_type": "markdown",
      "source": [
        "##Distribution of risk flag (%) by Age group"
      ],
      "metadata": {
        "id": "d7cfKgQo0UWl"
      }
    },
    {
      "cell_type": "code",
      "source": [
        "df4 = loan_df.groupby(['Risk_Flag','Age_Group']).agg({'Risk_Flag':'count'})\n",
        "df5 = df4.groupby(level=0).apply(lambda x : 100 * x / float(x.sum()))\n",
        "print(round(df5))"
      ],
      "metadata": {
        "colab": {
          "base_uri": "https://localhost:8080/"
        },
        "id": "5lhnMD0p0LtK",
        "outputId": "79af15f4-9dca-4b4f-c5ef-a875b9c82efc"
      },
      "execution_count": 102,
      "outputs": [
        {
          "output_type": "stream",
          "name": "stdout",
          "text": [
            "                      Risk_Flag\n",
            "Risk_Flag Age_Group            \n",
            "0.0       Young            33.0\n",
            "          Middle-Age       34.0\n",
            "          Senior           32.0\n",
            "1.0       Young            36.0\n",
            "          Middle-Age       34.0\n",
            "          Senior           30.0\n"
          ]
        }
      ]
    },
    {
      "cell_type": "markdown",
      "source": [
        "It is observed that loan default % is slightly high in young people (36%) followed by Middle-Age(33%) and Senior (30%)"
      ],
      "metadata": {
        "id": "LX5j4EiJ0by_"
      }
    },
    {
      "cell_type": "markdown",
      "source": [
        "##Distribution of risk flag (%) by Region"
      ],
      "metadata": {
        "id": "QOzOMtH-0fnh"
      }
    },
    {
      "cell_type": "code",
      "source": [
        "df6 = loan_df.groupby(['Risk_Flag','Region']).agg({'Risk_Flag':'count'})\n",
        "df7 = df6.groupby(level=0).apply(lambda x : 100 * x / float(x.sum()))\n",
        "print(round(df7))"
      ],
      "metadata": {
        "colab": {
          "base_uri": "https://localhost:8080/"
        },
        "id": "OCz_VUAA0QlK",
        "outputId": "1d10046a-f4d1-4472-920f-5e9229e7bea9"
      },
      "execution_count": 103,
      "outputs": [
        {
          "output_type": "stream",
          "name": "stdout",
          "text": [
            "                        Risk_Flag\n",
            "Risk_Flag Region                 \n",
            "0.0       Central             7.0\n",
            "          Eastern            22.0\n",
            "          Northeastern        4.0\n",
            "          Northern           24.0\n",
            "          Southern           28.0\n",
            "          Western            15.0\n",
            "1.0       Central             9.0\n",
            "          Eastern            25.0\n",
            "          Northeastern        5.0\n",
            "          Northern           24.0\n",
            "          Southern           24.0\n",
            "          Western            14.0\n"
          ]
        }
      ]
    },
    {
      "cell_type": "code",
      "source": [
        "loan_df.groupby(['Region']).mean()"
      ],
      "metadata": {
        "colab": {
          "base_uri": "https://localhost:8080/",
          "height": 333
        },
        "id": "R6ht45If0pSk",
        "outputId": "164d95cd-d290-4415-8f3c-6122e7b32f51"
      },
      "execution_count": 104,
      "outputs": [
        {
          "output_type": "execute_result",
          "data": {
            "text/plain": [
              "                        Id        Income  ...  Poverty_Rate  Per_Capita_Income\n",
              "Region                                    ...                                 \n",
              "Central       46451.322747  4.923515e+06  ...     33.410176       81630.488044\n",
              "Eastern       46378.403604  5.103819e+06  ...     28.480669       66599.299435\n",
              "Northeastern  46505.808205  4.938312e+06  ...     28.784227       92740.085471\n",
              "Northern      46244.569314  4.884151e+06  ...     20.068432      120980.239399\n",
              "Southern      46358.696912  5.047490e+06  ...     12.046263      160592.076077\n",
              "Western       46386.439453  5.020267e+06  ...     17.125576      180092.945226\n",
              "\n",
              "[6 rows x 13 columns]"
            ],
            "text/html": [
              "\n",
              "  <div id=\"df-096ac861-b9e8-4468-a445-43c057ba5d08\">\n",
              "    <div class=\"colab-df-container\">\n",
              "      <div>\n",
              "<style scoped>\n",
              "    .dataframe tbody tr th:only-of-type {\n",
              "        vertical-align: middle;\n",
              "    }\n",
              "\n",
              "    .dataframe tbody tr th {\n",
              "        vertical-align: top;\n",
              "    }\n",
              "\n",
              "    .dataframe thead th {\n",
              "        text-align: right;\n",
              "    }\n",
              "</style>\n",
              "<table border=\"1\" class=\"dataframe\">\n",
              "  <thead>\n",
              "    <tr style=\"text-align: right;\">\n",
              "      <th></th>\n",
              "      <th>Id</th>\n",
              "      <th>Income</th>\n",
              "      <th>Age</th>\n",
              "      <th>Experience</th>\n",
              "      <th>CURRENT_JOB_YRS</th>\n",
              "      <th>CURRENT_HOUSE_YRS</th>\n",
              "      <th>Risk_Flag</th>\n",
              "      <th>State_GDP</th>\n",
              "      <th>Literacy_Rate</th>\n",
              "      <th>Population</th>\n",
              "      <th>Unemployment</th>\n",
              "      <th>Poverty_Rate</th>\n",
              "      <th>Per_Capita_Income</th>\n",
              "    </tr>\n",
              "    <tr>\n",
              "      <th>Region</th>\n",
              "      <th></th>\n",
              "      <th></th>\n",
              "      <th></th>\n",
              "      <th></th>\n",
              "      <th></th>\n",
              "      <th></th>\n",
              "      <th></th>\n",
              "      <th></th>\n",
              "      <th></th>\n",
              "      <th></th>\n",
              "      <th></th>\n",
              "      <th></th>\n",
              "      <th></th>\n",
              "    </tr>\n",
              "  </thead>\n",
              "  <tbody>\n",
              "    <tr>\n",
              "      <th>Central</th>\n",
              "      <td>46451.322747</td>\n",
              "      <td>4.923515e+06</td>\n",
              "      <td>49.337487</td>\n",
              "      <td>10.524692</td>\n",
              "      <td>6.496733</td>\n",
              "      <td>12.039660</td>\n",
              "      <td>0.177025</td>\n",
              "      <td>4.966875e+12</td>\n",
              "      <td>74.287959</td>\n",
              "      <td>6.261823e+07</td>\n",
              "      <td>50.401307</td>\n",
              "      <td>33.410176</td>\n",
              "      <td>81630.488044</td>\n",
              "    </tr>\n",
              "    <tr>\n",
              "      <th>Eastern</th>\n",
              "      <td>46378.403604</td>\n",
              "      <td>5.103819e+06</td>\n",
              "      <td>50.026173</td>\n",
              "      <td>10.194508</td>\n",
              "      <td>6.355978</td>\n",
              "      <td>11.987986</td>\n",
              "      <td>0.151936</td>\n",
              "      <td>5.268525e+12</td>\n",
              "      <td>68.576888</td>\n",
              "      <td>8.251007e+07</td>\n",
              "      <td>72.615465</td>\n",
              "      <td>28.480669</td>\n",
              "      <td>66599.299435</td>\n",
              "    </tr>\n",
              "    <tr>\n",
              "      <th>Northeastern</th>\n",
              "      <td>46505.808205</td>\n",
              "      <td>4.938312e+06</td>\n",
              "      <td>50.156367</td>\n",
              "      <td>9.693127</td>\n",
              "      <td>6.165956</td>\n",
              "      <td>11.938466</td>\n",
              "      <td>0.160096</td>\n",
              "      <td>1.671021e+12</td>\n",
              "      <td>76.139164</td>\n",
              "      <td>2.253896e+07</td>\n",
              "      <td>71.927011</td>\n",
              "      <td>28.784227</td>\n",
              "      <td>92740.085471</td>\n",
              "    </tr>\n",
              "    <tr>\n",
              "      <th>Northern</th>\n",
              "      <td>46244.569314</td>\n",
              "      <td>4.884151e+06</td>\n",
              "      <td>50.290729</td>\n",
              "      <td>10.281200</td>\n",
              "      <td>6.383132</td>\n",
              "      <td>12.095063</td>\n",
              "      <td>0.133265</td>\n",
              "      <td>7.685647e+12</td>\n",
              "      <td>79.854864</td>\n",
              "      <td>1.125963e+08</td>\n",
              "      <td>82.531865</td>\n",
              "      <td>20.068432</td>\n",
              "      <td>120980.239399</td>\n",
              "    </tr>\n",
              "    <tr>\n",
              "      <th>Southern</th>\n",
              "      <td>46358.696912</td>\n",
              "      <td>5.047490e+06</td>\n",
              "      <td>49.731410</td>\n",
              "      <td>9.850880</td>\n",
              "      <td>6.233774</td>\n",
              "      <td>11.941258</td>\n",
              "      <td>0.122332</td>\n",
              "      <td>8.588554e+12</td>\n",
              "      <td>69.591007</td>\n",
              "      <td>5.310158e+07</td>\n",
              "      <td>62.569651</td>\n",
              "      <td>12.046263</td>\n",
              "      <td>160592.076077</td>\n",
              "    </tr>\n",
              "    <tr>\n",
              "      <th>Western</th>\n",
              "      <td>46386.439453</td>\n",
              "      <td>5.020267e+06</td>\n",
              "      <td>50.212190</td>\n",
              "      <td>10.107266</td>\n",
              "      <td>6.427160</td>\n",
              "      <td>11.943806</td>\n",
              "      <td>0.127533</td>\n",
              "      <td>1.689471e+13</td>\n",
              "      <td>91.571859</td>\n",
              "      <td>9.618619e+07</td>\n",
              "      <td>59.077705</td>\n",
              "      <td>17.125576</td>\n",
              "      <td>180092.945226</td>\n",
              "    </tr>\n",
              "  </tbody>\n",
              "</table>\n",
              "</div>\n",
              "      <button class=\"colab-df-convert\" onclick=\"convertToInteractive('df-096ac861-b9e8-4468-a445-43c057ba5d08')\"\n",
              "              title=\"Convert this dataframe to an interactive table.\"\n",
              "              style=\"display:none;\">\n",
              "        \n",
              "  <svg xmlns=\"http://www.w3.org/2000/svg\" height=\"24px\"viewBox=\"0 0 24 24\"\n",
              "       width=\"24px\">\n",
              "    <path d=\"M0 0h24v24H0V0z\" fill=\"none\"/>\n",
              "    <path d=\"M18.56 5.44l.94 2.06.94-2.06 2.06-.94-2.06-.94-.94-2.06-.94 2.06-2.06.94zm-11 1L8.5 8.5l.94-2.06 2.06-.94-2.06-.94L8.5 2.5l-.94 2.06-2.06.94zm10 10l.94 2.06.94-2.06 2.06-.94-2.06-.94-.94-2.06-.94 2.06-2.06.94z\"/><path d=\"M17.41 7.96l-1.37-1.37c-.4-.4-.92-.59-1.43-.59-.52 0-1.04.2-1.43.59L10.3 9.45l-7.72 7.72c-.78.78-.78 2.05 0 2.83L4 21.41c.39.39.9.59 1.41.59.51 0 1.02-.2 1.41-.59l7.78-7.78 2.81-2.81c.8-.78.8-2.07 0-2.86zM5.41 20L4 18.59l7.72-7.72 1.47 1.35L5.41 20z\"/>\n",
              "  </svg>\n",
              "      </button>\n",
              "      \n",
              "  <style>\n",
              "    .colab-df-container {\n",
              "      display:flex;\n",
              "      flex-wrap:wrap;\n",
              "      gap: 12px;\n",
              "    }\n",
              "\n",
              "    .colab-df-convert {\n",
              "      background-color: #E8F0FE;\n",
              "      border: none;\n",
              "      border-radius: 50%;\n",
              "      cursor: pointer;\n",
              "      display: none;\n",
              "      fill: #1967D2;\n",
              "      height: 32px;\n",
              "      padding: 0 0 0 0;\n",
              "      width: 32px;\n",
              "    }\n",
              "\n",
              "    .colab-df-convert:hover {\n",
              "      background-color: #E2EBFA;\n",
              "      box-shadow: 0px 1px 2px rgba(60, 64, 67, 0.3), 0px 1px 3px 1px rgba(60, 64, 67, 0.15);\n",
              "      fill: #174EA6;\n",
              "    }\n",
              "\n",
              "    [theme=dark] .colab-df-convert {\n",
              "      background-color: #3B4455;\n",
              "      fill: #D2E3FC;\n",
              "    }\n",
              "\n",
              "    [theme=dark] .colab-df-convert:hover {\n",
              "      background-color: #434B5C;\n",
              "      box-shadow: 0px 1px 3px 1px rgba(0, 0, 0, 0.15);\n",
              "      filter: drop-shadow(0px 1px 2px rgba(0, 0, 0, 0.3));\n",
              "      fill: #FFFFFF;\n",
              "    }\n",
              "  </style>\n",
              "\n",
              "      <script>\n",
              "        const buttonEl =\n",
              "          document.querySelector('#df-096ac861-b9e8-4468-a445-43c057ba5d08 button.colab-df-convert');\n",
              "        buttonEl.style.display =\n",
              "          google.colab.kernel.accessAllowed ? 'block' : 'none';\n",
              "\n",
              "        async function convertToInteractive(key) {\n",
              "          const element = document.querySelector('#df-096ac861-b9e8-4468-a445-43c057ba5d08');\n",
              "          const dataTable =\n",
              "            await google.colab.kernel.invokeFunction('convertToInteractive',\n",
              "                                                     [key], {});\n",
              "          if (!dataTable) return;\n",
              "\n",
              "          const docLinkHtml = 'Like what you see? Visit the ' +\n",
              "            '<a target=\"_blank\" href=https://colab.research.google.com/notebooks/data_table.ipynb>data table notebook</a>'\n",
              "            + ' to learn more about interactive tables.';\n",
              "          element.innerHTML = '';\n",
              "          dataTable['output_type'] = 'display_data';\n",
              "          await google.colab.output.renderOutput(dataTable, element);\n",
              "          const docLink = document.createElement('div');\n",
              "          docLink.innerHTML = docLinkHtml;\n",
              "          element.appendChild(docLink);\n",
              "        }\n",
              "      </script>\n",
              "    </div>\n",
              "  </div>\n",
              "  "
            ]
          },
          "metadata": {},
          "execution_count": 104
        }
      ]
    },
    {
      "cell_type": "markdown",
      "source": [
        "It is observed that loan default % is high in Eastern (25%)and Southern (24%) region. However, it is noteworthy that avg. per-capita income of Eastern region is lowest & Southern region is second highest."
      ],
      "metadata": {
        "id": "lMJXvGhB1APj"
      }
    },
    {
      "cell_type": "markdown",
      "source": [
        "##Marital Status wise share (%) in Risk Flag"
      ],
      "metadata": {
        "id": "_OxA8OUz1seX"
      }
    },
    {
      "cell_type": "code",
      "source": [
        "df8 = loan_df.groupby(['Risk_Flag','Marital_Status']).agg({'Risk_Flag':'count'})\n",
        "df9 = df8.groupby(level=0).apply(lambda x : 100 * x / float(x.sum()))\n",
        "print(round(df9))"
      ],
      "metadata": {
        "colab": {
          "base_uri": "https://localhost:8080/"
        },
        "id": "MDCav0hN0shR",
        "outputId": "179da9d8-9f25-488e-85df-6725a29a8a3e"
      },
      "execution_count": 105,
      "outputs": [
        {
          "output_type": "stream",
          "name": "stdout",
          "text": [
            "                          Risk_Flag\n",
            "Risk_Flag Marital_Status           \n",
            "0.0       married              10.0\n",
            "          single               90.0\n",
            "1.0       married               9.0\n",
            "          single               91.0\n"
          ]
        }
      ]
    },
    {
      "cell_type": "markdown",
      "source": [
        "Share of single people defaulting on loan is 91% than married persons (9%). Very skewed data."
      ],
      "metadata": {
        "id": "JcSnE59S12OP"
      }
    },
    {
      "cell_type": "markdown",
      "source": [
        "##House Ownership wise share (%) in Risk Flag"
      ],
      "metadata": {
        "id": "C37UrJAy14k4"
      }
    },
    {
      "cell_type": "code",
      "source": [
        "df10 = loan_df.groupby(['Risk_Flag','House_Ownership']).agg({'Risk_Flag':'count'})\n",
        "df11 = df10.groupby(level=0).apply(lambda x : 100 * x / float(x.sum()))\n",
        "print(round(df11))"
      ],
      "metadata": {
        "colab": {
          "base_uri": "https://localhost:8080/"
        },
        "id": "GvlxtFlh1vKk",
        "outputId": "b9ee5f37-cdbd-464a-b637-a982dcd110fb"
      },
      "execution_count": 106,
      "outputs": [
        {
          "output_type": "stream",
          "name": "stdout",
          "text": [
            "                           Risk_Flag\n",
            "Risk_Flag House_Ownership           \n",
            "0.0       norent_noown           3.0\n",
            "          owned                  5.0\n",
            "          rented                92.0\n",
            "1.0       norent_noown           2.0\n",
            "          owned                  4.0\n",
            "          rented                94.0\n"
          ]
        }
      ]
    },
    {
      "cell_type": "markdown",
      "source": [
        "Share of people in rented house defaulting on loan is 94% than others. Very skewed data."
      ],
      "metadata": {
        "id": "2q8k-R_F195T"
      }
    },
    {
      "cell_type": "markdown",
      "source": [
        "##Car Ownership wise share (%) in Risk Flag"
      ],
      "metadata": {
        "id": "UsN4sWvM2AyU"
      }
    },
    {
      "cell_type": "code",
      "source": [
        "df12 = loan_df.groupby(['Risk_Flag','Car_Ownership']).agg({'Risk_Flag':'count'})\n",
        "df13 = df12.groupby(level=0).apply(lambda x : 100 * x / float(x.sum()))\n",
        "print(round(df13))"
      ],
      "metadata": {
        "colab": {
          "base_uri": "https://localhost:8080/"
        },
        "id": "qf8unidh17lz",
        "outputId": "7ec69879-6364-4024-b19b-fb002b09e234"
      },
      "execution_count": 107,
      "outputs": [
        {
          "output_type": "stream",
          "name": "stdout",
          "text": [
            "                         Risk_Flag\n",
            "Risk_Flag Car_Ownership           \n",
            "0.0       no                  68.0\n",
            "          yes                 32.0\n",
            "1.0       no                  77.0\n",
            "          yes                 23.0\n"
          ]
        }
      ]
    },
    {
      "cell_type": "markdown",
      "source": [
        "Share of people defaulting on loan who do not have car is 73% than who has. Skewed data."
      ],
      "metadata": {
        "id": "J3HJ7Olt2KWi"
      }
    },
    {
      "cell_type": "markdown",
      "source": [
        "##Job years wise share (%) in Risk Flag"
      ],
      "metadata": {
        "id": "mP2fsm632LUA"
      }
    },
    {
      "cell_type": "code",
      "source": [
        "df16 = loan_df.groupby(['Risk_Flag','Job_yrs']).agg({'Risk_Flag':'count'})\n",
        "df17 = df16.groupby(level=0).apply(lambda x : 100 * x / float(x.sum()))\n",
        "print(round(df17))"
      ],
      "metadata": {
        "colab": {
          "base_uri": "https://localhost:8080/"
        },
        "id": "zyIYdUWD2Er5",
        "outputId": "7311d171-1358-40cf-f024-e600024f62b7"
      },
      "execution_count": 109,
      "outputs": [
        {
          "output_type": "stream",
          "name": "stdout",
          "text": [
            "                   Risk_Flag\n",
            "Risk_Flag Job_yrs           \n",
            "0.0       0-4           36.0\n",
            "          5-8           35.0\n",
            "          9-14          29.0\n",
            "1.0       0-4           36.0\n",
            "          5-8           34.0\n",
            "          9-14          30.0\n"
          ]
        }
      ]
    },
    {
      "cell_type": "markdown",
      "source": [
        "Job_Yrs is showing almost similar share in risk distribution as income category"
      ],
      "metadata": {
        "id": "lw_lbhWL2bhO"
      }
    },
    {
      "cell_type": "markdown",
      "source": [
        "##Visualizing patterns"
      ],
      "metadata": {
        "id": "GH5VlToj2tRM"
      }
    },
    {
      "cell_type": "code",
      "source": [
        "#wrt age group\n",
        "sns.countplot(data=loan_df,x='Age_Group',hue='Risk_Flag')"
      ],
      "metadata": {
        "colab": {
          "base_uri": "https://localhost:8080/",
          "height": 297
        },
        "id": "8QwK9bIz2OU6",
        "outputId": "a4ae7857-93ec-49fc-8d34-2f4279ccbaff"
      },
      "execution_count": 110,
      "outputs": [
        {
          "output_type": "execute_result",
          "data": {
            "text/plain": [
              "<matplotlib.axes._subplots.AxesSubplot at 0x7f4b98a76910>"
            ]
          },
          "metadata": {},
          "execution_count": 110
        },
        {
          "output_type": "display_data",
          "data": {
            "text/plain": [
              "<Figure size 432x288 with 1 Axes>"
            ],
            "image/png": "[encoded data removed]"
          },
          "metadata": {
            "needs_background": "light"
          }
        }
      ]
    },
    {
      "cell_type": "code",
      "source": [
        "#wrt income\n",
        "sns.countplot(data=loan_df,x='Income_Category',hue='Risk_Flag')"
      ],
      "metadata": {
        "colab": {
          "base_uri": "https://localhost:8080/",
          "height": 297
        },
        "id": "TSGrCMl62q9f",
        "outputId": "2aa3eff8-bde2-4f5d-d952-b0d947122cae"
      },
      "execution_count": 111,
      "outputs": [
        {
          "output_type": "execute_result",
          "data": {
            "text/plain": [
              "<matplotlib.axes._subplots.AxesSubplot at 0x7f4b98ac1340>"
            ]
          },
          "metadata": {},
          "execution_count": 111
        },
        {
          "output_type": "display_data",
          "data": {
            "text/plain": [
              "<Figure size 432x288 with 1 Axes>"
            ],
            "image/png": "[encoded data removed]"
          },
          "metadata": {
            "needs_background": "light"
          }
        }
      ]
    },
    {
      "cell_type": "code",
      "source": [
        "#wrt region\n",
        "sns.countplot(data=loan_df,x='Region',hue='Risk_Flag')"
      ],
      "metadata": {
        "colab": {
          "base_uri": "https://localhost:8080/",
          "height": 296
        },
        "id": "rqD3iWk12_h9",
        "outputId": "d2e3214e-e758-40c2-a9d8-b5a8b0f6482c"
      },
      "execution_count": 113,
      "outputs": [
        {
          "output_type": "execute_result",
          "data": {
            "text/plain": [
              "<matplotlib.axes._subplots.AxesSubplot at 0x7f4b98b70340>"
            ]
          },
          "metadata": {},
          "execution_count": 113
        },
        {
          "output_type": "display_data",
          "data": {
            "text/plain": [
              "<Figure size 432x288 with 1 Axes>"
            ],
            "image/png": "[encoded data removed]"
          },
          "metadata": {
            "needs_background": "light"
          }
        }
      ]
    },
    {
      "cell_type": "code",
      "source": [
        "plt.figure(figsize= (10,6))\n",
        "sns.barplot(x='Region',y='Per_Capita_Income',hue='Risk_Flag',data=loan_df)"
      ],
      "metadata": {
        "colab": {
          "base_uri": "https://localhost:8080/",
          "height": 405
        },
        "id": "Cu3hxUeN3GcR",
        "outputId": "f48d8596-899a-4fda-b92d-bebc6f4c1029"
      },
      "execution_count": 114,
      "outputs": [
        {
          "output_type": "execute_result",
          "data": {
            "text/plain": [
              "<matplotlib.axes._subplots.AxesSubplot at 0x7f4b98b2f2e0>"
            ]
          },
          "metadata": {},
          "execution_count": 114
        },
        {
          "output_type": "display_data",
          "data": {
            "text/plain": [
              "<Figure size 720x432 with 1 Axes>"
            ],
            "image/png": "[encoded data removed]"
          },
          "metadata": {
            "needs_background": "light"
          }
        }
      ]
    },
    {
      "cell_type": "code",
      "source": [
        "plt.figure(figsize= (10,6))\n",
        "sns.barplot(x='Region',y='Population',hue='Risk_Flag',data=loan_df)"
      ],
      "metadata": {
        "colab": {
          "base_uri": "https://localhost:8080/",
          "height": 416
        },
        "id": "54ZPSJ8M3Q0j",
        "outputId": "a6ffaacf-98ea-4b81-ade5-7c04f71e18aa"
      },
      "execution_count": 115,
      "outputs": [
        {
          "output_type": "execute_result",
          "data": {
            "text/plain": [
              "<matplotlib.axes._subplots.AxesSubplot at 0x7f4b9ab9eeb0>"
            ]
          },
          "metadata": {},
          "execution_count": 115
        },
        {
          "output_type": "display_data",
          "data": {
            "text/plain": [
              "<Figure size 720x432 with 1 Axes>"
            ],
            "image/png": "[encoded data removed]"
          },
          "metadata": {
            "needs_background": "light"
          }
        }
      ]
    },
    {
      "cell_type": "code",
      "source": [
        "plt.figure(figsize= (10,6))\n",
        "sns.barplot(x='Region',y='Literacy_Rate',hue='Risk_Flag',data=loan_df)"
      ],
      "metadata": {
        "colab": {
          "base_uri": "https://localhost:8080/",
          "height": 405
        },
        "id": "u9jgzF1x3mFW",
        "outputId": "087c4275-979b-4928-8c70-f2b9da3123eb"
      },
      "execution_count": 116,
      "outputs": [
        {
          "output_type": "execute_result",
          "data": {
            "text/plain": [
              "<matplotlib.axes._subplots.AxesSubplot at 0x7f4b9887ea90>"
            ]
          },
          "metadata": {},
          "execution_count": 116
        },
        {
          "output_type": "display_data",
          "data": {
            "text/plain": [
              "<Figure size 720x432 with 1 Axes>"
            ],
            "image/png": "[encoded data removed]"
          },
          "metadata": {
            "needs_background": "light"
          }
        }
      ]
    },
    {
      "cell_type": "code",
      "source": [
        "loan_df.columns"
      ],
      "metadata": {
        "colab": {
          "base_uri": "https://localhost:8080/"
        },
        "id": "lBubenNC3vEH",
        "outputId": "1178bd39-2511-47b7-c990-756ee1af1d03"
      },
      "execution_count": 117,
      "outputs": [
        {
          "output_type": "execute_result",
          "data": {
            "text/plain": [
              "Index(['Id', 'Income', 'Age', 'Experience', 'Marital_Status',\n",
              "       'House_Ownership', 'Car_Ownership', 'Profession', 'CITY',\n",
              "       'CURRENT_JOB_YRS', 'CURRENT_HOUSE_YRS', 'Risk_Flag', 'Rev_State',\n",
              "       'State', 'State_GDP', 'Literacy_Rate', 'Population', 'Unemployment',\n",
              "       'Poverty_Rate', 'Region', 'Per_Capita_Income', 'Income_Category',\n",
              "       'Age_Group', 'Job_yrs'],\n",
              "      dtype='object')"
            ]
          },
          "metadata": {},
          "execution_count": 117
        }
      ]
    },
    {
      "cell_type": "markdown",
      "source": [
        "##Combining similar professions"
      ],
      "metadata": {
        "id": "EDGoNmqf506b"
      }
    },
    {
      "cell_type": "code",
      "source": [
        "loan_df['Profession'].unique()"
      ],
      "metadata": {
        "colab": {
          "base_uri": "https://localhost:8080/"
        },
        "id": "fLEEuSc836yQ",
        "outputId": "5c245a1d-0512-4cf6-ada8-a56f3475983b"
      },
      "execution_count": 118,
      "outputs": [
        {
          "output_type": "execute_result",
          "data": {
            "text/plain": [
              "array(['Mechanical_engineer', 'Software_Developer', 'Technical_writer',\n",
              "       'Civil_servant', 'Librarian', 'Economist', 'Flight_attendant',\n",
              "       'Architect', 'Designer', 'Physician', 'Financial_Analyst',\n",
              "       'Air_traffic_controller', 'Politician', 'Police_officer', 'Artist',\n",
              "       'Surveyor', 'Design_Engineer', 'Chemical_engineer',\n",
              "       'Hotel_Manager', 'Dentist', 'Comedian', 'Biomedical_Engineer',\n",
              "       'Graphic_Designer', 'Computer_hardware_engineer',\n",
              "       'Petroleum_Engineer', 'Secretary', 'Computer_operator',\n",
              "       'Chartered_Accountant', 'Technician', 'Microbiologist',\n",
              "       'Fashion_Designer', 'Aviator', 'Psychologist', 'Magistrate',\n",
              "       'Lawyer', 'Firefighter', 'Engineer', 'Official', 'Analyst',\n",
              "       'Geologist', 'Drafter', 'Statistician', 'Web_designer',\n",
              "       'Consultant', 'Chef', 'Army_officer', 'Surgeon', 'Scientist',\n",
              "       'Civil_engineer', 'Industrial_Engineer', 'Technology_specialist',\n",
              "       nan], dtype=object)"
            ]
          },
          "metadata": {},
          "execution_count": 118
        }
      ]
    },
    {
      "cell_type": "code",
      "source": [
        "Profession_type = {'Mechanical_engineer':'Professional', 'Software_Developer':'Service', 'Technical_writer':'Service',\n",
        "       'Civil_servant':'Government', 'Librarian':'Service', 'Economist':'Service', 'Flight_attendant':'Service',\n",
        "       'Architect':'Professional', 'Designer':'Service', 'Physician':'Professional', 'Financial_Analyst':'Service',\n",
        "       'Air_traffic_controller':'Government', 'Politician':'Government', 'Police_officer':'Government', 'Artist':'Service',\n",
        "       'Surveyor':'Service', 'Design_Engineer':'Professional', 'Chemical_engineer':'Professional',\n",
        "       'Hotel_Manager':'Service', 'Dentist':'Professional', 'Comedian':'Service', 'Biomedical_Engineer':'Professional',\n",
        "       'Graphic_Designer':'Service', 'Computer_hardware_engineer':'Service',\n",
        "       'Petroleum_Engineer':'Professional', 'Secretary':'Service', 'Computer_operator':'Service',\n",
        "       'Chartered_Accountant':'Professional', 'Technician':'Service', 'Microbiologist':'Professional',\n",
        "       'Fashion_Designer':'Service', 'Aviator':'Professional', 'Psychologist':'Professional', 'Magistrate':'Professional',\n",
        "       'Lawyer':'Professional', 'Firefighter':'Government', 'Engineer':'Professional', 'Official':'Service', 'Analyst':'Service',\n",
        "       'Geologist':'Professional', 'Drafter':'Service', 'Statistician':'Professional', 'Web_designer':'Service',\n",
        "       'Consultant':'Professional', 'Chef':'Service', 'Army_officer':'Government', 'Surgeon':'Professional', 'Scientist':'Professional',\n",
        "       'Civil_engineer':'Professional', 'Industrial_Engineer':'Professional', 'Technology_specialist':'Service'}"
      ],
      "metadata": {
        "id": "FL3UmpxV38wo"
      },
      "execution_count": 119,
      "outputs": []
    },
    {
      "cell_type": "code",
      "source": [
        "loan_df['Profession_Cat'] = loan_df['Profession'].map(Profession_type)"
      ],
      "metadata": {
        "id": "9MsCZsDZ4pLA"
      },
      "execution_count": 120,
      "outputs": []
    },
    {
      "cell_type": "code",
      "source": [
        "loan_df['Profession_Cat'].unique()"
      ],
      "metadata": {
        "colab": {
          "base_uri": "https://localhost:8080/"
        },
        "id": "VNc98wPj4rms",
        "outputId": "28f6b9fe-ae2c-4053-c242-9f1488597a1c"
      },
      "execution_count": 121,
      "outputs": [
        {
          "output_type": "execute_result",
          "data": {
            "text/plain": [
              "array(['Professional', 'Service', 'Government', nan], dtype=object)"
            ]
          },
          "metadata": {},
          "execution_count": 121
        }
      ]
    },
    {
      "cell_type": "markdown",
      "source": [
        "##Feature selection and finding COrrelation"
      ],
      "metadata": {
        "id": "Zci4GiQR5yIi"
      }
    },
    {
      "cell_type": "code",
      "source": [
        "plt.figure(figsize= (15,6))\n",
        "dataplot = sns.heatmap(loan_df.corr(), cmap=\"YlGnBu\", annot=True)"
      ],
      "metadata": {
        "colab": {
          "base_uri": "https://localhost:8080/",
          "height": 500
        },
        "id": "Km1dec8Q4tJK",
        "outputId": "2809eb48-65dd-49d0-fc0e-c5b087ad89a2"
      },
      "execution_count": 122,
      "outputs": [
        {
          "output_type": "display_data",
          "data": {
            "text/plain": [
              "<Figure size 1080x432 with 2 Axes>"
            ],
            "image/png": "[encoded data removed]"
          },
          "metadata": {
            "needs_background": "light"
          }
        }
      ]
    },
    {
      "cell_type": "markdown",
      "source": [
        "Experience & Current Job years are highly correlated with each other. Similarly, literacy rate, poverty rate & unemployment has high correlation with per_capita income."
      ],
      "metadata": {
        "id": "b3oKeNSG5kC7"
      }
    },
    {
      "cell_type": "markdown",
      "source": [
        "##Variance Inflation Factor (VIF) on features"
      ],
      "metadata": {
        "id": "SdBzPHoI6CKX"
      }
    },
    {
      "cell_type": "code",
      "source": [
        "ohe = OneHotEncoder(handle_unknown='ignore')\n",
        "ohe_df = pd.DataFrame(ohe.fit_transform(loan_df[['Region','Profession_Cat']]).toarray())"
      ],
      "metadata": {
        "id": "y4tQ7eHM43ko"
      },
      "execution_count": 123,
      "outputs": []
    },
    {
      "cell_type": "code",
      "source": [
        "ohe.categories_"
      ],
      "metadata": {
        "colab": {
          "base_uri": "https://localhost:8080/"
        },
        "id": "pvRT-cPc6l_m",
        "outputId": "c00db310-1a4e-40f5-dd55-a6f887d2ddb0"
      },
      "execution_count": 124,
      "outputs": [
        {
          "output_type": "execute_result",
          "data": {
            "text/plain": [
              "[array(['Central', 'Eastern', 'Northeastern', 'Northern', 'Southern',\n",
              "        'Western', nan], dtype=object),\n",
              " array(['Government', 'Professional', 'Service', nan], dtype=object)]"
            ]
          },
          "metadata": {},
          "execution_count": 124
        }
      ]
    },
    {
      "cell_type": "code",
      "source": [
        "le = LabelEncoder()"
      ],
      "metadata": {
        "id": "wQo89BtL6oGY"
      },
      "execution_count": 125,
      "outputs": []
    },
    {
      "cell_type": "markdown",
      "source": [
        "##Create a dictionary to map categories to weightage"
      ],
      "metadata": {
        "id": "8tjn39jh61Ch"
      }
    },
    {
      "cell_type": "code",
      "source": [
        "house_weightage = {'norent_noown': 0, 'rented': 1, 'owned': 2}\n",
        "age_weightage = {'Young': 0, 'Middle-Age': 1, 'Senior': 2}\n",
        "income_weightage = {'Low': 0, 'Medium': 1, 'High': 2}\n",
        "jobyr_weightage = {'0-4': 0, '5-8': 1, '9-14': 2}"
      ],
      "metadata": {
        "id": "Ni0rjtwC6tzh"
      },
      "execution_count": 126,
      "outputs": []
    },
    {
      "cell_type": "code",
      "source": [
        "loan_df['Marital_Status1'] = le.fit_transform(loan_df.Marital_Status)\n",
        "loan_df['Car_Ownership1'] = le.fit_transform(loan_df.Car_Ownership)\n",
        "#loan_df['House_Ownership1'] = le.fit_transform(loan_df.House_Ownership)\n",
        "loan_df['House_Ownership1'] =loan_df['House_Ownership'].map(house_weightage)\n",
        "#loan_df['Age_Group1'] = le.fit_transform(loan_df.Age_Group)\n",
        "loan_df['Age_Group1'] = loan_df['Age_Group'].map(age_weightage)\n",
        "#loan_df['Income_Category1'] = le.fit_transform(loan_df.Income_Category)\n",
        "loan_df['Income_Category1'] = loan_df['Income_Category'].map(income_weightage)\n",
        "#loan_df['Job_yrs1'] = le.fit_transform(loan_df.Job_yrs).map(jobyr_weightage)\n",
        "loan_df['Job_yrs1'] = loan_df['Job_yrs'].map(jobyr_weightage)"
      ],
      "metadata": {
        "id": "Kz4Y5YyU65kH"
      },
      "execution_count": 127,
      "outputs": []
    },
    {
      "cell_type": "markdown",
      "source": [
        "##Combining orignal df with one_hot_encoding df"
      ],
      "metadata": {
        "id": "V00YwuLhZUSo"
      }
    },
    {
      "cell_type": "code",
      "source": [
        "final_loan_df = loan_df.join(ohe_df)"
      ],
      "metadata": {
        "id": "uliD90TIQNTG"
      },
      "execution_count": 128,
      "outputs": []
    },
    {
      "cell_type": "code",
      "source": [
        "final_loan_df.head()"
      ],
      "metadata": {
        "colab": {
          "base_uri": "https://localhost:8080/",
          "height": 322
        },
        "id": "Bye8yvGkQP8o",
        "outputId": "c2b5d1d9-8936-43de-ee0d-cfb89c8cddc5"
      },
      "execution_count": 129,
      "outputs": [
        {
          "output_type": "execute_result",
          "data": {
            "text/plain": [
              "   Id   Income  Age  Experience Marital_Status  ...    6    7    8    9   10\n",
              "0   1  1303834   23         3.0         single  ...  0.0  0.0  1.0  0.0  0.0\n",
              "1   2  7574516   40        10.0         single  ...  0.0  0.0  0.0  1.0  0.0\n",
              "2   3  3991815   66         4.0        married  ...  0.0  0.0  0.0  1.0  0.0\n",
              "3   4  6256451   41         2.0         single  ...  0.0  0.0  0.0  1.0  0.0\n",
              "4   5  5768871   47        11.0         single  ...  0.0  1.0  0.0  0.0  0.0\n",
              "\n",
              "[5 rows x 42 columns]"
            ],
            "text/html": [
              "\n",
              "  <div id=\"df-1a305bf8-d605-4ed0-bf63-c5abce7f4865\">\n",
              "    <div class=\"colab-df-container\">\n",
              "      <div>\n",
              "<style scoped>\n",
              "    .dataframe tbody tr th:only-of-type {\n",
              "        vertical-align: middle;\n",
              "    }\n",
              "\n",
              "    .dataframe tbody tr th {\n",
              "        vertical-align: top;\n",
              "    }\n",
              "\n",
              "    .dataframe thead th {\n",
              "        text-align: right;\n",
              "    }\n",
              "</style>\n",
              "<table border=\"1\" class=\"dataframe\">\n",
              "  <thead>\n",
              "    <tr style=\"text-align: right;\">\n",
              "      <th></th>\n",
              "      <th>Id</th>\n",
              "      <th>Income</th>\n",
              "      <th>Age</th>\n",
              "      <th>Experience</th>\n",
              "      <th>Marital_Status</th>\n",
              "      <th>House_Ownership</th>\n",
              "      <th>Car_Ownership</th>\n",
              "      <th>Profession</th>\n",
              "      <th>CITY</th>\n",
              "      <th>CURRENT_JOB_YRS</th>\n",
              "      <th>CURRENT_HOUSE_YRS</th>\n",
              "      <th>Risk_Flag</th>\n",
              "      <th>Rev_State</th>\n",
              "      <th>State</th>\n",
              "      <th>State_GDP</th>\n",
              "      <th>Literacy_Rate</th>\n",
              "      <th>Population</th>\n",
              "      <th>Unemployment</th>\n",
              "      <th>Poverty_Rate</th>\n",
              "      <th>Region</th>\n",
              "      <th>Per_Capita_Income</th>\n",
              "      <th>Income_Category</th>\n",
              "      <th>Age_Group</th>\n",
              "      <th>Job_yrs</th>\n",
              "      <th>Profession_Cat</th>\n",
              "      <th>Marital_Status1</th>\n",
              "      <th>Car_Ownership1</th>\n",
              "      <th>House_Ownership1</th>\n",
              "      <th>Age_Group1</th>\n",
              "      <th>Income_Category1</th>\n",
              "      <th>Job_yrs1</th>\n",
              "      <th>0</th>\n",
              "      <th>1</th>\n",
              "      <th>2</th>\n",
              "      <th>3</th>\n",
              "      <th>4</th>\n",
              "      <th>5</th>\n",
              "      <th>6</th>\n",
              "      <th>7</th>\n",
              "      <th>8</th>\n",
              "      <th>9</th>\n",
              "      <th>10</th>\n",
              "    </tr>\n",
              "  </thead>\n",
              "  <tbody>\n",
              "    <tr>\n",
              "      <th>0</th>\n",
              "      <td>1</td>\n",
              "      <td>1303834</td>\n",
              "      <td>23</td>\n",
              "      <td>3.0</td>\n",
              "      <td>single</td>\n",
              "      <td>rented</td>\n",
              "      <td>no</td>\n",
              "      <td>Mechanical_engineer</td>\n",
              "      <td>Rewa</td>\n",
              "      <td>3.0</td>\n",
              "      <td>13.0</td>\n",
              "      <td>0.0</td>\n",
              "      <td>Madhya Pradesh</td>\n",
              "      <td>Madhya Pradesh</td>\n",
              "      <td>5.645144e+12</td>\n",
              "      <td>75.37</td>\n",
              "      <td>72627000.0</td>\n",
              "      <td>47.0</td>\n",
              "      <td>31.65</td>\n",
              "      <td>Central</td>\n",
              "      <td>77727.893208</td>\n",
              "      <td>Low</td>\n",
              "      <td>Young</td>\n",
              "      <td>0-4</td>\n",
              "      <td>Professional</td>\n",
              "      <td>1</td>\n",
              "      <td>0</td>\n",
              "      <td>1.0</td>\n",
              "      <td>0</td>\n",
              "      <td>0</td>\n",
              "      <td>0</td>\n",
              "      <td>1.0</td>\n",
              "      <td>0.0</td>\n",
              "      <td>0.0</td>\n",
              "      <td>0.0</td>\n",
              "      <td>0.0</td>\n",
              "      <td>0.0</td>\n",
              "      <td>0.0</td>\n",
              "      <td>0.0</td>\n",
              "      <td>1.0</td>\n",
              "      <td>0.0</td>\n",
              "      <td>0.0</td>\n",
              "    </tr>\n",
              "    <tr>\n",
              "      <th>1</th>\n",
              "      <td>2</td>\n",
              "      <td>7574516</td>\n",
              "      <td>40</td>\n",
              "      <td>10.0</td>\n",
              "      <td>single</td>\n",
              "      <td>rented</td>\n",
              "      <td>no</td>\n",
              "      <td>Software_Developer</td>\n",
              "      <td>Parbhani</td>\n",
              "      <td>9.0</td>\n",
              "      <td>13.0</td>\n",
              "      <td>0.0</td>\n",
              "      <td>Maharashtra</td>\n",
              "      <td>Maharashtra</td>\n",
              "      <td>1.889307e+13</td>\n",
              "      <td>94.00</td>\n",
              "      <td>112374000.0</td>\n",
              "      <td>65.0</td>\n",
              "      <td>17.35</td>\n",
              "      <td>Western</td>\n",
              "      <td>168126.671650</td>\n",
              "      <td>High</td>\n",
              "      <td>Young</td>\n",
              "      <td>9-14</td>\n",
              "      <td>Service</td>\n",
              "      <td>1</td>\n",
              "      <td>0</td>\n",
              "      <td>1.0</td>\n",
              "      <td>0</td>\n",
              "      <td>2</td>\n",
              "      <td>2</td>\n",
              "      <td>0.0</td>\n",
              "      <td>0.0</td>\n",
              "      <td>0.0</td>\n",
              "      <td>0.0</td>\n",
              "      <td>0.0</td>\n",
              "      <td>1.0</td>\n",
              "      <td>0.0</td>\n",
              "      <td>0.0</td>\n",
              "      <td>0.0</td>\n",
              "      <td>1.0</td>\n",
              "      <td>0.0</td>\n",
              "    </tr>\n",
              "    <tr>\n",
              "      <th>2</th>\n",
              "      <td>3</td>\n",
              "      <td>3991815</td>\n",
              "      <td>66</td>\n",
              "      <td>4.0</td>\n",
              "      <td>married</td>\n",
              "      <td>rented</td>\n",
              "      <td>no</td>\n",
              "      <td>Technical_writer</td>\n",
              "      <td>Alappuzha</td>\n",
              "      <td>4.0</td>\n",
              "      <td>10.0</td>\n",
              "      <td>0.0</td>\n",
              "      <td>Kerala</td>\n",
              "      <td>Kerala</td>\n",
              "      <td>5.144000e+12</td>\n",
              "      <td>66.41</td>\n",
              "      <td>33406000.0</td>\n",
              "      <td>116.0</td>\n",
              "      <td>7.05</td>\n",
              "      <td>Southern</td>\n",
              "      <td>153984.311202</td>\n",
              "      <td>Medium</td>\n",
              "      <td>Senior</td>\n",
              "      <td>0-4</td>\n",
              "      <td>Service</td>\n",
              "      <td>0</td>\n",
              "      <td>0</td>\n",
              "      <td>1.0</td>\n",
              "      <td>2</td>\n",
              "      <td>1</td>\n",
              "      <td>0</td>\n",
              "      <td>0.0</td>\n",
              "      <td>0.0</td>\n",
              "      <td>0.0</td>\n",
              "      <td>0.0</td>\n",
              "      <td>1.0</td>\n",
              "      <td>0.0</td>\n",
              "      <td>0.0</td>\n",
              "      <td>0.0</td>\n",
              "      <td>0.0</td>\n",
              "      <td>1.0</td>\n",
              "      <td>0.0</td>\n",
              "    </tr>\n",
              "    <tr>\n",
              "      <th>3</th>\n",
              "      <td>4</td>\n",
              "      <td>6256451</td>\n",
              "      <td>41</td>\n",
              "      <td>2.0</td>\n",
              "      <td>single</td>\n",
              "      <td>rented</td>\n",
              "      <td>yes</td>\n",
              "      <td>Software_Developer</td>\n",
              "      <td>Bhubaneswar</td>\n",
              "      <td>2.0</td>\n",
              "      <td>12.0</td>\n",
              "      <td>1.0</td>\n",
              "      <td>Odisha</td>\n",
              "      <td>Odisha</td>\n",
              "      <td>3.814703e+12</td>\n",
              "      <td>74.43</td>\n",
              "      <td>41974000.0</td>\n",
              "      <td>78.0</td>\n",
              "      <td>32.59</td>\n",
              "      <td>Eastern</td>\n",
              "      <td>90882.529661</td>\n",
              "      <td>Medium</td>\n",
              "      <td>Middle-Age</td>\n",
              "      <td>0-4</td>\n",
              "      <td>Service</td>\n",
              "      <td>1</td>\n",
              "      <td>1</td>\n",
              "      <td>1.0</td>\n",
              "      <td>1</td>\n",
              "      <td>1</td>\n",
              "      <td>0</td>\n",
              "      <td>0.0</td>\n",
              "      <td>1.0</td>\n",
              "      <td>0.0</td>\n",
              "      <td>0.0</td>\n",
              "      <td>0.0</td>\n",
              "      <td>0.0</td>\n",
              "      <td>0.0</td>\n",
              "      <td>0.0</td>\n",
              "      <td>0.0</td>\n",
              "      <td>1.0</td>\n",
              "      <td>0.0</td>\n",
              "    </tr>\n",
              "    <tr>\n",
              "      <th>4</th>\n",
              "      <td>5</td>\n",
              "      <td>5768871</td>\n",
              "      <td>47</td>\n",
              "      <td>11.0</td>\n",
              "      <td>single</td>\n",
              "      <td>rented</td>\n",
              "      <td>no</td>\n",
              "      <td>Civil_servant</td>\n",
              "      <td>Tiruchirappalli[10]</td>\n",
              "      <td>3.0</td>\n",
              "      <td>14.0</td>\n",
              "      <td>1.0</td>\n",
              "      <td>Tamil Nadu</td>\n",
              "      <td>Tamil Nadu</td>\n",
              "      <td>1.245595e+13</td>\n",
              "      <td>75.84</td>\n",
              "      <td>72147000.0</td>\n",
              "      <td>58.0</td>\n",
              "      <td>11.28</td>\n",
              "      <td>Southern</td>\n",
              "      <td>172646.839092</td>\n",
              "      <td>Medium</td>\n",
              "      <td>Middle-Age</td>\n",
              "      <td>0-4</td>\n",
              "      <td>Government</td>\n",
              "      <td>1</td>\n",
              "      <td>0</td>\n",
              "      <td>1.0</td>\n",
              "      <td>1</td>\n",
              "      <td>1</td>\n",
              "      <td>0</td>\n",
              "      <td>0.0</td>\n",
              "      <td>0.0</td>\n",
              "      <td>0.0</td>\n",
              "      <td>0.0</td>\n",
              "      <td>1.0</td>\n",
              "      <td>0.0</td>\n",
              "      <td>0.0</td>\n",
              "      <td>1.0</td>\n",
              "      <td>0.0</td>\n",
              "      <td>0.0</td>\n",
              "      <td>0.0</td>\n",
              "    </tr>\n",
              "  </tbody>\n",
              "</table>\n",
              "</div>\n",
              "      <button class=\"colab-df-convert\" onclick=\"convertToInteractive('df-1a305bf8-d605-4ed0-bf63-c5abce7f4865')\"\n",
              "              title=\"Convert this dataframe to an interactive table.\"\n",
              "              style=\"display:none;\">\n",
              "        \n",
              "  <svg xmlns=\"http://www.w3.org/2000/svg\" height=\"24px\"viewBox=\"0 0 24 24\"\n",
              "       width=\"24px\">\n",
              "    <path d=\"M0 0h24v24H0V0z\" fill=\"none\"/>\n",
              "    <path d=\"M18.56 5.44l.94 2.06.94-2.06 2.06-.94-2.06-.94-.94-2.06-.94 2.06-2.06.94zm-11 1L8.5 8.5l.94-2.06 2.06-.94-2.06-.94L8.5 2.5l-.94 2.06-2.06.94zm10 10l.94 2.06.94-2.06 2.06-.94-2.06-.94-.94-2.06-.94 2.06-2.06.94z\"/><path d=\"M17.41 7.96l-1.37-1.37c-.4-.4-.92-.59-1.43-.59-.52 0-1.04.2-1.43.59L10.3 9.45l-7.72 7.72c-.78.78-.78 2.05 0 2.83L4 21.41c.39.39.9.59 1.41.59.51 0 1.02-.2 1.41-.59l7.78-7.78 2.81-2.81c.8-.78.8-2.07 0-2.86zM5.41 20L4 18.59l7.72-7.72 1.47 1.35L5.41 20z\"/>\n",
              "  </svg>\n",
              "      </button>\n",
              "      \n",
              "  <style>\n",
              "    .colab-df-container {\n",
              "      display:flex;\n",
              "      flex-wrap:wrap;\n",
              "      gap: 12px;\n",
              "    }\n",
              "\n",
              "    .colab-df-convert {\n",
              "      background-color: #E8F0FE;\n",
              "      border: none;\n",
              "      border-radius: 50%;\n",
              "      cursor: pointer;\n",
              "      display: none;\n",
              "      fill: #1967D2;\n",
              "      height: 32px;\n",
              "      padding: 0 0 0 0;\n",
              "      width: 32px;\n",
              "    }\n",
              "\n",
              "    .colab-df-convert:hover {\n",
              "      background-color: #E2EBFA;\n",
              "      box-shadow: 0px 1px 2px rgba(60, 64, 67, 0.3), 0px 1px 3px 1px rgba(60, 64, 67, 0.15);\n",
              "      fill: #174EA6;\n",
              "    }\n",
              "\n",
              "    [theme=dark] .colab-df-convert {\n",
              "      background-color: #3B4455;\n",
              "      fill: #D2E3FC;\n",
              "    }\n",
              "\n",
              "    [theme=dark] .colab-df-convert:hover {\n",
              "      background-color: #434B5C;\n",
              "      box-shadow: 0px 1px 3px 1px rgba(0, 0, 0, 0.15);\n",
              "      filter: drop-shadow(0px 1px 2px rgba(0, 0, 0, 0.3));\n",
              "      fill: #FFFFFF;\n",
              "    }\n",
              "  </style>\n",
              "\n",
              "      <script>\n",
              "        const buttonEl =\n",
              "          document.querySelector('#df-1a305bf8-d605-4ed0-bf63-c5abce7f4865 button.colab-df-convert');\n",
              "        buttonEl.style.display =\n",
              "          google.colab.kernel.accessAllowed ? 'block' : 'none';\n",
              "\n",
              "        async function convertToInteractive(key) {\n",
              "          const element = document.querySelector('#df-1a305bf8-d605-4ed0-bf63-c5abce7f4865');\n",
              "          const dataTable =\n",
              "            await google.colab.kernel.invokeFunction('convertToInteractive',\n",
              "                                                     [key], {});\n",
              "          if (!dataTable) return;\n",
              "\n",
              "          const docLinkHtml = 'Like what you see? Visit the ' +\n",
              "            '<a target=\"_blank\" href=https://colab.research.google.com/notebooks/data_table.ipynb>data table notebook</a>'\n",
              "            + ' to learn more about interactive tables.';\n",
              "          element.innerHTML = '';\n",
              "          dataTable['output_type'] = 'display_data';\n",
              "          await google.colab.output.renderOutput(dataTable, element);\n",
              "          const docLink = document.createElement('div');\n",
              "          docLink.innerHTML = docLinkHtml;\n",
              "          element.appendChild(docLink);\n",
              "        }\n",
              "      </script>\n",
              "    </div>\n",
              "  </div>\n",
              "  "
            ]
          },
          "metadata": {},
          "execution_count": 129
        }
      ]
    },
    {
      "cell_type": "code",
      "source": [
        "final_loan_df.info()"
      ],
      "metadata": {
        "colab": {
          "base_uri": "https://localhost:8080/"
        },
        "id": "apUzC2-4QSOf",
        "outputId": "1094e2f6-5128-40a6-ab12-fd9e36615f9f"
      },
      "execution_count": 131,
      "outputs": [
        {
          "output_type": "stream",
          "name": "stdout",
          "text": [
            "<class 'pandas.core.frame.DataFrame'>\n",
            "RangeIndex: 92704 entries, 0 to 92703\n",
            "Data columns (total 42 columns):\n",
            " #   Column             Non-Null Count  Dtype   \n",
            "---  ------             --------------  -----   \n",
            " 0   Id                 92704 non-null  int64   \n",
            " 1   Income             92704 non-null  int64   \n",
            " 2   Age                92704 non-null  int64   \n",
            " 3   Experience         92703 non-null  float64 \n",
            " 4   Marital_Status     92703 non-null  object  \n",
            " 5   House_Ownership    92703 non-null  object  \n",
            " 6   Car_Ownership      92703 non-null  object  \n",
            " 7   Profession         92703 non-null  object  \n",
            " 8   CITY               92703 non-null  object  \n",
            " 9   CURRENT_JOB_YRS    92703 non-null  float64 \n",
            " 10  CURRENT_HOUSE_YRS  92703 non-null  float64 \n",
            " 11  Risk_Flag          92703 non-null  float64 \n",
            " 12  Rev_State          92703 non-null  object  \n",
            " 13  State              92703 non-null  object  \n",
            " 14  State_GDP          92703 non-null  float64 \n",
            " 15  Literacy_Rate      92703 non-null  float64 \n",
            " 16  Population         92703 non-null  float64 \n",
            " 17  Unemployment       92703 non-null  float64 \n",
            " 18  Poverty_Rate       92703 non-null  float64 \n",
            " 19  Region             92703 non-null  object  \n",
            " 20  Per_Capita_Income  92703 non-null  float64 \n",
            " 21  Income_Category    92704 non-null  category\n",
            " 22  Age_Group          92704 non-null  category\n",
            " 23  Job_yrs            92703 non-null  category\n",
            " 24  Profession_Cat     92703 non-null  object  \n",
            " 25  Marital_Status1    92704 non-null  int64   \n",
            " 26  Car_Ownership1     92704 non-null  int64   \n",
            " 27  House_Ownership1   92703 non-null  float64 \n",
            " 28  Age_Group1         92704 non-null  category\n",
            " 29  Income_Category1   92704 non-null  category\n",
            " 30  Job_yrs1           92703 non-null  category\n",
            " 31  0                  92704 non-null  float64 \n",
            " 32  1                  92704 non-null  float64 \n",
            " 33  2                  92704 non-null  float64 \n",
            " 34  3                  92704 non-null  float64 \n",
            " 35  4                  92704 non-null  float64 \n",
            " 36  5                  92704 non-null  float64 \n",
            " 37  6                  92704 non-null  float64 \n",
            " 38  7                  92704 non-null  float64 \n",
            " 39  8                  92704 non-null  float64 \n",
            " 40  9                  92704 non-null  float64 \n",
            " 41  10                 92704 non-null  float64 \n",
            "dtypes: category(6), float64(22), int64(5), object(9)\n",
            "memory usage: 26.0+ MB\n"
          ]
        }
      ]
    },
    {
      "cell_type": "code",
      "source": [
        "loan_df.columns"
      ],
      "metadata": {
        "colab": {
          "base_uri": "https://localhost:8080/"
        },
        "id": "e2kJNmOLRCRo",
        "outputId": "c466d808-6b78-469d-b31d-f446a29405d9"
      },
      "execution_count": 132,
      "outputs": [
        {
          "output_type": "execute_result",
          "data": {
            "text/plain": [
              "Index(['Id', 'Income', 'Age', 'Experience', 'Marital_Status',\n",
              "       'House_Ownership', 'Car_Ownership', 'Profession', 'CITY',\n",
              "       'CURRENT_JOB_YRS', 'CURRENT_HOUSE_YRS', 'Risk_Flag', 'Rev_State',\n",
              "       'State', 'State_GDP', 'Literacy_Rate', 'Population', 'Unemployment',\n",
              "       'Poverty_Rate', 'Region', 'Per_Capita_Income', 'Income_Category',\n",
              "       'Age_Group', 'Job_yrs', 'Profession_Cat', 'Marital_Status1',\n",
              "       'Car_Ownership1', 'House_Ownership1', 'Age_Group1', 'Income_Category1',\n",
              "       'Job_yrs1'],\n",
              "      dtype='object')"
            ]
          },
          "metadata": {},
          "execution_count": 132
        }
      ]
    },
    {
      "cell_type": "code",
      "source": [
        "final_loan_df.drop(['Id','Marital_Status','House_Ownership','Car_Ownership','Profession', 'CITY','Rev_State','State','Region','Income_Category','Age_Group', 'Job_yrs', 'Profession_Cat'],axis=1,inplace=True)\n",
        "\n"
      ],
      "metadata": {
        "colab": {
          "base_uri": "https://localhost:8080/"
        },
        "id": "iZ2SqULxRKcx",
        "outputId": "2bedd254-bba7-4110-9af3-5ddd716d45a9"
      },
      "execution_count": 134,
      "outputs": [
        {
          "output_type": "execute_result",
          "data": {
            "text/plain": [
              "Index([           'Income',               'Age',        'Experience',\n",
              "         'CURRENT_JOB_YRS', 'CURRENT_HOUSE_YRS',         'Risk_Flag',\n",
              "               'State_GDP',     'Literacy_Rate',        'Population',\n",
              "            'Unemployment',      'Poverty_Rate', 'Per_Capita_Income',\n",
              "         'Marital_Status1',    'Car_Ownership1',  'House_Ownership1',\n",
              "              'Age_Group1',  'Income_Category1',          'Job_yrs1',\n",
              "                         0,                   1,                   2,\n",
              "                         3,                   4,                   5,\n",
              "                         6,                   7,                   8,\n",
              "                         9,                  10],\n",
              "      dtype='object')"
            ]
          },
          "metadata": {},
          "execution_count": 134
        }
      ]
    },
    {
      "cell_type": "code",
      "source": [
        "X_var = final_loan_df[['Income','Age','Experience','CURRENT_JOB_YRS','CURRENT_HOUSE_YRS','State_GDP', 'Literacy_Rate', 'Population', 'Unemployment','Poverty_Rate','Per_Capita_Income','Marital_Status1','Income_Category1','House_Ownership1','Car_Ownership1','Age_Group1','Job_yrs1']]"
      ],
      "metadata": {
        "id": "sfCTuiBDRNkq"
      },
      "execution_count": 135,
      "outputs": []
    },
    {
      "cell_type": "code",
      "source": [
        "X_var.dropna(axis=0,inplace = True)\n"
      ],
      "metadata": {
        "colab": {
          "base_uri": "https://localhost:8080/"
        },
        "id": "sXr54kJbRwvd",
        "outputId": "22643e38-4a99-4b25-f2ac-3c15c5fb8f79"
      },
      "execution_count": 143,
      "outputs": [
        {
          "output_type": "stream",
          "name": "stderr",
          "text": [
            "/usr/local/lib/python3.8/dist-packages/pandas/util/_decorators.py:311: SettingWithCopyWarning: \n",
            "A value is trying to be set on a copy of a slice from a DataFrame\n",
            "\n",
            "See the caveats in the documentation: https://pandas.pydata.org/pandas-docs/stable/user_guide/indexing.html#returning-a-view-versus-a-copy\n",
            "  return func(*args, **kwargs)\n"
          ]
        }
      ]
    },
    {
      "cell_type": "code",
      "source": [
        "X_var"
      ],
      "metadata": {
        "colab": {
          "base_uri": "https://localhost:8080/",
          "height": 487
        },
        "id": "VHiOMUy_R0M5",
        "outputId": "b22a2603-a495-4b76-c7d5-7e31cd4552cf"
      },
      "execution_count": 144,
      "outputs": [
        {
          "output_type": "execute_result",
          "data": {
            "text/plain": [
              "        Income  Age  Experience  ...  Car_Ownership1  Age_Group1  Job_yrs1\n",
              "0      1303834   23         3.0  ...               0           0         0\n",
              "1      7574516   40        10.0  ...               0           0         2\n",
              "2      3991815   66         4.0  ...               0           2         0\n",
              "3      6256451   41         2.0  ...               1           1         0\n",
              "4      5768871   47        11.0  ...               0           1         0\n",
              "...        ...  ...         ...  ...             ...         ...       ...\n",
              "92698  2491348   47        11.0  ...               0           1         2\n",
              "92699  6258257   41         8.0  ...               1           1         1\n",
              "92700   726110   68        18.0  ...               1           2         2\n",
              "92701  2741381   35        17.0  ...               0           0         0\n",
              "92702  7831154   64         7.0  ...               0           2         1\n",
              "\n",
              "[92703 rows x 17 columns]"
            ],
            "text/html": [
              "\n",
              "  <div id=\"df-6c8f5229-9dcd-4655-932b-745ae0c9ddde\">\n",
              "    <div class=\"colab-df-container\">\n",
              "      <div>\n",
              "<style scoped>\n",
              "    .dataframe tbody tr th:only-of-type {\n",
              "        vertical-align: middle;\n",
              "    }\n",
              "\n",
              "    .dataframe tbody tr th {\n",
              "        vertical-align: top;\n",
              "    }\n",
              "\n",
              "    .dataframe thead th {\n",
              "        text-align: right;\n",
              "    }\n",
              "</style>\n",
              "<table border=\"1\" class=\"dataframe\">\n",
              "  <thead>\n",
              "    <tr style=\"text-align: right;\">\n",
              "      <th></th>\n",
              "      <th>Income</th>\n",
              "      <th>Age</th>\n",
              "      <th>Experience</th>\n",
              "      <th>CURRENT_JOB_YRS</th>\n",
              "      <th>CURRENT_HOUSE_YRS</th>\n",
              "      <th>State_GDP</th>\n",
              "      <th>Literacy_Rate</th>\n",
              "      <th>Population</th>\n",
              "      <th>Unemployment</th>\n",
              "      <th>Poverty_Rate</th>\n",
              "      <th>Per_Capita_Income</th>\n",
              "      <th>Marital_Status1</th>\n",
              "      <th>Income_Category1</th>\n",
              "      <th>House_Ownership1</th>\n",
              "      <th>Car_Ownership1</th>\n",
              "      <th>Age_Group1</th>\n",
              "      <th>Job_yrs1</th>\n",
              "    </tr>\n",
              "  </thead>\n",
              "  <tbody>\n",
              "    <tr>\n",
              "      <th>0</th>\n",
              "      <td>1303834</td>\n",
              "      <td>23</td>\n",
              "      <td>3.0</td>\n",
              "      <td>3.0</td>\n",
              "      <td>13.0</td>\n",
              "      <td>5.645144e+12</td>\n",
              "      <td>75.37</td>\n",
              "      <td>72627000.0</td>\n",
              "      <td>47.0</td>\n",
              "      <td>31.65</td>\n",
              "      <td>77727.893208</td>\n",
              "      <td>1</td>\n",
              "      <td>0</td>\n",
              "      <td>1.0</td>\n",
              "      <td>0</td>\n",
              "      <td>0</td>\n",
              "      <td>0</td>\n",
              "    </tr>\n",
              "    <tr>\n",
              "      <th>1</th>\n",
              "      <td>7574516</td>\n",
              "      <td>40</td>\n",
              "      <td>10.0</td>\n",
              "      <td>9.0</td>\n",
              "      <td>13.0</td>\n",
              "      <td>1.889307e+13</td>\n",
              "      <td>94.00</td>\n",
              "      <td>112374000.0</td>\n",
              "      <td>65.0</td>\n",
              "      <td>17.35</td>\n",
              "      <td>168126.671650</td>\n",
              "      <td>1</td>\n",
              "      <td>2</td>\n",
              "      <td>1.0</td>\n",
              "      <td>0</td>\n",
              "      <td>0</td>\n",
              "      <td>2</td>\n",
              "    </tr>\n",
              "    <tr>\n",
              "      <th>2</th>\n",
              "      <td>3991815</td>\n",
              "      <td>66</td>\n",
              "      <td>4.0</td>\n",
              "      <td>4.0</td>\n",
              "      <td>10.0</td>\n",
              "      <td>5.144000e+12</td>\n",
              "      <td>66.41</td>\n",
              "      <td>33406000.0</td>\n",
              "      <td>116.0</td>\n",
              "      <td>7.05</td>\n",
              "      <td>153984.311202</td>\n",
              "      <td>0</td>\n",
              "      <td>1</td>\n",
              "      <td>1.0</td>\n",
              "      <td>0</td>\n",
              "      <td>2</td>\n",
              "      <td>0</td>\n",
              "    </tr>\n",
              "    <tr>\n",
              "      <th>3</th>\n",
              "      <td>6256451</td>\n",
              "      <td>41</td>\n",
              "      <td>2.0</td>\n",
              "      <td>2.0</td>\n",
              "      <td>12.0</td>\n",
              "      <td>3.814703e+12</td>\n",
              "      <td>74.43</td>\n",
              "      <td>41974000.0</td>\n",
              "      <td>78.0</td>\n",
              "      <td>32.59</td>\n",
              "      <td>90882.529661</td>\n",
              "      <td>1</td>\n",
              "      <td>1</td>\n",
              "      <td>1.0</td>\n",
              "      <td>1</td>\n",
              "      <td>1</td>\n",
              "      <td>0</td>\n",
              "    </tr>\n",
              "    <tr>\n",
              "      <th>4</th>\n",
              "      <td>5768871</td>\n",
              "      <td>47</td>\n",
              "      <td>11.0</td>\n",
              "      <td>3.0</td>\n",
              "      <td>14.0</td>\n",
              "      <td>1.245595e+13</td>\n",
              "      <td>75.84</td>\n",
              "      <td>72147000.0</td>\n",
              "      <td>58.0</td>\n",
              "      <td>11.28</td>\n",
              "      <td>172646.839092</td>\n",
              "      <td>1</td>\n",
              "      <td>1</td>\n",
              "      <td>1.0</td>\n",
              "      <td>0</td>\n",
              "      <td>1</td>\n",
              "      <td>0</td>\n",
              "    </tr>\n",
              "    <tr>\n",
              "      <th>...</th>\n",
              "      <td>...</td>\n",
              "      <td>...</td>\n",
              "      <td>...</td>\n",
              "      <td>...</td>\n",
              "      <td>...</td>\n",
              "      <td>...</td>\n",
              "      <td>...</td>\n",
              "      <td>...</td>\n",
              "      <td>...</td>\n",
              "      <td>...</td>\n",
              "      <td>...</td>\n",
              "      <td>...</td>\n",
              "      <td>...</td>\n",
              "      <td>...</td>\n",
              "      <td>...</td>\n",
              "      <td>...</td>\n",
              "      <td>...</td>\n",
              "    </tr>\n",
              "    <tr>\n",
              "      <th>92698</th>\n",
              "      <td>2491348</td>\n",
              "      <td>47</td>\n",
              "      <td>11.0</td>\n",
              "      <td>11.0</td>\n",
              "      <td>10.0</td>\n",
              "      <td>6.099273e+12</td>\n",
              "      <td>66.54</td>\n",
              "      <td>35000000.0</td>\n",
              "      <td>77.0</td>\n",
              "      <td>13.74</td>\n",
              "      <td>174264.951429</td>\n",
              "      <td>1</td>\n",
              "      <td>0</td>\n",
              "      <td>1.0</td>\n",
              "      <td>0</td>\n",
              "      <td>1</td>\n",
              "      <td>2</td>\n",
              "    </tr>\n",
              "    <tr>\n",
              "      <th>92699</th>\n",
              "      <td>6258257</td>\n",
              "      <td>41</td>\n",
              "      <td>8.0</td>\n",
              "      <td>7.0</td>\n",
              "      <td>14.0</td>\n",
              "      <td>1.245595e+13</td>\n",
              "      <td>75.84</td>\n",
              "      <td>72147000.0</td>\n",
              "      <td>58.0</td>\n",
              "      <td>11.28</td>\n",
              "      <td>172646.839092</td>\n",
              "      <td>1</td>\n",
              "      <td>1</td>\n",
              "      <td>1.0</td>\n",
              "      <td>1</td>\n",
              "      <td>1</td>\n",
              "      <td>1</td>\n",
              "    </tr>\n",
              "    <tr>\n",
              "      <th>92700</th>\n",
              "      <td>726110</td>\n",
              "      <td>68</td>\n",
              "      <td>18.0</td>\n",
              "      <td>10.0</td>\n",
              "      <td>13.0</td>\n",
              "      <td>2.189621e+12</td>\n",
              "      <td>82.80</td>\n",
              "      <td>32988000.0</td>\n",
              "      <td>93.0</td>\n",
              "      <td>36.96</td>\n",
              "      <td>66376.291379</td>\n",
              "      <td>1</td>\n",
              "      <td>0</td>\n",
              "      <td>0.0</td>\n",
              "      <td>1</td>\n",
              "      <td>2</td>\n",
              "      <td>2</td>\n",
              "    </tr>\n",
              "    <tr>\n",
              "      <th>92701</th>\n",
              "      <td>2741381</td>\n",
              "      <td>35</td>\n",
              "      <td>17.0</td>\n",
              "      <td>3.0</td>\n",
              "      <td>14.0</td>\n",
              "      <td>6.099273e+12</td>\n",
              "      <td>66.54</td>\n",
              "      <td>35000000.0</td>\n",
              "      <td>77.0</td>\n",
              "      <td>13.74</td>\n",
              "      <td>174264.951429</td>\n",
              "      <td>1</td>\n",
              "      <td>0</td>\n",
              "      <td>1.0</td>\n",
              "      <td>0</td>\n",
              "      <td>0</td>\n",
              "      <td>0</td>\n",
              "    </tr>\n",
              "    <tr>\n",
              "      <th>92702</th>\n",
              "      <td>7831154</td>\n",
              "      <td>64</td>\n",
              "      <td>7.0</td>\n",
              "      <td>7.0</td>\n",
              "      <td>14.0</td>\n",
              "      <td>6.703215e+12</td>\n",
              "      <td>67.02</td>\n",
              "      <td>49581000.0</td>\n",
              "      <td>60.0</td>\n",
              "      <td>9.20</td>\n",
              "      <td>135197.252980</td>\n",
              "      <td>1</td>\n",
              "      <td>2</td>\n",
              "      <td>1.0</td>\n",
              "      <td>0</td>\n",
              "      <td>2</td>\n",
              "      <td>1</td>\n",
              "    </tr>\n",
              "  </tbody>\n",
              "</table>\n",
              "<p>92703 rows × 17 columns</p>\n",
              "</div>\n",
              "      <button class=\"colab-df-convert\" onclick=\"convertToInteractive('df-6c8f5229-9dcd-4655-932b-745ae0c9ddde')\"\n",
              "              title=\"Convert this dataframe to an interactive table.\"\n",
              "              style=\"display:none;\">\n",
              "        \n",
              "  <svg xmlns=\"http://www.w3.org/2000/svg\" height=\"24px\"viewBox=\"0 0 24 24\"\n",
              "       width=\"24px\">\n",
              "    <path d=\"M0 0h24v24H0V0z\" fill=\"none\"/>\n",
              "    <path d=\"M18.56 5.44l.94 2.06.94-2.06 2.06-.94-2.06-.94-.94-2.06-.94 2.06-2.06.94zm-11 1L8.5 8.5l.94-2.06 2.06-.94-2.06-.94L8.5 2.5l-.94 2.06-2.06.94zm10 10l.94 2.06.94-2.06 2.06-.94-2.06-.94-.94-2.06-.94 2.06-2.06.94z\"/><path d=\"M17.41 7.96l-1.37-1.37c-.4-.4-.92-.59-1.43-.59-.52 0-1.04.2-1.43.59L10.3 9.45l-7.72 7.72c-.78.78-.78 2.05 0 2.83L4 21.41c.39.39.9.59 1.41.59.51 0 1.02-.2 1.41-.59l7.78-7.78 2.81-2.81c.8-.78.8-2.07 0-2.86zM5.41 20L4 18.59l7.72-7.72 1.47 1.35L5.41 20z\"/>\n",
              "  </svg>\n",
              "      </button>\n",
              "      \n",
              "  <style>\n",
              "    .colab-df-container {\n",
              "      display:flex;\n",
              "      flex-wrap:wrap;\n",
              "      gap: 12px;\n",
              "    }\n",
              "\n",
              "    .colab-df-convert {\n",
              "      background-color: #E8F0FE;\n",
              "      border: none;\n",
              "      border-radius: 50%;\n",
              "      cursor: pointer;\n",
              "      display: none;\n",
              "      fill: #1967D2;\n",
              "      height: 32px;\n",
              "      padding: 0 0 0 0;\n",
              "      width: 32px;\n",
              "    }\n",
              "\n",
              "    .colab-df-convert:hover {\n",
              "      background-color: #E2EBFA;\n",
              "      box-shadow: 0px 1px 2px rgba(60, 64, 67, 0.3), 0px 1px 3px 1px rgba(60, 64, 67, 0.15);\n",
              "      fill: #174EA6;\n",
              "    }\n",
              "\n",
              "    [theme=dark] .colab-df-convert {\n",
              "      background-color: #3B4455;\n",
              "      fill: #D2E3FC;\n",
              "    }\n",
              "\n",
              "    [theme=dark] .colab-df-convert:hover {\n",
              "      background-color: #434B5C;\n",
              "      box-shadow: 0px 1px 3px 1px rgba(0, 0, 0, 0.15);\n",
              "      filter: drop-shadow(0px 1px 2px rgba(0, 0, 0, 0.3));\n",
              "      fill: #FFFFFF;\n",
              "    }\n",
              "  </style>\n",
              "\n",
              "      <script>\n",
              "        const buttonEl =\n",
              "          document.querySelector('#df-6c8f5229-9dcd-4655-932b-745ae0c9ddde button.colab-df-convert');\n",
              "        buttonEl.style.display =\n",
              "          google.colab.kernel.accessAllowed ? 'block' : 'none';\n",
              "\n",
              "        async function convertToInteractive(key) {\n",
              "          const element = document.querySelector('#df-6c8f5229-9dcd-4655-932b-745ae0c9ddde');\n",
              "          const dataTable =\n",
              "            await google.colab.kernel.invokeFunction('convertToInteractive',\n",
              "                                                     [key], {});\n",
              "          if (!dataTable) return;\n",
              "\n",
              "          const docLinkHtml = 'Like what you see? Visit the ' +\n",
              "            '<a target=\"_blank\" href=https://colab.research.google.com/notebooks/data_table.ipynb>data table notebook</a>'\n",
              "            + ' to learn more about interactive tables.';\n",
              "          element.innerHTML = '';\n",
              "          dataTable['output_type'] = 'display_data';\n",
              "          await google.colab.output.renderOutput(dataTable, element);\n",
              "          const docLink = document.createElement('div');\n",
              "          docLink.innerHTML = docLinkHtml;\n",
              "          element.appendChild(docLink);\n",
              "        }\n",
              "      </script>\n",
              "    </div>\n",
              "  </div>\n",
              "  "
            ]
          },
          "metadata": {},
          "execution_count": 144
        }
      ]
    },
    {
      "cell_type": "code",
      "source": [
        "vif_data = pd.DataFrame()\n",
        "vif_data[\"feature\"] = X_var.columns\n",
        "vif_data[\"VIF\"] = [variance_inflation_factor(X_var.values, i) for i in range(len(X_var.columns))]\n",
        "print(vif_data)"
      ],
      "metadata": {
        "colab": {
          "base_uri": "https://localhost:8080/"
        },
        "id": "qsqGaiRQYY1C",
        "outputId": "55769998-28f5-4395-89f5-8bdc0f04629c"
      },
      "execution_count": 145,
      "outputs": [
        {
          "output_type": "stream",
          "name": "stdout",
          "text": [
            "              feature        VIF\n",
            "0              Income   8.729547\n",
            "1                 Age   7.892045\n",
            "2          Experience   1.730921\n",
            "3     CURRENT_JOB_YRS   8.326218\n",
            "4   CURRENT_HOUSE_YRS   0.686331\n",
            "5           State_GDP  15.174598\n",
            "6       Literacy_Rate   1.604299\n",
            "7          Population   3.468542\n",
            "8        Unemployment   1.383599\n",
            "9        Poverty_Rate   2.299130\n",
            "10  Per_Capita_Income   3.749164\n",
            "11    Marital_Status1   0.968089\n",
            "12   Income_Category1   8.801641\n",
            "13   House_Ownership1   0.956921\n",
            "14     Car_Ownership1   1.000245\n",
            "15         Age_Group1   8.183625\n",
            "16           Job_yrs1   7.117594\n"
          ]
        }
      ]
    },
    {
      "cell_type": "markdown",
      "source": [
        "*   From the correlation heatmap, it is evident that Experience & Current Job Year are highly correlated so we can drop one variable which has low correlation with the Target Variable | Dropping Current Job Yr\n",
        "*  Income & Age were binned into income_cat & Age_group | Dropping one set \n",
        "*   We will try removing the variables one at a time and check the VIF to check if need to drop further variable\n",
        "\n",
        "\n",
        "\n",
        "\n",
        "\n"
      ],
      "metadata": {
        "id": "zZAjJXjeaPB7"
      }
    },
    {
      "cell_type": "code",
      "source": [
        "X_var.dropna(axis =0 , inplace = True)\n",
        "final_loan_df.dropna(axis =0 , inplace = True)"
      ],
      "metadata": {
        "id": "LU36NFlWbN2M"
      },
      "execution_count": 153,
      "outputs": []
    },
    {
      "cell_type": "code",
      "source": [
        "X_var = final_loan_df[['Experience','CURRENT_HOUSE_YRS','State_GDP', 'Literacy_Rate', 'Population', 'Unemployment','Poverty_Rate','Per_Capita_Income','Marital_Status1','Income_Category1','House_Ownership1','Car_Ownership1','Age_Group1','Job_yrs1']]\n",
        "vif_data = pd.DataFrame()\n",
        "vif_data[\"feature\"] = X_var.columns\n",
        "vif_data[\"VIF\"] = [variance_inflation_factor(X_var.values, i) for i in range(len(X_var.columns))]\n",
        "print(vif_data)"
      ],
      "metadata": {
        "colab": {
          "base_uri": "https://localhost:8080/"
        },
        "id": "Uvc4ionRbqgT",
        "outputId": "6f3977f1-d521-4c8b-d3a5-e17cf4451689"
      },
      "execution_count": 154,
      "outputs": [
        {
          "output_type": "stream",
          "name": "stdout",
          "text": [
            "              feature        VIF\n",
            "0          Experience   1.444109\n",
            "1   CURRENT_HOUSE_YRS   0.637462\n",
            "2           State_GDP  15.104816\n",
            "3       Literacy_Rate   1.562736\n",
            "4          Population   3.453449\n",
            "5        Unemployment   1.371340\n",
            "6        Poverty_Rate   2.283852\n",
            "7   Per_Capita_Income   3.700571\n",
            "8     Marital_Status1   0.963062\n",
            "9    Income_Category1   0.991471\n",
            "10   House_Ownership1   0.943710\n",
            "11     Car_Ownership1   0.999210\n",
            "12         Age_Group1   0.992685\n",
            "13           Job_yrs1   1.447804\n"
          ]
        }
      ]
    },
    {
      "cell_type": "code",
      "source": [
        "X = final_loan_df.drop(['Risk_Flag'],axis=1)\n",
        "y = final_loan_df.Risk_Flag"
      ],
      "metadata": {
        "id": "9QJLuAW8by04"
      },
      "execution_count": 155,
      "outputs": []
    },
    {
      "cell_type": "code",
      "source": [
        "from sklearn.model_selection import train_test_split\n",
        "X_train, X_test, y_train, y_test = train_test_split(X, y, test_size = 0.2, random_state = 0)"
      ],
      "metadata": {
        "id": "SEOD9whucppo"
      },
      "execution_count": 156,
      "outputs": []
    },
    {
      "cell_type": "markdown",
      "source": [
        "##Fitting of Baseline Model : Logistics Regression"
      ],
      "metadata": {
        "id": "es48lbf1cu50"
      }
    },
    {
      "cell_type": "code",
      "source": [
        "from sklearn.metrics import classification_report\n",
        "from sklearn.linear_model import LogisticRegression\n",
        "model = LogisticRegression()\n",
        "model.fit(X_train, y_train)\n",
        "y_pred = model.predict(X_test)"
      ],
      "metadata": {
        "colab": {
          "base_uri": "https://localhost:8080/"
        },
        "id": "xz2J7c4NcsCW",
        "outputId": "a7b6f63e-7739-42dc-f35b-81a3dcfbc311"
      },
      "execution_count": 157,
      "outputs": [
        {
          "output_type": "stream",
          "name": "stderr",
          "text": [
            "/usr/local/lib/python3.8/dist-packages/sklearn/utils/validation.py:1688: FutureWarning: Feature names only support names that are all strings. Got feature names with dtypes: ['int', 'str']. An error will be raised in 1.2.\n",
            "  warnings.warn(\n",
            "/usr/local/lib/python3.8/dist-packages/sklearn/utils/validation.py:1688: FutureWarning: Feature names only support names that are all strings. Got feature names with dtypes: ['int', 'str']. An error will be raised in 1.2.\n",
            "  warnings.warn(\n"
          ]
        }
      ]
    },
    {
      "cell_type": "code",
      "source": [
        "print(classification_report(y_test,y_pred))"
      ],
      "metadata": {
        "colab": {
          "base_uri": "https://localhost:8080/"
        },
        "id": "7CS-eji-cx6m",
        "outputId": "3f9b698a-77d7-4f3e-ccee-5968d805fba6"
      },
      "execution_count": 158,
      "outputs": [
        {
          "output_type": "stream",
          "name": "stdout",
          "text": [
            "              precision    recall  f1-score   support\n",
            "\n",
            "         0.0       0.86      1.00      0.93     16030\n",
            "         1.0       0.00      0.00      0.00      2511\n",
            "\n",
            "    accuracy                           0.86     18541\n",
            "   macro avg       0.43      0.50      0.46     18541\n",
            "weighted avg       0.75      0.86      0.80     18541\n",
            "\n"
          ]
        },
        {
          "output_type": "stream",
          "name": "stderr",
          "text": [
            "/usr/local/lib/python3.8/dist-packages/sklearn/metrics/_classification.py:1318: UndefinedMetricWarning: Precision and F-score are ill-defined and being set to 0.0 in labels with no predicted samples. Use `zero_division` parameter to control this behavior.\n",
            "  _warn_prf(average, modifier, msg_start, len(result))\n",
            "/usr/local/lib/python3.8/dist-packages/sklearn/metrics/_classification.py:1318: UndefinedMetricWarning: Precision and F-score are ill-defined and being set to 0.0 in labels with no predicted samples. Use `zero_division` parameter to control this behavior.\n",
            "  _warn_prf(average, modifier, msg_start, len(result))\n",
            "/usr/local/lib/python3.8/dist-packages/sklearn/metrics/_classification.py:1318: UndefinedMetricWarning: Precision and F-score are ill-defined and being set to 0.0 in labels with no predicted samples. Use `zero_division` parameter to control this behavior.\n",
            "  _warn_prf(average, modifier, msg_start, len(result))\n"
          ]
        }
      ]
    },
    {
      "cell_type": "markdown",
      "source": [
        "##Fitting of Baseline Model : Decision Tree"
      ],
      "metadata": {
        "id": "dgwfhnvzc3Td"
      }
    },
    {
      "cell_type": "code",
      "source": [
        "from sklearn.tree import DecisionTreeClassifier\n",
        "model1 = DecisionTreeClassifier(random_state=0)\n",
        "model1.fit(X_train, y_train)\n",
        "y_pred_dtc = model1.predict_proba(X_test)\n",
        "y_train_dtc = model1.predict_proba(X_train)"
      ],
      "metadata": {
        "colab": {
          "base_uri": "https://localhost:8080/"
        },
        "id": "hNwX5GAnc0Qo",
        "outputId": "a0319d55-0c08-4d7c-e4e7-efa6fcf54c17"
      },
      "execution_count": 159,
      "outputs": [
        {
          "output_type": "stream",
          "name": "stderr",
          "text": [
            "/usr/local/lib/python3.8/dist-packages/sklearn/utils/validation.py:1688: FutureWarning: Feature names only support names that are all strings. Got feature names with dtypes: ['int', 'str']. An error will be raised in 1.2.\n",
            "  warnings.warn(\n",
            "/usr/local/lib/python3.8/dist-packages/sklearn/utils/validation.py:1688: FutureWarning: Feature names only support names that are all strings. Got feature names with dtypes: ['int', 'str']. An error will be raised in 1.2.\n",
            "  warnings.warn(\n",
            "/usr/local/lib/python3.8/dist-packages/sklearn/utils/validation.py:1688: FutureWarning: Feature names only support names that are all strings. Got feature names with dtypes: ['int', 'str']. An error will be raised in 1.2.\n",
            "  warnings.warn(\n"
          ]
        }
      ]
    },
    {
      "cell_type": "code",
      "source": [
        "model1.predict_proba(X_test[:5])"
      ],
      "metadata": {
        "colab": {
          "base_uri": "https://localhost:8080/"
        },
        "id": "Ew3RqIu5c6T8",
        "outputId": "d051a678-4119-417c-c4c4-45a74b6b7534"
      },
      "execution_count": 160,
      "outputs": [
        {
          "output_type": "stream",
          "name": "stderr",
          "text": [
            "/usr/local/lib/python3.8/dist-packages/sklearn/utils/validation.py:1688: FutureWarning: Feature names only support names that are all strings. Got feature names with dtypes: ['int', 'str']. An error will be raised in 1.2.\n",
            "  warnings.warn(\n"
          ]
        },
        {
          "output_type": "execute_result",
          "data": {
            "text/plain": [
              "array([[1., 0.],\n",
              "       [1., 0.],\n",
              "       [1., 0.],\n",
              "       [0., 1.],\n",
              "       [1., 0.]])"
            ]
          },
          "metadata": {},
          "execution_count": 160
        }
      ]
    },
    {
      "cell_type": "code",
      "source": [
        "model1.predict(X_test[:5])"
      ],
      "metadata": {
        "colab": {
          "base_uri": "https://localhost:8080/"
        },
        "id": "nYtzAckQc9-i",
        "outputId": "a30c9f34-3521-4fcc-cbdc-6606e3c1e9b3"
      },
      "execution_count": 161,
      "outputs": [
        {
          "output_type": "stream",
          "name": "stderr",
          "text": [
            "/usr/local/lib/python3.8/dist-packages/sklearn/utils/validation.py:1688: FutureWarning: Feature names only support names that are all strings. Got feature names with dtypes: ['int', 'str']. An error will be raised in 1.2.\n",
            "  warnings.warn(\n"
          ]
        },
        {
          "output_type": "execute_result",
          "data": {
            "text/plain": [
              "array([0., 0., 0., 1., 0.])"
            ]
          },
          "metadata": {},
          "execution_count": 161
        }
      ]
    },
    {
      "cell_type": "code",
      "source": [
        "import sklearn.metrics as metrics\n",
        "results_train=[]\n",
        "for i in range(0,101):\n",
        "    y_pred = y_pred_dtc[:,1]\n",
        "    y_hat = [1 if pred >= i/100 else 0 for pred in y_pred]\n",
        "    tn, fp, fn, tp = metrics.confusion_matrix(y_test, y_hat).ravel()\n",
        "    recall = metrics.recall_score(y_test, y_hat)\n",
        "    precision = metrics.precision_score(y_test, y_hat)\n",
        "    accuracy = metrics.accuracy_score(y_test, y_hat)\n",
        "    f1 = metrics.f1_score(y_test, y_hat)\n",
        "    f1_beta_10 = metrics.fbeta_score(y_test, y_hat, beta=10)\n",
        "    auc = metrics.roc_auc_score(y_test, y_pred)\n",
        "    au_prc = metrics.average_precision_score(y_test, y_pred)\n",
        "    results_train.append([i/100, tp, fp, fn, tn, precision, recall, f1, f1_beta_10, auc, au_prc])\n",
        "\n",
        "    \n",
        "print('\\nSaved Diagnostincs: ')\n",
        "results__train_df = pd.DataFrame(results_train,columns = ['level', 'tp', 'fp', 'fn', 'tn', 'precision', 'recall', 'f1', 'f1_beta_10', 'auc', 'au_prc'])\n",
        "display(results__train_df)"
      ],
      "metadata": {
        "colab": {
          "base_uri": "https://localhost:8080/",
          "height": 522
        },
        "id": "iSi9JUH8dCou",
        "outputId": "9d2097f1-f70b-46ef-b78d-4135899521ee"
      },
      "execution_count": 162,
      "outputs": [
        {
          "output_type": "stream",
          "name": "stdout",
          "text": [
            "\n",
            "Saved Diagnostincs: \n"
          ]
        },
        {
          "output_type": "display_data",
          "data": {
            "text/plain": [
              "     level    tp     fp    fn  ...        f1  f1_beta_10       auc    au_prc\n",
              "0     0.00  2511  16030     0  ...  0.238552    0.940551  0.974592  0.773201\n",
              "1     0.01  2511   1090     0  ...  0.821662    0.995720  0.974592  0.773201\n",
              "2     0.02  2511   1090     0  ...  0.821662    0.995720  0.974592  0.773201\n",
              "3     0.03  2511   1090     0  ...  0.821662    0.995720  0.974592  0.773201\n",
              "4     0.04  2511   1090     0  ...  0.821662    0.995720  0.974592  0.773201\n",
              "..     ...   ...    ...   ...  ...       ...         ...       ...       ...\n",
              "96    0.96   229     52  2282  ...  0.164040    0.092008  0.974592  0.773201\n",
              "97    0.97   229     52  2282  ...  0.164040    0.092008  0.974592  0.773201\n",
              "98    0.98   229     52  2282  ...  0.164040    0.092008  0.974592  0.773201\n",
              "99    0.99   229     52  2282  ...  0.164040    0.092008  0.974592  0.773201\n",
              "100   1.00   229     52  2282  ...  0.164040    0.092008  0.974592  0.773201\n",
              "\n",
              "[101 rows x 11 columns]"
            ],
            "text/html": [
              "\n",
              "  <div id=\"df-79d3dfad-9b0d-408a-b7c1-75ee17ef046d\">\n",
              "    <div class=\"colab-df-container\">\n",
              "      <div>\n",
              "<style scoped>\n",
              "    .dataframe tbody tr th:only-of-type {\n",
              "        vertical-align: middle;\n",
              "    }\n",
              "\n",
              "    .dataframe tbody tr th {\n",
              "        vertical-align: top;\n",
              "    }\n",
              "\n",
              "    .dataframe thead th {\n",
              "        text-align: right;\n",
              "    }\n",
              "</style>\n",
              "<table border=\"1\" class=\"dataframe\">\n",
              "  <thead>\n",
              "    <tr style=\"text-align: right;\">\n",
              "      <th></th>\n",
              "      <th>level</th>\n",
              "      <th>tp</th>\n",
              "      <th>fp</th>\n",
              "      <th>fn</th>\n",
              "      <th>tn</th>\n",
              "      <th>precision</th>\n",
              "      <th>recall</th>\n",
              "      <th>f1</th>\n",
              "      <th>f1_beta_10</th>\n",
              "      <th>auc</th>\n",
              "      <th>au_prc</th>\n",
              "    </tr>\n",
              "  </thead>\n",
              "  <tbody>\n",
              "    <tr>\n",
              "      <th>0</th>\n",
              "      <td>0.00</td>\n",
              "      <td>2511</td>\n",
              "      <td>16030</td>\n",
              "      <td>0</td>\n",
              "      <td>0</td>\n",
              "      <td>0.135430</td>\n",
              "      <td>1.000000</td>\n",
              "      <td>0.238552</td>\n",
              "      <td>0.940551</td>\n",
              "      <td>0.974592</td>\n",
              "      <td>0.773201</td>\n",
              "    </tr>\n",
              "    <tr>\n",
              "      <th>1</th>\n",
              "      <td>0.01</td>\n",
              "      <td>2511</td>\n",
              "      <td>1090</td>\n",
              "      <td>0</td>\n",
              "      <td>14940</td>\n",
              "      <td>0.697306</td>\n",
              "      <td>1.000000</td>\n",
              "      <td>0.821662</td>\n",
              "      <td>0.995720</td>\n",
              "      <td>0.974592</td>\n",
              "      <td>0.773201</td>\n",
              "    </tr>\n",
              "    <tr>\n",
              "      <th>2</th>\n",
              "      <td>0.02</td>\n",
              "      <td>2511</td>\n",
              "      <td>1090</td>\n",
              "      <td>0</td>\n",
              "      <td>14940</td>\n",
              "      <td>0.697306</td>\n",
              "      <td>1.000000</td>\n",
              "      <td>0.821662</td>\n",
              "      <td>0.995720</td>\n",
              "      <td>0.974592</td>\n",
              "      <td>0.773201</td>\n",
              "    </tr>\n",
              "    <tr>\n",
              "      <th>3</th>\n",
              "      <td>0.03</td>\n",
              "      <td>2511</td>\n",
              "      <td>1090</td>\n",
              "      <td>0</td>\n",
              "      <td>14940</td>\n",
              "      <td>0.697306</td>\n",
              "      <td>1.000000</td>\n",
              "      <td>0.821662</td>\n",
              "      <td>0.995720</td>\n",
              "      <td>0.974592</td>\n",
              "      <td>0.773201</td>\n",
              "    </tr>\n",
              "    <tr>\n",
              "      <th>4</th>\n",
              "      <td>0.04</td>\n",
              "      <td>2511</td>\n",
              "      <td>1090</td>\n",
              "      <td>0</td>\n",
              "      <td>14940</td>\n",
              "      <td>0.697306</td>\n",
              "      <td>1.000000</td>\n",
              "      <td>0.821662</td>\n",
              "      <td>0.995720</td>\n",
              "      <td>0.974592</td>\n",
              "      <td>0.773201</td>\n",
              "    </tr>\n",
              "    <tr>\n",
              "      <th>...</th>\n",
              "      <td>...</td>\n",
              "      <td>...</td>\n",
              "      <td>...</td>\n",
              "      <td>...</td>\n",
              "      <td>...</td>\n",
              "      <td>...</td>\n",
              "      <td>...</td>\n",
              "      <td>...</td>\n",
              "      <td>...</td>\n",
              "      <td>...</td>\n",
              "      <td>...</td>\n",
              "    </tr>\n",
              "    <tr>\n",
              "      <th>96</th>\n",
              "      <td>0.96</td>\n",
              "      <td>229</td>\n",
              "      <td>52</td>\n",
              "      <td>2282</td>\n",
              "      <td>15978</td>\n",
              "      <td>0.814947</td>\n",
              "      <td>0.091199</td>\n",
              "      <td>0.164040</td>\n",
              "      <td>0.092008</td>\n",
              "      <td>0.974592</td>\n",
              "      <td>0.773201</td>\n",
              "    </tr>\n",
              "    <tr>\n",
              "      <th>97</th>\n",
              "      <td>0.97</td>\n",
              "      <td>229</td>\n",
              "      <td>52</td>\n",
              "      <td>2282</td>\n",
              "      <td>15978</td>\n",
              "      <td>0.814947</td>\n",
              "      <td>0.091199</td>\n",
              "      <td>0.164040</td>\n",
              "      <td>0.092008</td>\n",
              "      <td>0.974592</td>\n",
              "      <td>0.773201</td>\n",
              "    </tr>\n",
              "    <tr>\n",
              "      <th>98</th>\n",
              "      <td>0.98</td>\n",
              "      <td>229</td>\n",
              "      <td>52</td>\n",
              "      <td>2282</td>\n",
              "      <td>15978</td>\n",
              "      <td>0.814947</td>\n",
              "      <td>0.091199</td>\n",
              "      <td>0.164040</td>\n",
              "      <td>0.092008</td>\n",
              "      <td>0.974592</td>\n",
              "      <td>0.773201</td>\n",
              "    </tr>\n",
              "    <tr>\n",
              "      <th>99</th>\n",
              "      <td>0.99</td>\n",
              "      <td>229</td>\n",
              "      <td>52</td>\n",
              "      <td>2282</td>\n",
              "      <td>15978</td>\n",
              "      <td>0.814947</td>\n",
              "      <td>0.091199</td>\n",
              "      <td>0.164040</td>\n",
              "      <td>0.092008</td>\n",
              "      <td>0.974592</td>\n",
              "      <td>0.773201</td>\n",
              "    </tr>\n",
              "    <tr>\n",
              "      <th>100</th>\n",
              "      <td>1.00</td>\n",
              "      <td>229</td>\n",
              "      <td>52</td>\n",
              "      <td>2282</td>\n",
              "      <td>15978</td>\n",
              "      <td>0.814947</td>\n",
              "      <td>0.091199</td>\n",
              "      <td>0.164040</td>\n",
              "      <td>0.092008</td>\n",
              "      <td>0.974592</td>\n",
              "      <td>0.773201</td>\n",
              "    </tr>\n",
              "  </tbody>\n",
              "</table>\n",
              "<p>101 rows × 11 columns</p>\n",
              "</div>\n",
              "      <button class=\"colab-df-convert\" onclick=\"convertToInteractive('df-79d3dfad-9b0d-408a-b7c1-75ee17ef046d')\"\n",
              "              title=\"Convert this dataframe to an interactive table.\"\n",
              "              style=\"display:none;\">\n",
              "        \n",
              "  <svg xmlns=\"http://www.w3.org/2000/svg\" height=\"24px\"viewBox=\"0 0 24 24\"\n",
              "       width=\"24px\">\n",
              "    <path d=\"M0 0h24v24H0V0z\" fill=\"none\"/>\n",
              "    <path d=\"M18.56 5.44l.94 2.06.94-2.06 2.06-.94-2.06-.94-.94-2.06-.94 2.06-2.06.94zm-11 1L8.5 8.5l.94-2.06 2.06-.94-2.06-.94L8.5 2.5l-.94 2.06-2.06.94zm10 10l.94 2.06.94-2.06 2.06-.94-2.06-.94-.94-2.06-.94 2.06-2.06.94z\"/><path d=\"M17.41 7.96l-1.37-1.37c-.4-.4-.92-.59-1.43-.59-.52 0-1.04.2-1.43.59L10.3 9.45l-7.72 7.72c-.78.78-.78 2.05 0 2.83L4 21.41c.39.39.9.59 1.41.59.51 0 1.02-.2 1.41-.59l7.78-7.78 2.81-2.81c.8-.78.8-2.07 0-2.86zM5.41 20L4 18.59l7.72-7.72 1.47 1.35L5.41 20z\"/>\n",
              "  </svg>\n",
              "      </button>\n",
              "      \n",
              "  <style>\n",
              "    .colab-df-container {\n",
              "      display:flex;\n",
              "      flex-wrap:wrap;\n",
              "      gap: 12px;\n",
              "    }\n",
              "\n",
              "    .colab-df-convert {\n",
              "      background-color: #E8F0FE;\n",
              "      border: none;\n",
              "      border-radius: 50%;\n",
              "      cursor: pointer;\n",
              "      display: none;\n",
              "      fill: #1967D2;\n",
              "      height: 32px;\n",
              "      padding: 0 0 0 0;\n",
              "      width: 32px;\n",
              "    }\n",
              "\n",
              "    .colab-df-convert:hover {\n",
              "      background-color: #E2EBFA;\n",
              "      box-shadow: 0px 1px 2px rgba(60, 64, 67, 0.3), 0px 1px 3px 1px rgba(60, 64, 67, 0.15);\n",
              "      fill: #174EA6;\n",
              "    }\n",
              "\n",
              "    [theme=dark] .colab-df-convert {\n",
              "      background-color: #3B4455;\n",
              "      fill: #D2E3FC;\n",
              "    }\n",
              "\n",
              "    [theme=dark] .colab-df-convert:hover {\n",
              "      background-color: #434B5C;\n",
              "      box-shadow: 0px 1px 3px 1px rgba(0, 0, 0, 0.15);\n",
              "      filter: drop-shadow(0px 1px 2px rgba(0, 0, 0, 0.3));\n",
              "      fill: #FFFFFF;\n",
              "    }\n",
              "  </style>\n",
              "\n",
              "      <script>\n",
              "        const buttonEl =\n",
              "          document.querySelector('#df-79d3dfad-9b0d-408a-b7c1-75ee17ef046d button.colab-df-convert');\n",
              "        buttonEl.style.display =\n",
              "          google.colab.kernel.accessAllowed ? 'block' : 'none';\n",
              "\n",
              "        async function convertToInteractive(key) {\n",
              "          const element = document.querySelector('#df-79d3dfad-9b0d-408a-b7c1-75ee17ef046d');\n",
              "          const dataTable =\n",
              "            await google.colab.kernel.invokeFunction('convertToInteractive',\n",
              "                                                     [key], {});\n",
              "          if (!dataTable) return;\n",
              "\n",
              "          const docLinkHtml = 'Like what you see? Visit the ' +\n",
              "            '<a target=\"_blank\" href=https://colab.research.google.com/notebooks/data_table.ipynb>data table notebook</a>'\n",
              "            + ' to learn more about interactive tables.';\n",
              "          element.innerHTML = '';\n",
              "          dataTable['output_type'] = 'display_data';\n",
              "          await google.colab.output.renderOutput(dataTable, element);\n",
              "          const docLink = document.createElement('div');\n",
              "          docLink.innerHTML = docLinkHtml;\n",
              "          element.appendChild(docLink);\n",
              "        }\n",
              "      </script>\n",
              "    </div>\n",
              "  </div>\n",
              "  "
            ]
          },
          "metadata": {}
        }
      ]
    },
    {
      "cell_type": "code",
      "source": [
        "import sklearn.metrics as metrics\n",
        "results_train1=[]\n",
        "for i in range(0,101):\n",
        "    y_pred = y_train_dtc[:,1]\n",
        "    y_hat = [1 if pred >= i/100 else 0 for pred in y_pred]\n",
        "    tn, fp, fn, tp = metrics.confusion_matrix(y_train, y_hat).ravel()\n",
        "    recall = metrics.recall_score(y_train, y_hat)\n",
        "    precision = metrics.precision_score(y_train, y_hat)\n",
        "    accuracy = metrics.accuracy_score(y_train, y_hat)\n",
        "    f1 = metrics.f1_score(y_train, y_hat)\n",
        "    f1_beta_10 = metrics.fbeta_score(y_train, y_hat, beta=10)\n",
        "    auc = metrics.roc_auc_score(y_train, y_pred)\n",
        "    au_prc = metrics.average_precision_score(y_train, y_pred)\n",
        "    results_train1.append([i/100, tp, fp, fn, tn, precision, recall, f1, f1_beta_10, auc, au_prc])\n",
        "\n",
        "    \n",
        "print('\\nSaved Diagnostincs: ')\n",
        "results__train1_df = pd.DataFrame(results_train1,columns = ['level', 'tp', 'fp', 'fn', 'tn', 'precision', 'recall', 'f1', 'f1_beta_10', 'auc', 'au_prc'])\n",
        "display(results__train1_df)"
      ],
      "metadata": {
        "colab": {
          "base_uri": "https://localhost:8080/",
          "height": 522
        },
        "id": "XVtA9yCTdeQR",
        "outputId": "dee50887-05f1-4cec-f11b-78ef59f86baa"
      },
      "execution_count": 163,
      "outputs": [
        {
          "output_type": "stream",
          "name": "stdout",
          "text": [
            "\n",
            "Saved Diagnostincs: \n"
          ]
        },
        {
          "output_type": "display_data",
          "data": {
            "text/plain": [
              "     level     tp     fp    fn  ...        f1  f1_beta_10       auc    au_prc\n",
              "0     0.00  10270  63892     0  ...  0.243273    0.941978  0.983572  0.879679\n",
              "1     0.01  10270   4383     0  ...  0.824138    0.995792  0.983572  0.879679\n",
              "2     0.02  10270   4383     0  ...  0.824138    0.995792  0.983572  0.879679\n",
              "3     0.03  10270   4383     0  ...  0.824138    0.995792  0.983572  0.879679\n",
              "4     0.04  10270   4383     0  ...  0.824138    0.995792  0.983572  0.879679\n",
              "..     ...    ...    ...   ...  ...       ...         ...       ...       ...\n",
              "96    0.96   1118      0  9152  ...  0.196347    0.109830  0.983572  0.879679\n",
              "97    0.97   1118      0  9152  ...  0.196347    0.109830  0.983572  0.879679\n",
              "98    0.98   1118      0  9152  ...  0.196347    0.109830  0.983572  0.879679\n",
              "99    0.99   1118      0  9152  ...  0.196347    0.109830  0.983572  0.879679\n",
              "100   1.00   1118      0  9152  ...  0.196347    0.109830  0.983572  0.879679\n",
              "\n",
              "[101 rows x 11 columns]"
            ],
            "text/html": [
              "\n",
              "  <div id=\"df-b0a472dd-defb-44fa-be5d-d7a8d6f4a075\">\n",
              "    <div class=\"colab-df-container\">\n",
              "      <div>\n",
              "<style scoped>\n",
              "    .dataframe tbody tr th:only-of-type {\n",
              "        vertical-align: middle;\n",
              "    }\n",
              "\n",
              "    .dataframe tbody tr th {\n",
              "        vertical-align: top;\n",
              "    }\n",
              "\n",
              "    .dataframe thead th {\n",
              "        text-align: right;\n",
              "    }\n",
              "</style>\n",
              "<table border=\"1\" class=\"dataframe\">\n",
              "  <thead>\n",
              "    <tr style=\"text-align: right;\">\n",
              "      <th></th>\n",
              "      <th>level</th>\n",
              "      <th>tp</th>\n",
              "      <th>fp</th>\n",
              "      <th>fn</th>\n",
              "      <th>tn</th>\n",
              "      <th>precision</th>\n",
              "      <th>recall</th>\n",
              "      <th>f1</th>\n",
              "      <th>f1_beta_10</th>\n",
              "      <th>auc</th>\n",
              "      <th>au_prc</th>\n",
              "    </tr>\n",
              "  </thead>\n",
              "  <tbody>\n",
              "    <tr>\n",
              "      <th>0</th>\n",
              "      <td>0.00</td>\n",
              "      <td>10270</td>\n",
              "      <td>63892</td>\n",
              "      <td>0</td>\n",
              "      <td>0</td>\n",
              "      <td>0.138481</td>\n",
              "      <td>1.000000</td>\n",
              "      <td>0.243273</td>\n",
              "      <td>0.941978</td>\n",
              "      <td>0.983572</td>\n",
              "      <td>0.879679</td>\n",
              "    </tr>\n",
              "    <tr>\n",
              "      <th>1</th>\n",
              "      <td>0.01</td>\n",
              "      <td>10270</td>\n",
              "      <td>4383</td>\n",
              "      <td>0</td>\n",
              "      <td>59509</td>\n",
              "      <td>0.700880</td>\n",
              "      <td>1.000000</td>\n",
              "      <td>0.824138</td>\n",
              "      <td>0.995792</td>\n",
              "      <td>0.983572</td>\n",
              "      <td>0.879679</td>\n",
              "    </tr>\n",
              "    <tr>\n",
              "      <th>2</th>\n",
              "      <td>0.02</td>\n",
              "      <td>10270</td>\n",
              "      <td>4383</td>\n",
              "      <td>0</td>\n",
              "      <td>59509</td>\n",
              "      <td>0.700880</td>\n",
              "      <td>1.000000</td>\n",
              "      <td>0.824138</td>\n",
              "      <td>0.995792</td>\n",
              "      <td>0.983572</td>\n",
              "      <td>0.879679</td>\n",
              "    </tr>\n",
              "    <tr>\n",
              "      <th>3</th>\n",
              "      <td>0.03</td>\n",
              "      <td>10270</td>\n",
              "      <td>4383</td>\n",
              "      <td>0</td>\n",
              "      <td>59509</td>\n",
              "      <td>0.700880</td>\n",
              "      <td>1.000000</td>\n",
              "      <td>0.824138</td>\n",
              "      <td>0.995792</td>\n",
              "      <td>0.983572</td>\n",
              "      <td>0.879679</td>\n",
              "    </tr>\n",
              "    <tr>\n",
              "      <th>4</th>\n",
              "      <td>0.04</td>\n",
              "      <td>10270</td>\n",
              "      <td>4383</td>\n",
              "      <td>0</td>\n",
              "      <td>59509</td>\n",
              "      <td>0.700880</td>\n",
              "      <td>1.000000</td>\n",
              "      <td>0.824138</td>\n",
              "      <td>0.995792</td>\n",
              "      <td>0.983572</td>\n",
              "      <td>0.879679</td>\n",
              "    </tr>\n",
              "    <tr>\n",
              "      <th>...</th>\n",
              "      <td>...</td>\n",
              "      <td>...</td>\n",
              "      <td>...</td>\n",
              "      <td>...</td>\n",
              "      <td>...</td>\n",
              "      <td>...</td>\n",
              "      <td>...</td>\n",
              "      <td>...</td>\n",
              "      <td>...</td>\n",
              "      <td>...</td>\n",
              "      <td>...</td>\n",
              "    </tr>\n",
              "    <tr>\n",
              "      <th>96</th>\n",
              "      <td>0.96</td>\n",
              "      <td>1118</td>\n",
              "      <td>0</td>\n",
              "      <td>9152</td>\n",
              "      <td>63892</td>\n",
              "      <td>1.000000</td>\n",
              "      <td>0.108861</td>\n",
              "      <td>0.196347</td>\n",
              "      <td>0.109830</td>\n",
              "      <td>0.983572</td>\n",
              "      <td>0.879679</td>\n",
              "    </tr>\n",
              "    <tr>\n",
              "      <th>97</th>\n",
              "      <td>0.97</td>\n",
              "      <td>1118</td>\n",
              "      <td>0</td>\n",
              "      <td>9152</td>\n",
              "      <td>63892</td>\n",
              "      <td>1.000000</td>\n",
              "      <td>0.108861</td>\n",
              "      <td>0.196347</td>\n",
              "      <td>0.109830</td>\n",
              "      <td>0.983572</td>\n",
              "      <td>0.879679</td>\n",
              "    </tr>\n",
              "    <tr>\n",
              "      <th>98</th>\n",
              "      <td>0.98</td>\n",
              "      <td>1118</td>\n",
              "      <td>0</td>\n",
              "      <td>9152</td>\n",
              "      <td>63892</td>\n",
              "      <td>1.000000</td>\n",
              "      <td>0.108861</td>\n",
              "      <td>0.196347</td>\n",
              "      <td>0.109830</td>\n",
              "      <td>0.983572</td>\n",
              "      <td>0.879679</td>\n",
              "    </tr>\n",
              "    <tr>\n",
              "      <th>99</th>\n",
              "      <td>0.99</td>\n",
              "      <td>1118</td>\n",
              "      <td>0</td>\n",
              "      <td>9152</td>\n",
              "      <td>63892</td>\n",
              "      <td>1.000000</td>\n",
              "      <td>0.108861</td>\n",
              "      <td>0.196347</td>\n",
              "      <td>0.109830</td>\n",
              "      <td>0.983572</td>\n",
              "      <td>0.879679</td>\n",
              "    </tr>\n",
              "    <tr>\n",
              "      <th>100</th>\n",
              "      <td>1.00</td>\n",
              "      <td>1118</td>\n",
              "      <td>0</td>\n",
              "      <td>9152</td>\n",
              "      <td>63892</td>\n",
              "      <td>1.000000</td>\n",
              "      <td>0.108861</td>\n",
              "      <td>0.196347</td>\n",
              "      <td>0.109830</td>\n",
              "      <td>0.983572</td>\n",
              "      <td>0.879679</td>\n",
              "    </tr>\n",
              "  </tbody>\n",
              "</table>\n",
              "<p>101 rows × 11 columns</p>\n",
              "</div>\n",
              "      <button class=\"colab-df-convert\" onclick=\"convertToInteractive('df-b0a472dd-defb-44fa-be5d-d7a8d6f4a075')\"\n",
              "              title=\"Convert this dataframe to an interactive table.\"\n",
              "              style=\"display:none;\">\n",
              "        \n",
              "  <svg xmlns=\"http://www.w3.org/2000/svg\" height=\"24px\"viewBox=\"0 0 24 24\"\n",
              "       width=\"24px\">\n",
              "    <path d=\"M0 0h24v24H0V0z\" fill=\"none\"/>\n",
              "    <path d=\"M18.56 5.44l.94 2.06.94-2.06 2.06-.94-2.06-.94-.94-2.06-.94 2.06-2.06.94zm-11 1L8.5 8.5l.94-2.06 2.06-.94-2.06-.94L8.5 2.5l-.94 2.06-2.06.94zm10 10l.94 2.06.94-2.06 2.06-.94-2.06-.94-.94-2.06-.94 2.06-2.06.94z\"/><path d=\"M17.41 7.96l-1.37-1.37c-.4-.4-.92-.59-1.43-.59-.52 0-1.04.2-1.43.59L10.3 9.45l-7.72 7.72c-.78.78-.78 2.05 0 2.83L4 21.41c.39.39.9.59 1.41.59.51 0 1.02-.2 1.41-.59l7.78-7.78 2.81-2.81c.8-.78.8-2.07 0-2.86zM5.41 20L4 18.59l7.72-7.72 1.47 1.35L5.41 20z\"/>\n",
              "  </svg>\n",
              "      </button>\n",
              "      \n",
              "  <style>\n",
              "    .colab-df-container {\n",
              "      display:flex;\n",
              "      flex-wrap:wrap;\n",
              "      gap: 12px;\n",
              "    }\n",
              "\n",
              "    .colab-df-convert {\n",
              "      background-color: #E8F0FE;\n",
              "      border: none;\n",
              "      border-radius: 50%;\n",
              "      cursor: pointer;\n",
              "      display: none;\n",
              "      fill: #1967D2;\n",
              "      height: 32px;\n",
              "      padding: 0 0 0 0;\n",
              "      width: 32px;\n",
              "    }\n",
              "\n",
              "    .colab-df-convert:hover {\n",
              "      background-color: #E2EBFA;\n",
              "      box-shadow: 0px 1px 2px rgba(60, 64, 67, 0.3), 0px 1px 3px 1px rgba(60, 64, 67, 0.15);\n",
              "      fill: #174EA6;\n",
              "    }\n",
              "\n",
              "    [theme=dark] .colab-df-convert {\n",
              "      background-color: #3B4455;\n",
              "      fill: #D2E3FC;\n",
              "    }\n",
              "\n",
              "    [theme=dark] .colab-df-convert:hover {\n",
              "      background-color: #434B5C;\n",
              "      box-shadow: 0px 1px 3px 1px rgba(0, 0, 0, 0.15);\n",
              "      filter: drop-shadow(0px 1px 2px rgba(0, 0, 0, 0.3));\n",
              "      fill: #FFFFFF;\n",
              "    }\n",
              "  </style>\n",
              "\n",
              "      <script>\n",
              "        const buttonEl =\n",
              "          document.querySelector('#df-b0a472dd-defb-44fa-be5d-d7a8d6f4a075 button.colab-df-convert');\n",
              "        buttonEl.style.display =\n",
              "          google.colab.kernel.accessAllowed ? 'block' : 'none';\n",
              "\n",
              "        async function convertToInteractive(key) {\n",
              "          const element = document.querySelector('#df-b0a472dd-defb-44fa-be5d-d7a8d6f4a075');\n",
              "          const dataTable =\n",
              "            await google.colab.kernel.invokeFunction('convertToInteractive',\n",
              "                                                     [key], {});\n",
              "          if (!dataTable) return;\n",
              "\n",
              "          const docLinkHtml = 'Like what you see? Visit the ' +\n",
              "            '<a target=\"_blank\" href=https://colab.research.google.com/notebooks/data_table.ipynb>data table notebook</a>'\n",
              "            + ' to learn more about interactive tables.';\n",
              "          element.innerHTML = '';\n",
              "          dataTable['output_type'] = 'display_data';\n",
              "          await google.colab.output.renderOutput(dataTable, element);\n",
              "          const docLink = document.createElement('div');\n",
              "          docLink.innerHTML = docLinkHtml;\n",
              "          element.appendChild(docLink);\n",
              "        }\n",
              "      </script>\n",
              "    </div>\n",
              "  </div>\n",
              "  "
            ]
          },
          "metadata": {}
        }
      ]
    },
    {
      "cell_type": "code",
      "source": [
        "results__train_df.to_csv('Loan_prediction_Results.csv', index = False)"
      ],
      "metadata": {
        "id": "1vsuOlA-dlMU"
      },
      "execution_count": 164,
      "outputs": []
    },
    {
      "cell_type": "code",
      "source": [
        "results__train1_df.to_csv('Loan_prediction_Results1.csv', index = False)"
      ],
      "metadata": {
        "id": "fKDmbKtEdpGD"
      },
      "execution_count": 165,
      "outputs": []
    },
    {
      "cell_type": "markdown",
      "source": [
        "##Fitting of Baseline Model : Random Forest Classifier"
      ],
      "metadata": {
        "id": "7tv9X8XHdyPJ"
      }
    },
    {
      "cell_type": "code",
      "source": [
        "from sklearn.ensemble import RandomForestClassifier\n",
        "model2 = RandomForestClassifier(n_estimators= 10, criterion=\"entropy\")\n",
        "model2.fit(X_train, y_train)\n",
        "y_pred_rfc = model2.predict_proba(X_test)"
      ],
      "metadata": {
        "colab": {
          "base_uri": "https://localhost:8080/"
        },
        "id": "QQfSaNV3dt61",
        "outputId": "72e22e74-73aa-4f2c-b935-234b11df3782"
      },
      "execution_count": 166,
      "outputs": [
        {
          "output_type": "stream",
          "name": "stderr",
          "text": [
            "/usr/local/lib/python3.8/dist-packages/sklearn/utils/validation.py:1688: FutureWarning: Feature names only support names that are all strings. Got feature names with dtypes: ['int', 'str']. An error will be raised in 1.2.\n",
            "  warnings.warn(\n",
            "/usr/local/lib/python3.8/dist-packages/sklearn/utils/validation.py:1688: FutureWarning: Feature names only support names that are all strings. Got feature names with dtypes: ['int', 'str']. An error will be raised in 1.2.\n",
            "  warnings.warn(\n"
          ]
        }
      ]
    },
    {
      "cell_type": "code",
      "source": [
        "X = final_loan_df.drop(['Risk_Flag','Age_Group1', 'Income_Category1', 'Job_yrs1'],axis=1)\n",
        "y = final_loan_df.Risk_Flag"
      ],
      "metadata": {
        "id": "Tk_giccdd3Fp"
      },
      "execution_count": 167,
      "outputs": []
    },
    {
      "cell_type": "code",
      "source": [
        "from sklearn.model_selection import train_test_split\n",
        "from sklearn.metrics import classification_report\n",
        "X_train, X_test, y_train, y_test = train_test_split(X, y, test_size = 0.2, random_state = 0)"
      ],
      "metadata": {
        "id": "LHGn8bwMd4tQ"
      },
      "execution_count": 168,
      "outputs": []
    },
    {
      "cell_type": "code",
      "source": [
        "import xgboost as xgb\n",
        "xgb = xgb.XGBClassifier(learning_rate = 0.1,alpha = 10, n_estimators = 1000)\n",
        "xgb.fit(X_train, y_train)\n",
        "y1_pred = xgb.predict(X_test)"
      ],
      "metadata": {
        "id": "UB2mCFbZd6Rf"
      },
      "execution_count": 169,
      "outputs": []
    },
    {
      "cell_type": "code",
      "source": [
        "print(classification_report(y_test,y1_pred))"
      ],
      "metadata": {
        "colab": {
          "base_uri": "https://localhost:8080/"
        },
        "id": "zpw0kkW_d9gd",
        "outputId": "3c656a6b-3037-4768-f379-1a3980aec6ea"
      },
      "execution_count": 170,
      "outputs": [
        {
          "output_type": "stream",
          "name": "stdout",
          "text": [
            "              precision    recall  f1-score   support\n",
            "\n",
            "         0.0       0.88      0.99      0.94     16030\n",
            "         1.0       0.82      0.15      0.26      2511\n",
            "\n",
            "    accuracy                           0.88     18541\n",
            "   macro avg       0.85      0.57      0.60     18541\n",
            "weighted avg       0.87      0.88      0.84     18541\n",
            "\n"
          ]
        }
      ]
    },
    {
      "cell_type": "code",
      "source": [],
      "metadata": {
        "id": "M3ajmm9Zd_My"
      },
      "execution_count": null,
      "outputs": []
    }
  ]
}